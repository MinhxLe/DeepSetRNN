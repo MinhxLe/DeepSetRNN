{
 "cells": [
  {
   "cell_type": "code",
   "execution_count": 92,
   "metadata": {},
   "outputs": [],
   "source": [
    "from src.data import math_tags\n",
    "import numpy as np\n",
    "import torch\n",
    "import torch.nn as nn\n",
    "import torch.nn.functional as F\n",
    "import torch.optim as optim\n",
    "import logging"
   ]
  },
  {
   "cell_type": "code",
   "execution_count": 88,
   "metadata": {},
   "outputs": [],
   "source": [
    "_LOGGER = logging.getLogger('test')\n",
    "_LOGGER.setLevel(logging.DEBUG)"
   ]
  },
  {
   "cell_type": "code",
   "execution_count": 89,
   "metadata": {},
   "outputs": [],
   "source": [
    "tag_sequences = math_tags.get_sequences()"
   ]
  },
  {
   "cell_type": "code",
   "execution_count": 4,
   "metadata": {},
   "outputs": [],
   "source": [
    "#getting 1 hot representation of sequences\n",
    "#for each sequence with length N, you will have a corresponding tensor with shaep N by N_ELEMENTS representing set of sequences\n",
    "one_hot_sequences = []\n",
    "for sequence in tag_sequences:\n",
    "    one_hot_sequences.append(torch.cat([torch.zeros(1, math_tags.N_ELEMENTS, dtype=torch.float).\\\n",
    "     scatter(1, torch.LongTensor(elm_set).view(1,-1), 1) for elm_set in sequence]))"
   ]
  },
  {
   "cell_type": "code",
   "execution_count": 90,
   "metadata": {},
   "outputs": [],
   "source": [
    "n_epoch = 50\n",
    "n_seq = 100\n",
    "\n",
    "split = int(n_seq*0.8)\n",
    "train_sequences = tag_sequences[:split]\n",
    "train_targets =  one_hot_sequences[:split]\n",
    "\n",
    "test_sequences = tag_sequences[split:n_seq]\n",
    "test_targets = one_hot_sequences[split:n_seq]"
   ]
  },
  {
   "cell_type": "code",
   "execution_count": 95,
   "metadata": {},
   "outputs": [],
   "source": [
    "from src.model.set_sequence import SetSequenceModel\n",
    "\n",
    "tag_embedding = torch.load('data/processed/math_tags_embedding_normalized.pt')\n",
    "HIDDEN_DIM = 100\n",
    "EMBEDDING_DIM = 10\n",
    "model = SetSequenceModel(hidden_dim=HIDDEN_DIM,\n",
    "                         n_class=math_tags.N_ELEMENTS,\n",
    "                         embedding_dim=EMBEDDING_DIM)"
   ]
  },
  {
   "cell_type": "code",
   "execution_count": 97,
   "metadata": {},
   "outputs": [
    {
     "name": "stderr",
     "output_type": "stream",
     "text": [
      "INFO:test:Validation Loss: 0.6952255964279175\n"
     ]
    }
   ],
   "source": [
    "test_losses = []\n",
    "for sequence, target in zip(test_sequences, test_targets):\n",
    "    model.hidden = model.init_hidden()\n",
    "    logits = model(sequence)\n",
    "    loss = loss_fn(logits[1:].view(-1),target[1:].view(-1))\n",
    "    test_losses.append(loss.data)\n",
    "_LOGGER.info(\"Validation Loss: {}\".format(np.mean(test_losses)))"
   ]
  },
  {
   "cell_type": "code",
   "execution_count": 98,
   "metadata": {},
   "outputs": [
    {
     "name": "stderr",
     "output_type": "stream",
     "text": [
      "DEBUG:test:epoch 0: 0.6885996460914612\n",
      "DEBUG:test:epoch 1: 0.6672942638397217\n",
      "DEBUG:test:epoch 2: 0.6097691655158997\n",
      "DEBUG:test:epoch 3: 0.3967171311378479\n",
      "DEBUG:test:epoch 4: 0.19278714060783386\n",
      "DEBUG:test:epoch 5: 0.11599986255168915\n",
      "DEBUG:test:epoch 6: 0.08228222280740738\n",
      "DEBUG:test:epoch 7: 0.06395518034696579\n",
      "DEBUG:test:epoch 8: 0.05256105586886406\n",
      "DEBUG:test:epoch 9: 0.044831085950136185\n",
      "DEBUG:test:epoch 10: 0.03926101326942444\n",
      "DEBUG:test:epoch 11: 0.03506654500961304\n",
      "DEBUG:test:epoch 12: 0.03180012106895447\n",
      "DEBUG:test:epoch 13: 0.02918834611773491\n",
      "DEBUG:test:epoch 14: 0.027055028825998306\n",
      "DEBUG:test:epoch 15: 0.025281619280576706\n",
      "DEBUG:test:epoch 16: 0.023785516619682312\n",
      "DEBUG:test:epoch 17: 0.02250741980969906\n",
      "DEBUG:test:epoch 18: 0.02140369452536106\n",
      "DEBUG:test:epoch 19: 0.020441533997654915\n",
      "DEBUG:test:epoch 20: 0.019595813006162643\n",
      "DEBUG:test:epoch 21: 0.018846968188881874\n",
      "DEBUG:test:epoch 22: 0.018179554492235184\n",
      "DEBUG:test:epoch 23: 0.017581215128302574\n",
      "DEBUG:test:epoch 24: 0.017041947692632675\n",
      "DEBUG:test:epoch 25: 0.016553577035665512\n",
      "DEBUG:test:epoch 26: 0.016109352931380272\n",
      "DEBUG:test:epoch 27: 0.01570366695523262\n",
      "DEBUG:test:epoch 28: 0.01533180195838213\n",
      "DEBUG:test:epoch 29: 0.014989778399467468\n",
      "DEBUG:test:epoch 30: 0.014674211852252483\n",
      "DEBUG:test:epoch 31: 0.014382204040884972\n",
      "DEBUG:test:epoch 32: 0.014111265540122986\n",
      "DEBUG:test:epoch 33: 0.013859234750270844\n",
      "DEBUG:test:epoch 34: 0.013624240644276142\n",
      "DEBUG:test:epoch 35: 0.013404643163084984\n",
      "DEBUG:test:epoch 36: 0.013199009001255035\n",
      "DEBUG:test:epoch 37: 0.013006070628762245\n",
      "DEBUG:test:epoch 38: 0.01282471138983965\n",
      "DEBUG:test:epoch 39: 0.012653941288590431\n",
      "DEBUG:test:epoch 40: 0.012492874637246132\n",
      "DEBUG:test:epoch 41: 0.012340723536908627\n",
      "DEBUG:test:epoch 42: 0.01219678483903408\n",
      "DEBUG:test:epoch 43: 0.012060421518981457\n",
      "DEBUG:test:epoch 44: 0.01193106360733509\n",
      "DEBUG:test:epoch 45: 0.01180819608271122\n",
      "DEBUG:test:epoch 46: 0.011691351421177387\n",
      "DEBUG:test:epoch 47: 0.011580104008316994\n",
      "DEBUG:test:epoch 48: 0.011474072001874447\n",
      "DEBUG:test:epoch 49: 0.011372902430593967\n"
     ]
    }
   ],
   "source": [
    "loss_fn = nn.BCEWithLogitsLoss()\n",
    "optimizer = optim.SGD(model.parameters(), lr=0.1, momentum=.9)\n",
    "losses = []\n",
    "\n",
    "for epoch in range(n_epoch):\n",
    "    curr_losses = []\n",
    "    for sequence, target in zip(train_sequences,\n",
    "                                train_targets):\n",
    "        model.zero_grad()\n",
    "        model.hidden = model.init_hidden()\n",
    "        \n",
    "        logits = model(sequence)\n",
    "        loss = loss_fn(logits[1:].view(-1),target[1:].view(-1))\n",
    "        curr_losses.append(loss.data)\n",
    "        loss.backward()\n",
    "        optimizer.step()\n",
    "    mean_loss = np.mean(curr_losses)\n",
    "    losses.append(mean_loss)\n",
    "    _LOGGER.debug(\"epoch {}: {}\".format(epoch, mean_loss))"
   ]
  },
  {
   "cell_type": "code",
   "execution_count": 99,
   "metadata": {},
   "outputs": [
    {
     "name": "stderr",
     "output_type": "stream",
     "text": [
      "INFO:test:Validation Loss: 0.012037409469485283\n"
     ]
    }
   ],
   "source": [
    "test_losses = []\n",
    "for sequence, target in zip(test_sequences, test_targets):\n",
    "    model.hidden = model.init_hidden()\n",
    "    logits = model(sequence)\n",
    "    loss = loss_fn(logits[1:].view(-1),target[1:].view(-1))\n",
    "    test_losses.append(loss.data)\n",
    "_LOGGER.info(\"Validation Loss: {}\".format(np.mean(test_losses)))"
   ]
  },
  {
   "cell_type": "code",
   "execution_count": 130,
   "metadata": {},
   "outputs": [
    {
     "name": "stdout",
     "output_type": "stream",
     "text": [
      "[[37], [136, 154, 32], [129, 136, 32], [189, 16], [189, 71, 16, 89], [42, 343, 289, 665], [602, 489], [69], [136, 16], [136, 1044]]\n",
      "[[ 788   93  551 ...  136   52    4]\n",
      " [ 788   93  551 ...  136   52    4]\n",
      " [ 788  551   93 ...  136   52    4]\n",
      " ...\n",
      " [ 221  788 1439 ...  136   52    4]\n",
      " [ 688  956 1601 ...  136   52    4]\n",
      " [ 178    8  828 ...  136   52    4]]\n"
     ]
    }
   ],
   "source": [
    "i = 0\n",
    "logits = model(test_sequences[i])\n",
    "prediction = torch.sigmoid(model(test_sequences[i]))"
   ]
  },
  {
   "cell_type": "code",
   "execution_count": 135,
   "metadata": {},
   "outputs": [
    {
     "name": "stdout",
     "output_type": "stream",
     "text": [
      "[[37], [136, 154, 32], [129, 136, 32], [189, 16], [189, 71, 16, 89], [42, 343, 289, 665], [602, 489], [69], [136, 16], [136, 1044]]\n"
     ]
    }
   ],
   "source": [
    "print(test_sequences[i])"
   ]
  },
  {
   "cell_type": "code",
   "execution_count": 133,
   "metadata": {},
   "outputs": [
    {
     "data": {
      "text/plain": [
       "array([[  4,  52, 136,  16,  81,  37, 132,   5,  21, 216,  71,  15, 171],\n",
       "       [  4,  52, 136,  15,  16,  38,  81, 112,  85, 132,  55,  71,  21],\n",
       "       [  4,  52, 136,  15,  38,  16, 112,  81,  55,  85,  71, 216, 132],\n",
       "       [  4,  52, 136,  15,  38,  16, 112,  81,  55,  85, 216,  71, 132],\n",
       "       [  4,  52, 136,  15,  38,  16, 112,  81,  55,  85, 216,  71, 132],\n",
       "       [  4,  52, 136,  15,  38,  16, 112,  81,  55,  85, 216,  71, 132],\n",
       "       [  4,  52, 136,  15,  38,  16, 112,  81,  55, 216,  85,  71, 132],\n",
       "       [  4,  52, 136,  15,  38,  16, 112,  81,  55,  85, 216,  71, 132],\n",
       "       [  4,  52, 136,  15,  38,  16, 112,  81,  55, 216,  85,  71, 132],\n",
       "       [  4,  52, 136,  15,  38,  16, 112,  81,  55, 216,  85,  71, 132]])"
      ]
     },
     "execution_count": 133,
     "metadata": {},
     "output_type": "execute_result"
    }
   ],
   "source": [
    "np.argsort(prediction.data.numpy(),axis=1)[:,:1650:-1]"
   ]
  },
  {
   "cell_type": "code",
   "execution_count": 139,
   "metadata": {},
   "outputs": [
    {
     "data": {
      "text/plain": [
       "0.41964766"
      ]
     },
     "execution_count": 139,
     "metadata": {},
     "output_type": "execute_result"
    }
   ],
   "source": [
    "np.max(prediction.data.numpy())"
   ]
  },
  {
   "cell_type": "code",
   "execution_count": null,
   "metadata": {},
   "outputs": [],
   "source": []
  }
 ],
 "metadata": {
  "kernelspec": {
   "display_name": "Python 3",
   "language": "python",
   "name": "python3"
  },
  "language_info": {
   "codemirror_mode": {
    "name": "ipython",
    "version": 3
   },
   "file_extension": ".py",
   "mimetype": "text/x-python",
   "name": "python",
   "nbconvert_exporter": "python",
   "pygments_lexer": "ipython3",
   "version": "3.7.0"
  }
 },
 "nbformat": 4,
 "nbformat_minor": 2
}
