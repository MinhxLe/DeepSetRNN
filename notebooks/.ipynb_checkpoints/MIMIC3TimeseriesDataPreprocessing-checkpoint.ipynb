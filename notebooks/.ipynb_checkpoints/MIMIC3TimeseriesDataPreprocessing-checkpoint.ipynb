{
 "cells": [
  {
   "cell_type": "code",
   "execution_count": 218,
   "metadata": {},
   "outputs": [
    {
     "name": "stdout",
     "output_type": "stream",
     "text": [
      "The autoreload extension is already loaded. To reload it, use:\n",
      "  %reload_ext autoreload\n",
      "/u/home/m/minhle/Research/Sriram/DeepSetRNN\n"
     ]
    }
   ],
   "source": [
    "%load_ext autoreload\n",
    "%autoreload 2\n",
    "%cd ~/Research/Sriram/DeepSetRNN"
   ]
  },
  {
   "cell_type": "code",
   "execution_count": 219,
   "metadata": {},
   "outputs": [],
   "source": [
    "import pandas as pd\n",
    "import numpy as np\n",
    "import os\n",
    "import re\n",
    "import string\n",
    "from collections import namedtuple"
   ]
  },
  {
   "cell_type": "markdown",
   "metadata": {},
   "source": [
    "# DATA IMPUTATION"
   ]
  },
  {
   "cell_type": "code",
   "execution_count": null,
   "metadata": {},
   "outputs": [],
   "source": [
    "#data imputation by mean of the entire columns"
   ]
  },
  {
   "cell_type": "code",
   "execution_count": 229,
   "metadata": {},
   "outputs": [],
   "source": [
    "data_set = 'test'"
   ]
  },
  {
   "cell_type": "code",
   "execution_count": 232,
   "metadata": {},
   "outputs": [],
   "source": [
    "_ROOT_DATA_PATH = 'data/MIMIC3database/'\n",
    "_RAW_PERSON_DATA_PATH = os.path.join(_ROOT_DATA_PATH, 'MIMIC3EachPerson')\n",
    "_PROCESSED_DATA_PATH = os.path.join(_ROOT_DATA_PATH, 'processed')\n",
    "_PROCESSED_PERSON_DATA_PATH = os.path.join(_PROCESSED_DATA_PATH, 'MIMIC3EachPerson')"
   ]
  },
  {
   "cell_type": "code",
   "execution_count": 233,
   "metadata": {},
   "outputs": [],
   "source": [
    "features_of_interest = [\n",
    "    'Hours',\n",
    "    'Capillary refill rate',\n",
    "    'Diastolic blood pressure',\n",
    "    'Systolic blood pressure',\n",
    "    'Fraction inspired oxygen',\n",
    "    'Glascow coma scale total',\n",
    "    'Respiratory rate',\n",
    "    'Temperature',\n",
    "    'Glucose',\n",
    "    'Heart Rate',\n",
    "    'Oxygen saturation',\n",
    "    'pH']\n",
    "\n",
    "def preprocess_time_series(raw_fname):\n",
    "    df = pd.read_csv(raw_fname)\n",
    "    df = df[features_of_interest]\n",
    "    #df['Datetime']= pd.to_datetime(df['Hours']*1000000000*60*60)\n",
    "    #df = df.set_index(pd.DatetimeIndex(df['Datetime']))\n",
    "    #df.drop(['Hours', 'Datetime'], axis=1, inplace=True)\n",
    "    df = df.fillna(df.mean().fillna(0))\n",
    "    return df"
   ]
  },
  {
   "cell_type": "code",
   "execution_count": 234,
   "metadata": {},
   "outputs": [],
   "source": [
    "individuals_df = pd.read_csv(individuals_path)\n",
    "\n",
    "append_header = True\n",
    "with open(os.path.join(_PROCESSED_PERSON_DATA_PATH, '{}_timeseries.csv'.format(data_set)), 'w') as main_csv_file:\n",
    "    for individual in individuals_df['SUBJECT_ID'][:10]:\n",
    "        individual = str(individual)\n",
    "        raw_individual_root_path = os.path.join(_RAW_PERSON_DATA_PATH, data_set, str(individual))\n",
    "        processed_individual_root_path = os.path.join(_PROCESSED_PERSON_DATA_PATH, data_set, str(individual))\n",
    "        if not os.path.isdir(processed_individual_root_path):\n",
    "            os.mkdir(processed_individual_root_path)\n",
    "        admission_num = 1\n",
    "        for file in os.listdir(raw_individual_root_path):\n",
    "            if file.endswith(\"_timeseries.csv\"):\n",
    "                df = preprocess_time_series(os.path.join(raw_individual_root_path, file))\n",
    "                \n",
    "                df['SUBJECT_ID'] = individual\n",
    "                df['ADMISSION_NUM'] = admission_num  \n",
    "                admission_num += 1\n",
    "\n",
    "                df.to_csv(os.path.join(processed_individual_root_path, file))\n",
    "                df.to_csv(main_csv_file, header=append_header)\n",
    "                append_header = False\n"
   ]
  },
  {
   "cell_type": "code",
   "execution_count": 214,
   "metadata": {},
   "outputs": [],
   "source": [
    "individuals_path = os.path.join(_PROCESSED_PERSON_DATA_PATH, '{}_individuals.txt'.format(data_set))\n",
    "individuals_df = pd.read_csv(individuals_path)\n",
    "pattern = re.compile('^episode[0-9]+.csv$')\n",
    "\n",
    "append_header = True\n",
    "with open(os.path.join(_PROCESSED_PERSON_DATA_PATH, '{}_labels.csv'.format(data_set)), 'w') as main_csv_file:\n",
    "    for individual in individuals_df['SUBJECT_ID'][:10]:\n",
    "        individual = str(individual)\n",
    "        raw_individual_root_path = os.path.join(_RAW_PERSON_DATA_PATH, data_set, str(individual))\n",
    "        processed_individual_root_path = os.path.join(_PROCESSED_PERSON_DATA_PATH, data_set, str(individual))\n",
    "        if not os.path.isdir(processed_individual_root_path):\n",
    "            os.mkdir(processed_individual_root_path)\n",
    "        admission_num = 1\n",
    "        for file in os.listdir(raw_individual_root_path):\n",
    "            if pattern.match(file):\n",
    "                df = pd.read_csv(os.path.join(raw_individual_root_path, file))\n",
    "                \n",
    "                df['SUBJECT_ID'] = individual\n",
    "                df['ADMISSION_NUM'] = admission_num  \n",
    "                admission_num += 1\n",
    "                df.to_csv(main_csv_file, header=append_header)\n",
    "                append_header = False\n"
   ]
  }
 ],
 "metadata": {
  "kernelspec": {
   "display_name": "Python 3",
   "language": "python",
   "name": "python3"
  },
  "language_info": {
   "codemirror_mode": {
    "name": "ipython",
    "version": 3
   },
   "file_extension": ".py",
   "mimetype": "text/x-python",
   "name": "python",
   "nbconvert_exporter": "python",
   "pygments_lexer": "ipython3",
   "version": "3.7.2"
  }
 },
 "nbformat": 4,
 "nbformat_minor": 2
}
