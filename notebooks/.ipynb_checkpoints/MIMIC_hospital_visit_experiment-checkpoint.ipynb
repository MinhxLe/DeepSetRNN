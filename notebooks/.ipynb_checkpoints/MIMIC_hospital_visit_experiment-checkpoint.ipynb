{
 "cells": [
  {
   "cell_type": "code",
   "execution_count": 1,
   "metadata": {},
   "outputs": [
    {
     "name": "stdout",
     "output_type": "stream",
     "text": [
      "/u/home/m/minhle/Research/Sriram/DeepSetRNN\n"
     ]
    }
   ],
   "source": [
    "%load_ext autoreload\n",
    "%autoreload 2\n",
    "%cd ~/Research/Sriram/DeepSetRNN"
   ]
  },
  {
   "cell_type": "code",
   "execution_count": 60,
   "metadata": {},
   "outputs": [],
   "source": [
    "from collections import defaultdict, namedtuple\n",
    "import os\n",
    "import string\n",
    "import logging\n",
    "import importlib\n",
    "\n",
    "import pandas as pd\n",
    "from sklearn import metrics\n",
    "import matplotlib.pyplot as plt\n",
    "import numpy as np\n",
    "import torch\n",
    "import torch.nn as nn\n",
    "import torch.nn.functional as F\n",
    "import torch.optim as optim\n",
    "\n",
    "from src import experiment_utils"
   ]
  },
  {
   "cell_type": "code",
   "execution_count": 21,
   "metadata": {},
   "outputs": [],
   "source": [
    "logging.info(\"starting logger\")\n",
    "_LOGGER = logging.getLogger('VisitTimeSeries')\n",
    "_LOGGER.setLevel(logging.DEBUG)"
   ]
  },
  {
   "cell_type": "markdown",
   "metadata": {},
   "source": [
    "# Reading data"
   ]
  },
  {
   "cell_type": "code",
   "execution_count": 36,
   "metadata": {},
   "outputs": [],
   "source": [
    "_ROOT_DATA_PATH = 'data/MIMIC3database/'\n",
    "_PROCESSED_DATA_PATH = os.path.join(_ROOT_DATA_PATH, 'processed/MIMIC3EachPerson')"
   ]
  },
  {
   "cell_type": "code",
   "execution_count": 85,
   "metadata": {},
   "outputs": [],
   "source": [
    "test_count = 100\n",
    "\n",
    "train_series_df = pd.read_csv(os.path.join(_PROCESSED_DATA_PATH, 'train_timeseries.csv'),\n",
    "                              index_col=0,\n",
    "                             nrows=test_count)\n",
    "\n",
    "train_labels_df = pd.read_csv(os.path.join(_PROCESSED_DATA_PATH, 'train_labels.csv'),\n",
    "                              index_col=0,\n",
    "                             nrows=test_count)\n",
    "\n",
    "train_series_df.drop('Hours', axis=1, inplace=True)\n",
    "\n",
    "train_features = list(train_series_df.groupby(['SUBJECT_ID', 'ADMISSION_NUM']))\n",
    "train_features.sort(key=lambda x : x[0])\n",
    "\n",
    "train_labels = list(train_labels_df.groupby(['SUBJECT_ID', 'ADMISSION_NUM']))\n",
    "train_labels.sort(key=lambda x: x[0])\n",
    "\n",
    "train_labels = train_labels[:len(train_features)]"
   ]
  },
  {
   "cell_type": "code",
   "execution_count": 98,
   "metadata": {},
   "outputs": [],
   "source": [
    "test_series_df = pd.read_csv(os.path.join(_PROCESSED_DATA_PATH, 'test_timeseries.csv'),\n",
    "                              index_col=0,\n",
    "                             nrows=test_count)\n",
    "\n",
    "test_labels_df = pd.read_csv(os.path.join(_PROCESSED_DATA_PATH, 'test_labels.csv'),\n",
    "                              index_col=0,\n",
    "                             nrows=test_count)\n",
    "\n",
    "test_series_df.drop('Hours', axis=1, inplace=True)\n",
    "test_labels_df.drop(['Icustay', 'Ethnicity', 'Gender', 'Age', 'Height', \n",
    "                     'Weight', 'Length of Stay', 'Mortality'], axis=1, inplace=True)\n",
    "\n",
    "test_features = list(test_series_df.groupby(['SUBJECT_ID', 'ADMISSION_NUM']))\n",
    "test_labels = list(test_labels_df.groupby(['SUBJECT_ID', 'ADMISSION_NUM']))\n",
    "\n",
    "for feature in test_features:\n",
    "    feature[1].drop(['SUBJECT_ID', 'ADMISSION_NUM'], axis=1, inplace=True)\n",
    "for label in test_labels:\n",
    "    label[1].drop(['SUBJECT_ID', 'ADMISSION_NUM'], axis=1, inplace=True)\n",
    "                                  \n",
    "test_features.sort(key=lambda x : x[0])\n",
    "test_labels.sort(key=lambda x: x[0])\n",
    "\n",
    "test_labels = test_labels[:len(train_features)]"
   ]
  },
  {
   "cell_type": "code",
   "execution_count": 103,
   "metadata": {},
   "outputs": [],
   "source": [
    "n_features = train_features[0][1].shape[1]\n",
    "n_class = train_labels[0][1].shape[1]"
   ]
  },
  {
   "cell_type": "code",
   "execution_count": 102,
   "metadata": {
    "scrolled": true
   },
   "outputs": [
    {
     "data": {
      "text/plain": [
       "13"
      ]
     },
     "execution_count": 102,
     "metadata": {},
     "output_type": "execute_result"
    }
   ],
   "source": [
    "n"
   ]
  },
  {
   "cell_type": "markdown",
   "metadata": {},
   "source": [
    "# Training Model"
   ]
  },
  {
   "cell_type": "code",
   "execution_count": 26,
   "metadata": {},
   "outputs": [],
   "source": [
    "_MODEL_LOG_ROOT_PATH = 'logs/MIMIC3/VisitTimeSeries'\n",
    "_MODEL_ROOT_PATH = 'models/MIMIC3/VisitTimeSeries'"
   ]
  },
  {
   "cell_type": "code",
   "execution_count": 27,
   "metadata": {},
   "outputs": [],
   "source": [
    "#global objects\n",
    "training_loss_map = {}\n",
    "model_map = {}"
   ]
  },
  {
   "cell_type": "code",
   "execution_count": 28,
   "metadata": {},
   "outputs": [],
   "source": [
    "def run_train_and_log_experiments(model_name, model, loss_fn, optimizer):\n",
    "    experiment_utils.setup_model_logger(_LOGGER, model_name, _MODEL_LOG_ROOT_PATH)\n",
    "    _LOGGER.info(model_name)\n",
    "\n",
    "    #initial test loss\n",
    "    test_losses = experiment_utils.evaluate_validation_loss(model, loss_fn, test_inputs, test_outputs)\n",
    "    _LOGGER.info(\"Initial Validation Loss: {}\".format(np.mean(test_losses)))\n",
    "\n",
    "    #training model\n",
    "    training_losses = experiment_utils.train_model(model, loss_fn, optimizer,\n",
    "                                                  args.n_epoch, train_inputs, \n",
    "                                                   train_outputs, _LOGGER)\n",
    "\n",
    "    #saving model\n",
    "    torch.save(model, '{}/{}.pt'.format(_MODEL_ROOT_PATH, model_name))\n",
    "\n",
    "    #final validation loss\n",
    "    test_losses = experiment_utils.evaluate_validation_loss(model, loss_fn, test_inputs, test_outputs)\n",
    "    _LOGGER.info(\"final validation Loss: {}\".format(np.mean(test_losses)))\n",
    "\n",
    "    #saving model in global map\n",
    "    model_map[model_name] = model\n",
    "    training_loss_map[model_name] = training_losses\n"
   ]
  },
  {
   "cell_type": "code",
   "execution_count": 62,
   "metadata": {},
   "outputs": [
    {
     "ename": "SyntaxError",
     "evalue": "invalid syntax (<ipython-input-62-8617548a3830>, line 25)",
     "output_type": "error",
     "traceback": [
      "\u001b[0;36m  File \u001b[0;32m\"<ipython-input-62-8617548a3830>\"\u001b[0;36m, line \u001b[0;32m25\u001b[0m\n\u001b[0;31m    n_class=top_n,\u001b[0m\n\u001b[0m          ^\u001b[0m\n\u001b[0;31mSyntaxError\u001b[0m\u001b[0;31m:\u001b[0m invalid syntax\n"
     ]
    }
   ],
   "source": [
    "from src.model.lstm import LSTMClassifier\n",
    "\n",
    "ModelArgs = namedtuple('HospitalVisitLSTMClassifier', \n",
    "                      ['hidden_dim',\n",
    "                       'n_epoch',\n",
    "                       'lr',\n",
    "                       'momentum',\n",
    "                      'n_layers',\n",
    "                      'dropout']\n",
    "                      )\n",
    "args = ModelArgs(\n",
    "    hidden_dim=[1000,100],\n",
    "    n_epoch = 20,\n",
    "    lr = 0.1,\n",
    "    n_layers=1,\n",
    "    momentum = 0.9,\n",
    "    dropout=0.5,\n",
    "    freeze_embedding=True\n",
    ")\n",
    "\n",
    "model_name = str(args)\n",
    "\n",
    "model = LSTMClassifier(hidden_dim=args.hidden_dim,\n",
    "                       input_dim=train_features[0][1]\n",
    "                                  n_class=,\n",
    "                                 dropout=args.dropout)\n",
    "loss_fn = nn.BCEWithLogitsLoss()\n",
    "optimizer = optim.SGD(model.parameters(), lr=args.lr, momentum=args.momentum)"
   ]
  },
  {
   "cell_type": "code",
   "execution_count": null,
   "metadata": {},
   "outputs": [],
   "source": [
    "experiment_utils.evaluate_validation_loss(model, loss_fn, )"
   ]
  }
 ],
 "metadata": {
  "kernelspec": {
   "display_name": "Python 3",
   "language": "python",
   "name": "python3"
  },
  "language_info": {
   "codemirror_mode": {
    "name": "ipython",
    "version": 3
   },
   "file_extension": ".py",
   "mimetype": "text/x-python",
   "name": "python",
   "nbconvert_exporter": "python",
   "pygments_lexer": "ipython3",
   "version": "3.7.2"
  }
 },
 "nbformat": 4,
 "nbformat_minor": 2
}
