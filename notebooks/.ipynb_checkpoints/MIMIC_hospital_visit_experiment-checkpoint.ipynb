{
 "cells": [
  {
   "cell_type": "code",
   "execution_count": 1,
   "metadata": {
    "ExecuteTime": {
     "end_time": "2019-02-28T18:38:15.900647Z",
     "start_time": "2019-02-28T18:38:15.881979Z"
    }
   },
   "outputs": [
    {
     "name": "stdout",
     "output_type": "stream",
     "text": [
      "/home/minh/Research/Sriram/DeepSetRNN\n"
     ]
    }
   ],
   "source": [
    "%load_ext autoreload\n",
    "%autoreload 2\n",
    "%cd ~/Research/Sriram/DeepSetRNN"
   ]
  },
  {
   "cell_type": "code",
   "execution_count": 2,
   "metadata": {
    "ExecuteTime": {
     "end_time": "2019-02-28T18:38:16.809883Z",
     "start_time": "2019-02-28T18:38:16.233227Z"
    }
   },
   "outputs": [],
   "source": [
    "from collections import defaultdict, namedtuple\n",
    "import os\n",
    "import string\n",
    "import logging\n",
    "import importlib\n",
    "\n",
    "import pandas as pd\n",
    "from sklearn import metrics\n",
    "import matplotlib.pyplot as plt\n",
    "import numpy as np\n",
    "import torch\n",
    "import torch.nn as nn\n",
    "import torch.nn.functional as F\n",
    "import torch.optim as optim\n",
    "\n",
    "from src import experiment_utils, utils"
   ]
  },
  {
   "cell_type": "code",
   "execution_count": 3,
   "metadata": {
    "ExecuteTime": {
     "end_time": "2019-02-28T18:38:16.821600Z",
     "start_time": "2019-02-28T18:38:16.811113Z"
    }
   },
   "outputs": [],
   "source": [
    "logging.info(\"starting logger\")\n",
    "_LOGGER = logging.getLogger('VisitTimeSeries')\n",
    "_LOGGER.setLevel(logging.DEBUG)"
   ]
  },
  {
   "cell_type": "markdown",
   "metadata": {},
   "source": [
    "# Reading data"
   ]
  },
  {
   "cell_type": "code",
   "execution_count": 4,
   "metadata": {
    "ExecuteTime": {
     "end_time": "2019-02-28T18:38:17.678945Z",
     "start_time": "2019-02-28T18:38:17.668488Z"
    }
   },
   "outputs": [],
   "source": [
    "_ROOT_DATA_PATH = 'data/MIMIC3database/'\n",
    "_PROCESSED_DATA_PATH = os.path.join(_ROOT_DATA_PATH, 'processed/MIMIC3EachPerson')"
   ]
  },
  {
   "cell_type": "code",
   "execution_count": 5,
   "metadata": {
    "ExecuteTime": {
     "end_time": "2019-02-28T18:38:25.179255Z",
     "start_time": "2019-02-28T18:38:17.957716Z"
    }
   },
   "outputs": [
    {
     "name": "stderr",
     "output_type": "stream",
     "text": [
      "/home/minh/.conda/envs/deepset/lib/python3.6/site-packages/numpy/lib/arraysetops.py:522: FutureWarning: elementwise comparison failed; returning scalar instead, but in the future will perform elementwise comparison\n",
      "  mask |= (ar1 == a)\n"
     ]
    }
   ],
   "source": [
    "train_series_df = pd.read_csv(os.path.join(_PROCESSED_DATA_PATH, 'train_timeseries.csv'),\n",
    "                              index_col=0)\n",
    "\n",
    "train_labels_df = pd.read_csv(os.path.join(_PROCESSED_DATA_PATH, 'train_labels.csv'),\n",
    "                              index_col=0)\n",
    "\n",
    "train_labels_df.drop(['Icustay', 'Ethnicity', 'Gender', 'Age', 'Height', 'Weight',\n",
    "       'Length of Stay', 'Mortality'], axis=1, inplace=True)\n",
    "\n",
    "\n",
    "train_series_df = train_series_df.set_index(['SUBJECT_ID', 'ADMISSION_NUM'])\n",
    "train_labels_df = train_labels_df.set_index(['SUBJECT_ID', 'ADMISSION_NUM'])"
   ]
  },
  {
   "cell_type": "code",
   "execution_count": 6,
   "metadata": {
    "ExecuteTime": {
     "end_time": "2019-02-28T18:38:26.503331Z",
     "start_time": "2019-02-28T18:38:25.180562Z"
    }
   },
   "outputs": [],
   "source": [
    "test_series_df = pd.read_csv(os.path.join(_PROCESSED_DATA_PATH, 'test_timeseries.csv'),\n",
    "                              index_col=0)\n",
    "\n",
    "test_labels_df = pd.read_csv(os.path.join(_PROCESSED_DATA_PATH, 'test_labels.csv'),\n",
    "                              index_col=0)\n",
    "\n",
    "test_labels_df.drop(['Icustay', 'Ethnicity', 'Gender', 'Age', 'Height', 'Weight',\n",
    "       'Length of Stay', 'Mortality'], axis=1, inplace=True)\n",
    "\n",
    "test_series_df = test_series_df.set_index(['SUBJECT_ID', 'ADMISSION_NUM'])\n",
    "test_labels_df = test_labels_df.set_index(['SUBJECT_ID', 'ADMISSION_NUM'])"
   ]
  },
  {
   "cell_type": "code",
   "execution_count": 7,
   "metadata": {
    "ExecuteTime": {
     "end_time": "2019-02-28T18:38:26.516281Z",
     "start_time": "2019-02-28T18:38:26.504385Z"
    }
   },
   "outputs": [],
   "source": [
    "n_features = train_series_df.iloc[0].shape[0]\n",
    "n_class = train_labels_df.iloc[0].shape[0]"
   ]
  },
  {
   "cell_type": "code",
   "execution_count": 8,
   "metadata": {
    "ExecuteTime": {
     "end_time": "2019-02-28T18:38:26.531189Z",
     "start_time": "2019-02-28T18:38:26.517653Z"
    }
   },
   "outputs": [],
   "source": [
    "def group_by_individual(series_df):\n",
    "    #TODO THIS MUTATES series_df\n",
    "    series_df['combined'] = series_df.values.tolist()\n",
    "    series_df['combined'] = series_df['combined'].apply(lambda x : np.array(x))\n",
    "    \n",
    "    temp_df = series_df[['combined']]\n",
    "    temp_df = temp_df.groupby(['SUBJECT_ID', 'ADMISSION_NUM'])['combined'].apply(list).to_frame()\n",
    "    \n",
    "    temp_df['combined'] = temp_df['combined'].apply(lambda x : np.array(x))\n",
    "    return temp_df"
   ]
  },
  {
   "cell_type": "code",
   "execution_count": 9,
   "metadata": {
    "ExecuteTime": {
     "end_time": "2019-02-28T18:38:49.340325Z",
     "start_time": "2019-02-28T18:38:26.532482Z"
    }
   },
   "outputs": [],
   "source": [
    "train_series_df = group_by_individual(train_series_df)\n",
    "test_series_df = group_by_individual(test_series_df)"
   ]
  },
  {
   "cell_type": "code",
   "execution_count": 10,
   "metadata": {
    "ExecuteTime": {
     "end_time": "2019-02-28T18:40:49.702228Z",
     "start_time": "2019-02-28T18:40:49.644225Z"
    }
   },
   "outputs": [],
   "source": [
    "train_indices = np.array(list(set(train_series_df.index).intersection(set(train_labels_df.index))))\n",
    "test_indices = np.array(list(set(test_series_df.index).intersection(set(test_labels_df.index))))\n",
    "\n",
    "train_indices_idx = np.argsort([len(x)] for x in train_series_df['combined'])\n",
    "test_indices_idx = np.argsort([len(x)] for x in test_series_df['combined'])\n",
    "\n",
    "train_indices_sorted = train_indices[train_indices_idx]\n",
    "test_indices_sorted = test_indices[test_indices_idx]\n",
    "\n",
    "\n",
    "np.save('{}/train_indices_idx_sorted_by_len.npy'.format(_PROCESSED_DATA_PATH), train_indices_idx)\n",
    "np.save('{}/test_indices_idx_sorted_by_len.npy'.format(_PROCESSED_DATA_PATH), test_indices_idx)\n",
    "\n",
    "np.save('{}/train_indices_sorted_by_len.npy'.format(_PROCESSED_DATA_PATH), train_indices_sorted)\n",
    "np.save('{}/test_indices_sorted_by_len.npy'.format(_PROCESSED_DATA_PATH), test_indices_sorted)"
   ]
  },
  {
   "cell_type": "code",
   "execution_count": null,
   "metadata": {},
   "outputs": [],
   "source": [
    "train_indices_sorted = list(map(tuple, train_indices_sorted))\n",
    "test_indices_sorted = list(map(tuple, test_indices_sorted))"
   ]
  },
  {
   "cell_type": "code",
   "execution_count": 17,
   "metadata": {
    "ExecuteTime": {
     "end_time": "2019-02-28T18:42:28.697226Z",
     "start_time": "2019-02-28T18:42:28.659003Z"
    }
   },
   "outputs": [],
   "source": [
    "train_series_df = train_series_df.loc[train_indices_sorted]\n",
    "train_labels_df = train_labels_df.loc[train_indices_sorted]"
   ]
  },
  {
   "cell_type": "code",
   "execution_count": 48,
   "metadata": {
    "ExecuteTime": {
     "end_time": "2019-02-27T19:15:28.215214Z",
     "start_time": "2019-02-27T19:12:31.290204Z"
    }
   },
   "outputs": [],
   "source": [
    "\n",
    "train_series_df.loc[indexer[train_indices_sorted]].to_csv(\"train_timeseries_sorted_len.csv\")\n",
    "test_series_df.loc[indexer[test_indices_sorted]].to_csv(\"test_timeseries_sorted_len.csv\")\n",
    "\n",
    "train_labels_df.loc[indexer[train_indices_sorted]].to_csv(\"train_labels_sorted_len.csv\")\n",
    "test_labels_df.loc[indexer[test_indices_sorted]].to_csv(\"test_labels_sorted_len.csv\")"
   ]
  },
  {
   "cell_type": "code",
   "execution_count": 12,
   "metadata": {
    "ExecuteTime": {
     "end_time": "2019-02-28T06:19:14.911389Z",
     "start_time": "2019-02-28T06:19:14.895054Z"
    }
   },
   "outputs": [],
   "source": [
    "indexer = pd.IndexSlice\n"
   ]
  },
  {
   "cell_type": "code",
   "execution_count": 13,
   "metadata": {
    "ExecuteTime": {
     "end_time": "2019-02-28T06:19:21.979203Z",
     "start_time": "2019-02-28T06:19:16.633362Z"
    }
   },
   "outputs": [],
   "source": [
    "train_series_df = pd.read_csv('train_timeseries_sorted_len.csv', index_col=['SUBJECT_ID', 'ADMISSION_NUM'])\n",
    "train_labels_df = pd.read_csv('train_labels_sorted_len.csv', index_col=['SUBJECT_ID', 'ADMISSION_NUM'])\n",
    "\n",
    "test_series_df = pd.read_csv('test_timeseries_sorted_len.csv', index_col=['SUBJECT_ID', 'ADMISSION_NUM'])\n",
    "test_labels_df = pd.read_csv('test_labels_sorted_len.csv', index_col=['SUBJECT_ID', 'ADMISSION_NUM'])"
   ]
  },
  {
   "cell_type": "markdown",
   "metadata": {},
   "source": [
    "# Training Model"
   ]
  },
  {
   "cell_type": "code",
   "execution_count": 13,
   "metadata": {
    "ExecuteTime": {
     "end_time": "2019-02-27T17:24:45.013825Z",
     "start_time": "2019-02-27T17:24:44.996975Z"
    }
   },
   "outputs": [],
   "source": [
    "_MODEL_LOG_ROOT_PATH = 'logs/MIMIC3/VisitTimeSeries'\n",
    "_MODEL_ROOT_PATH = 'models/MIMIC3/VisitTimeSeries'"
   ]
  },
  {
   "cell_type": "code",
   "execution_count": 18,
   "metadata": {
    "ExecuteTime": {
     "end_time": "2019-02-27T17:29:22.316674Z",
     "start_time": "2019-02-27T17:29:22.293539Z"
    }
   },
   "outputs": [],
   "source": [
    "from src.model.lstm import LSTMClassifier\n",
    "\n",
    "ModelArgs = namedtuple('HospitalVisitLSTMClassifier', \n",
    "                      ['hidden_dims',\n",
    "                       'batch_size'\n",
    "                       'n_epoch',\n",
    "                       'lr',\n",
    "                       'momentum',\n",
    "                      'n_layers',\n",
    "                      'dropout']\n",
    "                      )\n",
    "args = ModelArgs(\n",
    "    hidden_dims=[500,200],\n",
    "    batch_size=500,\n",
    "    n_epoch = 5,\n",
    "    lr = 0.1,\n",
    "    n_layers=1,\n",
    "    momentum = 0.9,\n",
    "    dropout=0.5,\n",
    ")\n",
    "\n",
    "model_name = str(args)\n",
    "\n",
    "model = LSTMClassifier(hidden_dims=args.hidden_dims,\n",
    "                       input_dim=n_features,\n",
    "                       n_class=n_class,\n",
    "                       dropout=args.dropout)\n",
    "loss_fn = nn.BCEWithLogitsLoss()\n",
    "optimizer = optim.SGD(model.parameters(), lr=args.lr, momentum=args.momentum)\n",
    "experiment_utils.setup_model_logger(_LOGGER, model_name, _MODEL_LOG_ROOT_PATH)"
   ]
  },
  {
   "cell_type": "code",
   "execution_count": 95,
   "metadata": {
    "ExecuteTime": {
     "end_time": "2019-02-28T00:13:15.360198Z",
     "start_time": "2019-02-28T00:13:15.330769Z"
    }
   },
   "outputs": [
    {
     "ename": "NotImplementedError",
     "evalue": "Indexing a MultiIndex with a multidimensional key is not implemented",
     "output_type": "error",
     "traceback": [
      "\u001b[0;31m---------------------------------------------------------------------------\u001b[0m",
      "\u001b[0;31mNotImplementedError\u001b[0m                       Traceback (most recent call last)",
      "\u001b[0;32m<ipython-input-95-e5eb14ede9ad>\u001b[0m in \u001b[0;36m<module>\u001b[0;34m\u001b[0m\n\u001b[1;32m      1\u001b[0m \u001b[0mindexer\u001b[0m \u001b[0;34m=\u001b[0m \u001b[0mpd\u001b[0m\u001b[0;34m.\u001b[0m\u001b[0mIndexSlice\u001b[0m\u001b[0;34m\u001b[0m\u001b[0;34m\u001b[0m\u001b[0m\n\u001b[0;32m----> 2\u001b[0;31m \u001b[0mtrain_series_df\u001b[0m\u001b[0;34m.\u001b[0m\u001b[0mloc\u001b[0m\u001b[0;34m[\u001b[0m\u001b[0mindexer\u001b[0m\u001b[0;34m[\u001b[0m\u001b[0mtrain_indices_sorted\u001b[0m\u001b[0;34m[\u001b[0m\u001b[0;34m:\u001b[0m\u001b[0;36m3\u001b[0m\u001b[0;34m]\u001b[0m\u001b[0;34m]\u001b[0m\u001b[0;34m]\u001b[0m\u001b[0;34m\u001b[0m\u001b[0;34m\u001b[0m\u001b[0m\n\u001b[0m",
      "\u001b[0;32m~/.conda/envs/deepset/lib/python3.6/site-packages/pandas/core/indexing.py\u001b[0m in \u001b[0;36m__getitem__\u001b[0;34m(self, key)\u001b[0m\n\u001b[1;32m   1476\u001b[0m \u001b[0;34m\u001b[0m\u001b[0m\n\u001b[1;32m   1477\u001b[0m             \u001b[0mmaybe_callable\u001b[0m \u001b[0;34m=\u001b[0m \u001b[0mcom\u001b[0m\u001b[0;34m.\u001b[0m\u001b[0m_apply_if_callable\u001b[0m\u001b[0;34m(\u001b[0m\u001b[0mkey\u001b[0m\u001b[0;34m,\u001b[0m \u001b[0mself\u001b[0m\u001b[0;34m.\u001b[0m\u001b[0mobj\u001b[0m\u001b[0;34m)\u001b[0m\u001b[0;34m\u001b[0m\u001b[0;34m\u001b[0m\u001b[0m\n\u001b[0;32m-> 1478\u001b[0;31m             \u001b[0;32mreturn\u001b[0m \u001b[0mself\u001b[0m\u001b[0;34m.\u001b[0m\u001b[0m_getitem_axis\u001b[0m\u001b[0;34m(\u001b[0m\u001b[0mmaybe_callable\u001b[0m\u001b[0;34m,\u001b[0m \u001b[0maxis\u001b[0m\u001b[0;34m=\u001b[0m\u001b[0maxis\u001b[0m\u001b[0;34m)\u001b[0m\u001b[0;34m\u001b[0m\u001b[0;34m\u001b[0m\u001b[0m\n\u001b[0m\u001b[1;32m   1479\u001b[0m \u001b[0;34m\u001b[0m\u001b[0m\n\u001b[1;32m   1480\u001b[0m     \u001b[0;32mdef\u001b[0m \u001b[0m_is_scalar_access\u001b[0m\u001b[0;34m(\u001b[0m\u001b[0mself\u001b[0m\u001b[0;34m,\u001b[0m \u001b[0mkey\u001b[0m\u001b[0;34m)\u001b[0m\u001b[0;34m:\u001b[0m\u001b[0;34m\u001b[0m\u001b[0;34m\u001b[0m\u001b[0m\n",
      "\u001b[0;32m~/.conda/envs/deepset/lib/python3.6/site-packages/pandas/core/indexing.py\u001b[0m in \u001b[0;36m_getitem_axis\u001b[0;34m(self, key, axis)\u001b[0m\n\u001b[1;32m   1885\u001b[0m                                               \"implemented\")\n\u001b[1;32m   1886\u001b[0m                 \u001b[0;32melif\u001b[0m \u001b[0mhasattr\u001b[0m\u001b[0;34m(\u001b[0m\u001b[0mkey\u001b[0m\u001b[0;34m,\u001b[0m \u001b[0;34m'ndim'\u001b[0m\u001b[0;34m)\u001b[0m \u001b[0;32mand\u001b[0m \u001b[0mkey\u001b[0m\u001b[0;34m.\u001b[0m\u001b[0mndim\u001b[0m \u001b[0;34m>\u001b[0m \u001b[0;36m1\u001b[0m\u001b[0;34m:\u001b[0m\u001b[0;34m\u001b[0m\u001b[0;34m\u001b[0m\u001b[0m\n\u001b[0;32m-> 1887\u001b[0;31m                     raise NotImplementedError(\"Indexing a MultiIndex with a \"\n\u001b[0m\u001b[1;32m   1888\u001b[0m                                               \u001b[0;34m\"multidimensional key is not \"\u001b[0m\u001b[0;34m\u001b[0m\u001b[0;34m\u001b[0m\u001b[0m\n\u001b[1;32m   1889\u001b[0m                                               \"implemented\")\n",
      "\u001b[0;31mNotImplementedError\u001b[0m: Indexing a MultiIndex with a multidimensional key is not implemented"
     ]
    }
   ],
   "source": [
    "indexer = pd.IndexSlice\n",
    "train_series_df.loc[indexer[train_indices_sorted[:3]]]"
   ]
  },
  {
   "cell_type": "code",
   "execution_count": 73,
   "metadata": {
    "ExecuteTime": {
     "end_time": "2019-02-27T19:29:42.860155Z",
     "start_time": "2019-02-27T19:29:42.843391Z"
    }
   },
   "outputs": [
    {
     "data": {
      "text/plain": [
       "array([19808, 33845, 27626, ..., 11942, 26097, 13341])"
      ]
     },
     "execution_count": 73,
     "metadata": {},
     "output_type": "execute_result"
    }
   ],
   "source": [
    "train_indices"
   ]
  },
  {
   "cell_type": "code",
   "execution_count": 67,
   "metadata": {
    "ExecuteTime": {
     "end_time": "2019-02-27T19:27:46.221380Z",
     "start_time": "2019-02-27T19:27:46.189667Z"
    }
   },
   "outputs": [],
   "source": [
    "model = model.eval()\n",
    "count = 0\n",
    "total_loss = 0\n",
    "\n",
    "for idx_batch in utils.generate_batch(test_indices[:10], 2):\n",
    "    curr_series = test_series_df.loc[indexer[idx_batch]]\n",
    "    outputs = test_labels_df.loc[indexer[idx_batch]]\n",
    "    \n",
    "    \n",
    "    #logit = model(utils.to_tensor(curr_series))\n",
    "    #total_loss += loss_fn(logit, utils.to_tensor(output))\n",
    "#total_loss = total_loss.data.numpy()\n",
    "\n",
    "#_LOGGER.info(\"Initial Validation Loss: {}\".format(total_loss/len(test_indices)))"
   ]
  },
  {
   "cell_type": "code",
   "execution_count": 20,
   "metadata": {
    "ExecuteTime": {
     "end_time": "2019-02-27T17:33:20.094464Z",
     "start_time": "2019-02-27T17:30:04.470356Z"
    }
   },
   "outputs": [
    {
     "name": "stderr",
     "output_type": "stream",
     "text": [
      "INFO:VisitTimeSeries:Training model...\n",
      "INFO:VisitTimeSeries:Epoch: 0, Loss: 636.6494873799384\n",
      "INFO:VisitTimeSeries:Epoch: 1, Loss: 3.310214679152705\n",
      "INFO:VisitTimeSeries:Epoch: 2, Loss: 3.7372892934829\n",
      "INFO:VisitTimeSeries:Epoch: 3, Loss: 3.919697518646717\n",
      "INFO:VisitTimeSeries:Epoch: 4, Loss: 4.501575288921595\n"
     ]
    }
   ],
   "source": [
    "model = model.train()\n",
    "_LOGGER.info(\"Training model...\")\n",
    "training_losses = []\n",
    "for epoch in range(args.n_epoch):\n",
    "    total_loss = 0\n",
    "    for idx in train_indices[:100]:\n",
    "        curr_series = train_series_df.xs(idx, level=[0,1])\n",
    "        output = train_labels_df.xs(idx, level=[0,1])        \n",
    "        logit = model(utils.to_tensor(curr_series))\n",
    "        loss = loss_fn(logit, utils.to_tensor(output))\n",
    "        total_loss += loss.data.numpy()\n",
    "        loss.backward()\n",
    "        optimizer.step()\n",
    "    mean_loss = total_loss/len(train_indices[:100])\n",
    "    _LOGGER.info(\"Epoch: {}, Loss: {}\".format(epoch, mean_loss))\n",
    "    training_losses.append(mean_loss)"
   ]
  },
  {
   "cell_type": "code",
   "execution_count": 22,
   "metadata": {
    "ExecuteTime": {
     "end_time": "2019-02-27T17:35:04.396225Z",
     "start_time": "2019-02-27T17:35:04.376355Z"
    }
   },
   "outputs": [
    {
     "data": {
      "text/plain": [
       "19.053333333333335"
      ]
     },
     "execution_count": 22,
     "metadata": {},
     "output_type": "execute_result"
    }
   ],
   "source": [
    "len(train_indices)/100 * 3.2 / 60"
   ]
  },
  {
   "cell_type": "code",
   "execution_count": 17,
   "metadata": {
    "ExecuteTime": {
     "end_time": "2019-02-27T17:28:02.463853Z",
     "start_time": "2019-02-27T17:28:02.448599Z"
    }
   },
   "outputs": [
    {
     "data": {
      "text/plain": [
       "35725"
      ]
     },
     "execution_count": 17,
     "metadata": {},
     "output_type": "execute_result"
    }
   ],
   "source": [
    "torch.save(model, \"{}/{}.pt\".format(_MODEL_ROOT_PATH, model_name))"
   ]
  },
  {
   "cell_type": "code",
   "execution_count": null,
   "metadata": {},
   "outputs": [],
   "source": [
    "model = model.eval()\n",
    "count = 0\n",
    "total_loss = 0\n",
    "\n",
    "for idx in test_indices:\n",
    "    curr_series = test_series_df.xs(idx, level=[0,1])\n",
    "    output = test_labels_df.xs(idx, level=[0,1])\n",
    "    \n",
    "    logit = model(utils.to_tensor(curr_series))\n",
    "    total_loss += loss_fn(logit, utils.to_tensor(output))\n",
    "total_loss = total_loss.data.numpy()\n",
    "\n",
    "_LOGGER.info(\"Final Validation Loss: {}\".format(total_loss/len(test_indices)))"
   ]
  },
  {
   "cell_type": "code",
   "execution_count": null,
   "metadata": {},
   "outputs": [],
   "source": [
    "experiment_utils.setup_model_logger(_LOGGER, model_name, _MODEL_LOG_ROOT_PATH)\n",
    "\n",
    "test_losses = experiment_utils.evaluate_validation_loss_template(model, loss_fn, test_series, test_labels)\n",
    "\n",
    "_LOGGER.info(\"Initial Validation Loss: {}\".format(np.mean(test_losses)))\n",
    "\n",
    "\n",
    "training_losses = experiment_utils.train_model_template(model, loss_fn, optimizer, args.n_epoch, train_series, train_labels, _LOGGER)\n",
    "torch.save(model, \"{}/{}.pt\".format(_MODEL_ROOT_PATH, model_name))\n",
    "\n",
    "\n",
    "test_losses = experiment_utils.evaluate_validation_loss_template(model, \n",
    "                                          loss_fn, \n",
    "                                          test_series,\n",
    "                                         test_labels)\n",
    "\n",
    "_LOGGER.info(\"Final Validation Loss: {}\".format(np.mean(test_losses)))"
   ]
  }
 ],
 "metadata": {
  "kernelspec": {
   "display_name": "Python 3",
   "language": "python",
   "name": "python3"
  },
  "language_info": {
   "codemirror_mode": {
    "name": "ipython",
    "version": 3
   },
   "file_extension": ".py",
   "mimetype": "text/x-python",
   "name": "python",
   "nbconvert_exporter": "python",
   "pygments_lexer": "ipython3",
   "version": "3.6.8"
  }
 },
 "nbformat": 4,
 "nbformat_minor": 2
}
