{
 "cells": [
  {
   "cell_type": "code",
   "execution_count": 127,
   "metadata": {},
   "outputs": [
    {
     "name": "stdout",
     "output_type": "stream",
     "text": [
      "The autoreload extension is already loaded. To reload it, use:\n",
      "  %reload_ext autoreload\n",
      "/home/minh/Research/Sriram/DeepSetRNN\n"
     ]
    }
   ],
   "source": [
    "%load_ext autoreload\n",
    "%autoreload 2\n",
    "%cd ~/Research/Sriram/DeepSetRNN\n",
    "\n",
    "import pandas as pd\n",
    "from sklearn import metrics\n",
    "import matplotlib.pyplot as plt\n",
    "import numpy as np\n",
    "from collections import defaultdict\n",
    "import os\n",
    "import string\n",
    "import pickle\n",
    "from collections import namedtuple\n",
    "\n",
    "import torch\n",
    "import torch.nn as nn\n",
    "import torch.nn.functional as F\n",
    "import torch.optim as optim\n",
    "import logging\n",
    "import os\n",
    "import importlib\n",
    "\n",
    "from src import convert_dot_format\n",
    "from src import experiment_utils\n",
    "\n",
    "DATA_PATH='data/MIMIC3database'"
   ]
  },
  {
   "cell_type": "code",
   "execution_count": 2,
   "metadata": {},
   "outputs": [],
   "source": [
    "logging.info(\"starting logger\")\n",
    "_LOGGER = logging.getLogger('MIMIC_BOW_input_models')\n",
    "_LOGGER.setLevel(logging.DEBUG)"
   ]
  },
  {
   "cell_type": "markdown",
   "metadata": {},
   "source": [
    "# Preprocessing Data"
   ]
  },
  {
   "cell_type": "code",
   "execution_count": null,
   "metadata": {},
   "outputs": [],
   "source": [
    "# reading in data "
   ]
  },
  {
   "cell_type": "code",
   "execution_count": 3,
   "metadata": {},
   "outputs": [],
   "source": [
    "top_n = 100 #should be the same as before\n",
    "diagnoses_procedures_df = pd.read_csv('data/MIMIC3database/processed/ICD9_diagnoses_procedures_mimic_idx_sentences_top_100_sorted.csv', index_col=0)\n",
    "\n",
    "#converting sentences to a single column\n",
    "diagnoses_procedures_df['DIAGNOSES_SENTENCES'] = diagnoses_procedures_df[['0_diagnoses', '1_diagnoses',\n",
    "       '2_diagnoses', '3_diagnoses', '4_diagnoses', '5_diagnoses',\n",
    "       '6_diagnoses', '7_diagnoses', '8_diagnoses', '9_diagnoses',\n",
    "       '10_diagnoses', '11_diagnoses', '12_diagnoses', '13_diagnoses',\n",
    "       '14_diagnoses', '15_diagnoses', '16_diagnoses', '17_diagnoses',\n",
    "       '18_diagnoses', '19_diagnoses', '20_diagnoses', '21_diagnoses', '22',\n",
    "       '23', '24', '25', '26', '27', '28', '29', '30', '31']].values.tolist()\n",
    "\n",
    "diagnoses_procedures_df['PROCEDURES_SENTENCES'] = diagnoses_procedures_df[\n",
    "    ['0_procedures', '1_procedures', '2_procedures', '3_procedures',\n",
    "       '4_procedures', '5_procedures', '6_procedures', '7_procedures',\n",
    "       '8_procedures', '9_procedures', '10_procedures', '11_procedures',\n",
    "       '12_procedures', '13_procedures', '14_procedures', '15_procedures',\n",
    "       '16_procedures', '17_procedures', '18_procedures', '19_procedures',\n",
    "       '20_procedures', '21_procedures']].values.tolist()\n",
    "\n",
    "diagnoses_procedures_df.drop(labels=['0_diagnoses', '1_diagnoses',\n",
    "       '2_diagnoses', '3_diagnoses', '4_diagnoses', '5_diagnoses',\n",
    "       '6_diagnoses', '7_diagnoses', '8_diagnoses', '9_diagnoses',\n",
    "       '10_diagnoses', '11_diagnoses', '12_diagnoses', '13_diagnoses',\n",
    "       '14_diagnoses', '15_diagnoses', '16_diagnoses', '17_diagnoses',\n",
    "       '18_diagnoses', '19_diagnoses', '20_diagnoses', '21_diagnoses', '22',\n",
    "       '23', '24', '25', '26', '27', '28', '29', '30', '31'], axis=1, inplace=True)\n",
    "\n",
    "diagnoses_procedures_df.drop(labels=['0_procedures', '1_procedures', '2_procedures', '3_procedures',\n",
    "       '4_procedures', '5_procedures', '6_procedures', '7_procedures',\n",
    "       '8_procedures', '9_procedures', '10_procedures', '11_procedures',\n",
    "       '12_procedures', '13_procedures', '14_procedures', '15_procedures',\n",
    "       '16_procedures', '17_procedures', '18_procedures', '19_procedures',\n",
    "       '20_procedures', '21_procedures'], axis=1, inplace=True)\n",
    "\n",
    "diagnoses_procedures_df.to_csv(\"data/MIMIC3database/processed/ICD9_diagnoses_procedures_mimic_idx_sentences_top_100_sorted_concat.csv\")"
   ]
  },
  {
   "cell_type": "code",
   "execution_count": null,
   "metadata": {},
   "outputs": [],
   "source": [
    "# generating the labels with 1 hot encoding"
   ]
  },
  {
   "cell_type": "code",
   "execution_count": 40,
   "metadata": {},
   "outputs": [],
   "source": [
    "from src.utils import get_onehot_vector\n",
    "\n",
    "diagnoses_counts = diagnoses_procedures_df['ICD9_CODE_diagnoses'].value_counts()\n",
    "procedures_counts = diagnoses_procedures_df['ICD9_CODE_procedures'].value_counts()\n",
    "\n",
    "diagnoses_set = set(diagnoses_counts.keys()[:top_n])\n",
    "procedures_set = set(procedures_counts.keys()[:top_n])\n",
    "\n",
    "diagnoses_idx_map = {}\n",
    "for i, code in enumerate(diagnoses_counts.keys()[:top_n]):\n",
    "    diagnoses_idx_map[code] = i\n",
    "\n",
    "procedures_idx_map = {}\n",
    "for i, code in enumerate(procedures_counts.keys()[:top_n]):\n",
    "    procedures_idx_map[code] = i\n",
    "    \n",
    "data = list(diagnoses_procedures_df.groupby(['SUBJECT_ID']))\n",
    "data = [(subject_id, list(subject_data.groupby(['HADM_ID', 'ADMITTIME']))) for subject_id, subject_data in data]\n",
    "\n",
    "all_inputs = []\n",
    "all_outputs = []\n",
    "for _, subject in data:\n",
    "    input_series = []\n",
    "    output_series = []\n",
    "    for _, timestep in subject:\n",
    "        timestep = timestep[timestep['ICD9_CODE_diagnoses'].isin(diagnoses_set)\n",
    "                           | timestep['ICD9_CODE_procedures'].isin(procedures_set)]\n",
    "        \n",
    "        diagnoses_one_hot = get_onehot_vector(timestep['ICD9_CODE_diagnoses'], diagnoses_idx_map)\n",
    "        procedures_one_hot = get_onehot_vector(timestep['ICD9_CODE_procedures'], procedures_idx_map)\n",
    "            #skipping timesteps that are not relevant\n",
    "        if len(timestep) > 0:\n",
    "            input_series.append((np.append(diagnoses_one_hot, procedures_one_hot)))\n",
    "            output_series.append(diagnoses_one_hot)\n",
    "    if len(input_series) > 0 and len(output_series):\n",
    "        all_inputs.append(torch.tensor(input_series))\n",
    "        all_outputs.append(torch.tensor(output_series))\n",
    "        \n",
    "all_inputs = list(map(lambda x : x.type(torch.FloatTensor), all_inputs))\n",
    "all_outputs = list(map(lambda x : x.type(torch.FloatTensor), all_outputs))"
   ]
  },
  {
   "cell_type": "code",
   "execution_count": null,
   "metadata": {},
   "outputs": [],
   "source": [
    "#only retaining individuals with at lesat 3 visits"
   ]
  },
  {
   "cell_type": "code",
   "execution_count": 41,
   "metadata": {},
   "outputs": [],
   "source": [
    "min_len = 3\n",
    "\n",
    "inputs = list(filter(lambda x : len(x) >= min_len, all_inputs))\n",
    "outputs = list(filter(lambda x: len(x) >= min_len, all_outputs))\n",
    "\n",
    "n_seq = len(inputs)\n",
    "\n",
    "split = int(n_seq*0.8)\n",
    "train_inputs = inputs[:split]\n",
    "train_outputs =  outputs[:split]\n",
    "\n",
    "test_inputs = inputs[split:n_seq]\n",
    "test_outputs = outputs[split:n_seq]"
   ]
  },
  {
   "cell_type": "markdown",
   "metadata": {},
   "source": [
    "# Training Models"
   ]
  },
  {
   "cell_type": "code",
   "execution_count": null,
   "metadata": {},
   "outputs": [],
   "source": [
    "#global map to store training loss and models"
   ]
  },
  {
   "cell_type": "code",
   "execution_count": 135,
   "metadata": {},
   "outputs": [],
   "source": [
    "#global objects\n",
    "training_loss_map = {}\n",
    "model_map = {}"
   ]
  },
  {
   "cell_type": "code",
   "execution_count": null,
   "metadata": {},
   "outputs": [],
   "source": [
    "#model and log paths"
   ]
  },
  {
   "cell_type": "code",
   "execution_count": 124,
   "metadata": {},
   "outputs": [],
   "source": [
    "_MODEL_LOG_ROOT_PATH = 'logs/MIMIC3/bow'\n",
    "_MODEL_ROOT_PATH = 'models/MIMIC3/bow'"
   ]
  },
  {
   "cell_type": "code",
   "execution_count": null,
   "metadata": {},
   "outputs": [],
   "source": [
    "#helper function that uses files from src/experimental_utils.py to train a model given optimizer, save the model, and report validation loss"
   ]
  },
  {
   "cell_type": "code",
   "execution_count": 125,
   "metadata": {},
   "outputs": [],
   "source": [
    "def run_train_and_log_experiments(model_name, model, loss_fn, optimizer):\n",
    "    experiment_utils.setup_model_logger(_LOGGER, model_name, _MODEL_LOG_ROOT_PATH)\n",
    "    _LOGGER.info(model_name)\n",
    "\n",
    "    #initial test loss\n",
    "    test_losses = experiment_utils.evaluate_validation_loss(model, loss_fn, test_inputs, test_outputs)\n",
    "    _LOGGER.info(\"Initial Validation Loss: {}\".format(np.mean(test_losses)))\n",
    "\n",
    "    #training model\n",
    "    training_losses = experiment_utils.train_model(model, loss_fn, optimizer,\n",
    "                                                  args.n_epoch, train_inputs, \n",
    "                                                   train_outputs, _LOGGER)\n",
    "\n",
    "    #saving model\n",
    "    torch.save(model, '{}/{}.pt'.format(_MODEL_ROOT_PATH, model_name))\n",
    "\n",
    "    #final validation loss\n",
    "    test_losses = experiment_utils.evaluate_validation_loss(model, loss_fn, test_inputs, test_outputs)\n",
    "    _LOGGER.info(\"final validation Loss: {}\".format(np.mean(test_losses)))\n",
    "\n",
    "    #saving model in global map\n",
    "    model_map[model_name] = model\n",
    "    training_loss_map[model_name] = training_losses"
   ]
  },
  {
   "cell_type": "code",
   "execution_count": null,
   "metadata": {},
   "outputs": [],
   "source": [
    "# the strucutre of the code is defining hyperparameters with a named tuple\n",
    "# creating a model object\n",
    "# ddefining loss\n",
    "# defining optimizer\n",
    "# running the helper function above"
   ]
  },
  {
   "cell_type": "code",
   "execution_count": 159,
   "metadata": {},
   "outputs": [
    {
     "name": "stderr",
     "output_type": "stream",
     "text": [
      "INFO:MIMIC_BOW_input_models:BOW_LSTM(hidden_dim=[1000, 100], n_epoch=10, lr=0.1, momentum=0.9, n_layers=1, dropout=0.2)\n",
      "INFO:MIMIC_BOW_input_models:Initial Validation Loss: 0.697964072227478\n",
      "DEBUG:MIMIC_BOW_input_models:training model\n",
      "INFO:MIMIC_BOW_input_models:epoch: 0, loss: 0.2437218576669693\n",
      "INFO:MIMIC_BOW_input_models:epoch: 1, loss: 0.20545515418052673\n",
      "INFO:MIMIC_BOW_input_models:epoch: 2, loss: 0.18554668128490448\n",
      "INFO:MIMIC_BOW_input_models:epoch: 3, loss: 0.1698475033044815\n",
      "INFO:MIMIC_BOW_input_models:epoch: 4, loss: 0.1577046662569046\n",
      "INFO:MIMIC_BOW_input_models:epoch: 5, loss: 0.14733371138572693\n",
      "INFO:MIMIC_BOW_input_models:epoch: 6, loss: 0.13844093680381775\n",
      "INFO:MIMIC_BOW_input_models:epoch: 7, loss: 0.1315547227859497\n",
      "INFO:MIMIC_BOW_input_models:epoch: 8, loss: 0.12522463500499725\n",
      "INFO:MIMIC_BOW_input_models:epoch: 9, loss: 0.11957152187824249\n",
      "INFO:MIMIC_BOW_input_models:final validation Loss: 0.2732766568660736\n"
     ]
    }
   ],
   "source": [
    "######LSTM MODEL#####\n",
    "from src.model.mimic_onehot import OneHotLSTMClassifier\n",
    "\n",
    "LSTMArgs = namedtuple('BOW_LSTM', \n",
    "                      ['hidden_dim',\n",
    "                       'n_epoch',\n",
    "                       'lr',\n",
    "                       'momentum',\n",
    "                      'n_layers',\n",
    "                      'dropout'])\n",
    "args = LSTMArgs(\n",
    "    hidden_dim=[1000,100],\n",
    "    n_epoch = 10,\n",
    "    lr = 0.1,\n",
    "    n_layers=1,\n",
    "    momentum = 0.9,\n",
    "    dropout = 0.2\n",
    ")\n",
    "\n",
    "model_name = str(args)\n",
    "\n",
    "model = OneHotLSTMClassifier(\n",
    "    input_dim=len(inputs[0][0]),\n",
    "    hidden_dims=args.hidden_dim,\n",
    "    n_layers=args.n_layers,\n",
    "    n_class=top_n)\n",
    "\n",
    "loss_fn = nn.BCEWithLogitsLoss()\n",
    "optimizer = optim.SGD(model.parameters(), lr=args.lr, momentum=args.momentum)\n",
    "run_train_and_log_experiments(model_name, model, loss_fn, optimizer)"
   ]
  },
  {
   "cell_type": "code",
   "execution_count": null,
   "metadata": {},
   "outputs": [],
   "source": [
    "#FCN model"
   ]
  },
  {
   "cell_type": "code",
   "execution_count": 136,
   "metadata": {},
   "outputs": [
    {
     "name": "stderr",
     "output_type": "stream",
     "text": [
      "INFO:MIMIC_BOW_input_models:BOW_FCN(hidden_dim=[1000, 100], n_epoch=10, lr=0.1, momentum=0.9)\n",
      "INFO:MIMIC_BOW_input_models:Initial Validation Loss: 0.6943941712379456\n",
      "DEBUG:MIMIC_BOW_input_models:training model\n",
      "INFO:MIMIC_BOW_input_models:epoch: 0, loss: 0.1902233213186264\n",
      "INFO:MIMIC_BOW_input_models:epoch: 1, loss: 0.08814419060945511\n",
      "INFO:MIMIC_BOW_input_models:epoch: 2, loss: 0.04254939779639244\n",
      "INFO:MIMIC_BOW_input_models:epoch: 3, loss: 0.021746329963207245\n",
      "INFO:MIMIC_BOW_input_models:epoch: 4, loss: 0.011894998140633106\n",
      "INFO:MIMIC_BOW_input_models:epoch: 5, loss: 0.007051469758152962\n",
      "INFO:MIMIC_BOW_input_models:epoch: 6, loss: 0.004479181487113237\n",
      "INFO:MIMIC_BOW_input_models:epoch: 7, loss: 0.0030334440525621176\n",
      "INFO:MIMIC_BOW_input_models:epoch: 8, loss: 0.0021651892457157373\n",
      "INFO:MIMIC_BOW_input_models:epoch: 9, loss: 0.0016279708361253142\n",
      "INFO:MIMIC_BOW_input_models:final validation Loss: 0.7728942632675171\n"
     ]
    }
   ],
   "source": [
    "######FCN MODEL#####\n",
    "from src.model.mimic_onehot import OneHotFullyConnectedClassifier\n",
    "\n",
    "FCArgs = namedtuple('BOW_FCN', \n",
    "                      ['hidden_dim',\n",
    "                       'n_epoch',\n",
    "                       'lr',\n",
    "                       'momentum'])\n",
    "args = FCArgs(\n",
    "    hidden_dim=[1000,100],\n",
    "    n_epoch = 10,\n",
    "    lr = 0.1,\n",
    "    momentum = 0.9\n",
    ")\n",
    "\n",
    "\n",
    "_LOGGER.handlers = [\n",
    "    h for h in _LOGGER.handlers if not isinstance(h, logging.StreamHandler)]\n",
    "model_name = str(args)\n",
    "fh = logging.FileHandler('logs/MIMIC3/onehot/{}.log'.format(model_name))\n",
    "fh.setLevel(logging.DEBUG)\n",
    "_LOGGER.addHandler(fh)\n",
    "\n",
    "model = OneHotFullyConnectedClassifier(\n",
    "    input_dim=len(inputs[0][0]),\n",
    "    hidden_dims=args.hidden_dim,\n",
    "    n_class=top_n)\n",
    "\n",
    "loss_fn = nn.BCEWithLogitsLoss()\n",
    "optimizer = optim.SGD(model.parameters(), lr=args.lr, momentum=args.momentum)\n",
    "\n",
    "run_train_and_log_experiments(model_name, model, loss_fn, optimizer)"
   ]
  },
  {
   "cell_type": "code",
   "execution_count": null,
   "metadata": {},
   "outputs": [],
   "source": [
    "# logistic regression model"
   ]
  },
  {
   "cell_type": "code",
   "execution_count": 137,
   "metadata": {},
   "outputs": [
    {
     "name": "stderr",
     "output_type": "stream",
     "text": [
      "INFO:MIMIC_BOW_input_models:BOW_LogReg(n_epoch=10, lr=0.1, momentum=0.9)\n",
      "INFO:MIMIC_BOW_input_models:Initial Validation Loss: 0.6921840906143188\n",
      "DEBUG:MIMIC_BOW_input_models:training model\n",
      "INFO:MIMIC_BOW_input_models:epoch: 0, loss: 0.2503800392150879\n",
      "INFO:MIMIC_BOW_input_models:epoch: 1, loss: 0.13923223316669464\n",
      "INFO:MIMIC_BOW_input_models:epoch: 2, loss: 0.10383240878582001\n",
      "INFO:MIMIC_BOW_input_models:epoch: 3, loss: 0.08209522813558578\n",
      "INFO:MIMIC_BOW_input_models:epoch: 4, loss: 0.06725428998470306\n",
      "INFO:MIMIC_BOW_input_models:epoch: 5, loss: 0.056526683270931244\n",
      "INFO:MIMIC_BOW_input_models:epoch: 6, loss: 0.04846784844994545\n",
      "INFO:MIMIC_BOW_input_models:epoch: 7, loss: 0.04223538190126419\n",
      "INFO:MIMIC_BOW_input_models:epoch: 8, loss: 0.03730132803320885\n",
      "INFO:MIMIC_BOW_input_models:epoch: 9, loss: 0.03331803157925606\n",
      "INFO:MIMIC_BOW_input_models:final validation Loss: 0.2743026614189148\n"
     ]
    }
   ],
   "source": [
    "######LogReg MODEL#####\n",
    "from src.model.mimic_onehot import OneHotLogRegClassifier\n",
    "\n",
    "LogRegArgs = namedtuple('BOW_LogReg', \n",
    "                      ['n_epoch',\n",
    "                       'lr',\n",
    "                       'momentum'])\n",
    "args = LogRegArgs(\n",
    "    n_epoch = 10,\n",
    "    lr = 0.1,\n",
    "    momentum = 0.9\n",
    ")\n",
    "\n",
    "model_name = str(args)\n",
    "model = OneHotLogRegClassifier(\n",
    "    input_dim=len(inputs[0][0]),\n",
    "    n_class=top_n)\n",
    "\n",
    "loss_fn = nn.BCEWithLogitsLoss()\n",
    "optimizer = optim.SGD(model.parameters(), lr=args.lr, momentum=args.momentum)\n",
    "run_train_and_log_experiments(model_name, model, loss_fn, optimizer)"
   ]
  },
  {
   "cell_type": "markdown",
   "metadata": {},
   "source": [
    "# Analysis"
   ]
  },
  {
   "cell_type": "code",
   "execution_count": null,
   "metadata": {},
   "outputs": [],
   "source": [
    "# logging analysis in an analysis folder"
   ]
  },
  {
   "cell_type": "code",
   "execution_count": 141,
   "metadata": {},
   "outputs": [],
   "source": [
    "log_path = 'logs/MIMIC3/onehot/onehot_models_analysis.log'\n",
    "if os.path.exists(log_path):\n",
    "    os.remove(log_path)\n",
    "\n",
    "_LOGGER.handlers = [\n",
    "    h for h in _LOGGER.handlers if not isinstance(h, logging.StreamHandler)]\n",
    "fh = logging.FileHandler('logs/MIMIC3/onehot/onehot_models_analysis.log')\n",
    "fh.setLevel(logging.DEBUG)\n",
    "_LOGGER.addHandler(fh)"
   ]
  },
  {
   "cell_type": "code",
   "execution_count": null,
   "metadata": {},
   "outputs": [],
   "source": [
    "#caching results of test predictions and logits of all the models"
   ]
  },
  {
   "cell_type": "code",
   "execution_count": 151,
   "metadata": {},
   "outputs": [],
   "source": [
    "test_prediction_map = {}\n",
    "test_logits_map = {}\n",
    "test_output_map = {}\n",
    "#preprocessing test outputs\n",
    "sigmoid = nn.Sigmoid()\n",
    "for model_name, model in model_map.items():\n",
    "    all_logits = []\n",
    "    all_outputs = []\n",
    "    all_predictions = []\n",
    "    for sequence, target in zip(test_inputs, test_outputs):    \n",
    "    \n",
    "        if 'LSTM' in model_name:\n",
    "            model.hidden = model.init_hidden()\n",
    "\n",
    "        logits = model(sequence.view(len(sequence), 1, -1))\n",
    "\n",
    "        model_outputs = sigmoid(logits).detach().numpy()\n",
    "        predictions = model_outputs > 0.5\n",
    "        predictions = predictions.astype(np.float32)\n",
    "\n",
    "        all_outputs.append(model_outputs)\n",
    "        all_logits.append(logits.detach().numpy())\n",
    "        all_predictions.append(predictions)\n",
    "    test_prediction_map[model_name] = all_predictions\n",
    "    test_logits_map[model_name] = all_logits\n",
    "    test_output_map[model_name] = all_outputs"
   ]
  },
  {
   "cell_type": "code",
   "execution_count": null,
   "metadata": {},
   "outputs": [],
   "source": [
    "#computing precision@k"
   ]
  },
  {
   "cell_type": "code",
   "execution_count": 154,
   "metadata": {},
   "outputs": [
    {
     "name": "stderr",
     "output_type": "stream",
     "text": [
      "INFO:MIMIC_BOW_input_models:Precision@1\n",
      "INFO:MIMIC_BOW_input_models:BOW_FCN(hidden_dim=[1000, 100], n_epoch=10, lr=0.1, momentum=0.9) 0.5870809484873263\n",
      "INFO:MIMIC_BOW_input_models:BOW_LogReg(n_epoch=10, lr=0.1, momentum=0.9) 0.6434995911692559\n",
      "INFO:MIMIC_BOW_input_models:BOW_LSTM(hidden_dim=[1000, 100], n_epoch=10, lr=0.1, momentum=0.9, n_layers=1, dropout=0.5) 0.6500408830744072\n",
      "INFO:MIMIC_BOW_input_models:Precision@2\n",
      "INFO:MIMIC_BOW_input_models:BOW_FCN(hidden_dim=[1000, 100], n_epoch=10, lr=0.1, momentum=0.9) 0.5400654129190515\n",
      "INFO:MIMIC_BOW_input_models:BOW_LogReg(n_epoch=10, lr=0.1, momentum=0.9) 0.6001635322976288\n",
      "INFO:MIMIC_BOW_input_models:BOW_LSTM(hidden_dim=[1000, 100], n_epoch=10, lr=0.1, momentum=0.9, n_layers=1, dropout=0.5) 0.5940310711365495\n",
      "INFO:MIMIC_BOW_input_models:Precision@3\n",
      "INFO:MIMIC_BOW_input_models:BOW_FCN(hidden_dim=[1000, 100], n_epoch=10, lr=0.1, momentum=0.9) 0.5132188607249932\n",
      "INFO:MIMIC_BOW_input_models:BOW_LogReg(n_epoch=10, lr=0.1, momentum=0.9) 0.552739165985282\n",
      "INFO:MIMIC_BOW_input_models:BOW_LSTM(hidden_dim=[1000, 100], n_epoch=10, lr=0.1, momentum=0.9, n_layers=1, dropout=0.5) 0.5524666121559008\n"
     ]
    }
   ],
   "source": [
    "#precision@k\n",
    "from src.utils import precision_at_k, bootstrap_CI\n",
    "k_values = [1,2,3]\n",
    "for k in k_values:\n",
    "    _LOGGER.info(\"Precision@{}\".format(k))\n",
    "    for model_name in model_map:\n",
    "            pk = precision_at_k(test_logits_map[model_name], test_outputs, k)\n",
    "            _LOGGER.info(\"{} {}\".format(model_name, pk))"
   ]
  },
  {
   "cell_type": "code",
   "execution_count": 155,
   "metadata": {},
   "outputs": [
    {
     "name": "stderr",
     "output_type": "stream",
     "text": [
      "INFO:MIMIC_BOW_input_models:Computing Precision@1\n",
      "INFO:MIMIC_BOW_input_models:BOW_FCN(hidden_dim=[1000, 100], n_epoch=10, lr=0.1, momentum=0.9) (0.5863512692757874, 0.5883313179762851)\n",
      "INFO:MIMIC_BOW_input_models:BOW_LogReg(n_epoch=10, lr=0.1, momentum=0.9) (0.6433000707421739, 0.645383625388855)\n",
      "INFO:MIMIC_BOW_input_models:BOW_LSTM(hidden_dim=[1000, 100], n_epoch=10, lr=0.1, momentum=0.9, n_layers=1, dropout=0.5) (0.648386323178573, 0.6504368160200097)\n",
      "INFO:MIMIC_BOW_input_models:Computing Precision@2\n",
      "INFO:MIMIC_BOW_input_models:BOW_FCN(hidden_dim=[1000, 100], n_epoch=10, lr=0.1, momentum=0.9) (0.5390086828630274, 0.5405993499581159)\n",
      "INFO:MIMIC_BOW_input_models:BOW_LogReg(n_epoch=10, lr=0.1, momentum=0.9) (0.599144861529992, 0.6009629269025004)\n",
      "INFO:MIMIC_BOW_input_models:BOW_LSTM(hidden_dim=[1000, 100], n_epoch=10, lr=0.1, momentum=0.9, n_layers=1, dropout=0.5) (0.5938993178402703, 0.5955751418225808)\n",
      "INFO:MIMIC_BOW_input_models:Computing Precision@3\n",
      "INFO:MIMIC_BOW_input_models:BOW_FCN(hidden_dim=[1000, 100], n_epoch=10, lr=0.1, momentum=0.9) (0.512494723883048, 0.5139423144390551)\n",
      "INFO:MIMIC_BOW_input_models:BOW_LogReg(n_epoch=10, lr=0.1, momentum=0.9) (0.5516362602222369, 0.5531454792802217)\n",
      "INFO:MIMIC_BOW_input_models:BOW_LSTM(hidden_dim=[1000, 100], n_epoch=10, lr=0.1, momentum=0.9, n_layers=1, dropout=0.5) (0.5521993821090568, 0.5536616115006695)\n"
     ]
    }
   ],
   "source": [
    "#precision@k with confidence intervals\n",
    "from src.utils import precision_at_k, bootstrap_CI\n",
    "from sklearn.utils import resample\n",
    "\n",
    "k_values = [1,2,3]\n",
    "n_bootstrap = 1000\n",
    "\n",
    "bootstrap_pk_map = {}\n",
    "pk_CI_map = {}\n",
    "\n",
    "for k in k_values:\n",
    "    _LOGGER.info(\"Computing Precision@{}\".format(k))\n",
    "    for model_name in model_map:\n",
    "        pk, CI = bootstrap_CI(precision_at_k, {'k':k}, \n",
    "                             (test_logits_map[model_name], test_outputs),\n",
    "                              n_bootstrap)\n",
    "        bootstrap_pk_map[model_name] = pk\n",
    "        pk_CI_map[model_name] = CI\n",
    "        _LOGGER.info(\"{} {}\".format(model_name, CI))"
   ]
  },
  {
   "cell_type": "code",
   "execution_count": null,
   "metadata": {},
   "outputs": [],
   "source": [
    "#flattening result to compute confusion matrix over all diseases"
   ]
  },
  {
   "cell_type": "code",
   "execution_count": 156,
   "metadata": {},
   "outputs": [
    {
     "name": "stderr",
     "output_type": "stream",
     "text": [
      "INFO:MIMIC_BOW_input_models:BOW_FCN(hidden_dim=[1000, 100], n_epoch=10, lr=0.1, momentum=0.9)\n",
      "[[107440   5069]\n",
      " [  5425   4366]]\n",
      "INFO:MIMIC_BOW_input_models:BOW_LogReg(n_epoch=10, lr=0.1, momentum=0.9)\n",
      "[[107796   4713]\n",
      " [  5534   4257]]\n",
      "INFO:MIMIC_BOW_input_models:BOW_LSTM(hidden_dim=[1000, 100], n_epoch=10, lr=0.1, momentum=0.9, n_layers=1, dropout=0.5)\n",
      "[[110299   2210]\n",
      " [  6994   2797]]\n"
     ]
    }
   ],
   "source": [
    "true_labels_flattened = torch.cat(list((map(lambda x : x[1:].flatten(), test_outputs))))\n",
    "for model_name in model_map:\n",
    "    predictions = test_prediction_map[model_name]\n",
    "    predictions_flattened = np.concatenate(list(map(lambda x : x[:-1].flatten(), predictions)))\n",
    "    _LOGGER.info(\"{}\\n{}\".format(model_name,metrics.confusion_matrix(true_labels_flattened, predictions_flattened)))"
   ]
  },
  {
   "cell_type": "code",
   "execution_count": null,
   "metadata": {},
   "outputs": [],
   "source": [
    "#only computing preciison@k at different lengths"
   ]
  },
  {
   "cell_type": "code",
   "execution_count": 157,
   "metadata": {},
   "outputs": [
    {
     "data": {
      "text/plain": [
       "<matplotlib.legend.Legend at 0x7f6d22a4e208>"
      ]
     },
     "execution_count": 157,
     "metadata": {},
     "output_type": "execute_result"
    },
    {
     "data": {
      "image/png": "[encoded data removed]",
      "text/plain": [
       "<Figure size 432x288 with 1 Axes>"
      ]
     },
     "metadata": {
      "needs_background": "light"
     },
     "output_type": "display_data"
    }
   ],
   "source": [
    "k = 1\n",
    "pk_vs_len_map = {}\n",
    "\n",
    "max_len = max(map(len, test_outputs))\n",
    "for model_name in model_map:\n",
    "    pks = []\n",
    "    filtered_logits = test_logits_map[model_name]\n",
    "    filtered_test_outputs = test_outputs\n",
    "    \n",
    "    for filter_len in range(min_len, max_len):\n",
    "        indices = [i for (i,sequence) in enumerate(filtered_test_outputs) if len(sequence) > filter_len]\n",
    "        \n",
    "        filtered_logits = [filtered_logits[i] for i in indices]\n",
    "        filtered_test_outputs = [filtered_test_outputs[i] for i in indices]\n",
    "        #print(len(filtered_test_outputs))\n",
    "        pks.append(precision_at_k(filtered_logits, filtered_test_outputs, k))\n",
    "    pk_vs_len_map[model_name] = pks\n",
    "    \n",
    "max_len = max(map(len, test_outputs))\n",
    "\n",
    "for model_name, pks in pk_vs_len_map.items():\n",
    "    plt.plot(np.arange(3,max_len), pks, label=model_name)\n",
    "plt.legend()"
   ]
  },
  {
   "cell_type": "code",
   "execution_count": null,
   "metadata": {},
   "outputs": [],
   "source": []
  }
 ],
 "metadata": {
  "kernelspec": {
   "display_name": "Python 3",
   "language": "python",
   "name": "python3"
  },
  "language_info": {
   "codemirror_mode": {
    "name": "ipython",
    "version": 3
   },
   "file_extension": ".py",
   "mimetype": "text/x-python",
   "name": "python",
   "nbconvert_exporter": "python",
   "pygments_lexer": "ipython3",
   "version": "3.7.2"
  }
 },
 "nbformat": 4,
 "nbformat_minor": 2
}
