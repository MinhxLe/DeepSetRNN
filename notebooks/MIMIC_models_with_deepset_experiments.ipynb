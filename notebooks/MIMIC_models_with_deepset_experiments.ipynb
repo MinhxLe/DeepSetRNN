{
 "cells": [
  {
   "cell_type": "code",
   "execution_count": 16,
   "metadata": {},
   "outputs": [
    {
     "name": "stdout",
     "output_type": "stream",
     "text": [
      "The autoreload extension is already loaded. To reload it, use:\n",
      "  %reload_ext autoreload\n",
      "/home/minh/Research/Sriram/DeepSetRNN\n"
     ]
    }
   ],
   "source": [
    "%load_ext autoreload\n",
    "%autoreload 2\n",
    "%cd ~/Research/Sriram/DeepSetRNN\n",
    "\n",
    "import pandas as pd\n",
    "from sklearn import metrics\n",
    "import matplotlib.pyplot as plt\n",
    "import numpy as np\n",
    "from collections import defaultdict\n",
    "import os\n",
    "import string\n",
    "import pickle\n",
    "from collections import namedtuple\n",
    "from src import experiment_utils\n",
    "\n",
    "import torch\n",
    "import torch.nn as nn\n",
    "import torch.nn.functional as F\n",
    "import torch.optim as optim\n",
    "import logging\n",
    "import os\n",
    "import importlib\n",
    "\n",
    "from src import convert_dot_format\n",
    "\n",
    "DATA_PATH='data/MIMIC3database'"
   ]
  },
  {
   "cell_type": "code",
   "execution_count": 17,
   "metadata": {},
   "outputs": [],
   "source": [
    "logging.info(\"starting logger\")\n",
    "_LOGGER = logging.getLogger('MIMIC_seq_model')\n",
    "_LOGGER.setLevel(logging.DEBUG)"
   ]
  },
  {
   "cell_type": "markdown",
   "metadata": {},
   "source": [
    "# Preprocessing Data"
   ]
  },
  {
   "cell_type": "code",
   "execution_count": 3,
   "metadata": {},
   "outputs": [],
   "source": [
    "top_n = 100 #should be the same as before\n",
    "diagnoses_procedures_df = pd.read_csv('data/MIMIC3database/processed/ICD9_diagnoses_procedures_mimic_idx_sentences_top_100_sorted.csv', index_col=0)\n",
    "\n",
    "#converting sentences to a single column\n",
    "diagnoses_procedures_df['DIAGNOSES_SENTENCES'] = diagnoses_procedures_df[['0_diagnoses', '1_diagnoses',\n",
    "       '2_diagnoses', '3_diagnoses', '4_diagnoses', '5_diagnoses',\n",
    "       '6_diagnoses', '7_diagnoses', '8_diagnoses', '9_diagnoses',\n",
    "       '10_diagnoses', '11_diagnoses', '12_diagnoses', '13_diagnoses',\n",
    "       '14_diagnoses', '15_diagnoses', '16_diagnoses', '17_diagnoses',\n",
    "       '18_diagnoses', '19_diagnoses', '20_diagnoses', '21_diagnoses', '22',\n",
    "       '23', '24', '25', '26', '27', '28', '29', '30', '31']].values.tolist()\n",
    "\n",
    "diagnoses_procedures_df['PROCEDURES_SENTENCES'] = diagnoses_procedures_df[\n",
    "    ['0_procedures', '1_procedures', '2_procedures', '3_procedures',\n",
    "       '4_procedures', '5_procedures', '6_procedures', '7_procedures',\n",
    "       '8_procedures', '9_procedures', '10_procedures', '11_procedures',\n",
    "       '12_procedures', '13_procedures', '14_procedures', '15_procedures',\n",
    "       '16_procedures', '17_procedures', '18_procedures', '19_procedures',\n",
    "       '20_procedures', '21_procedures']].values.tolist()\n",
    "\n",
    "diagnoses_procedures_df.drop(labels=['0_diagnoses', '1_diagnoses',\n",
    "       '2_diagnoses', '3_diagnoses', '4_diagnoses', '5_diagnoses',\n",
    "       '6_diagnoses', '7_diagnoses', '8_diagnoses', '9_diagnoses',\n",
    "       '10_diagnoses', '11_diagnoses', '12_diagnoses', '13_diagnoses',\n",
    "       '14_diagnoses', '15_diagnoses', '16_diagnoses', '17_diagnoses',\n",
    "       '18_diagnoses', '19_diagnoses', '20_diagnoses', '21_diagnoses', '22',\n",
    "       '23', '24', '25', '26', '27', '28', '29', '30', '31'], axis=1, inplace=True)\n",
    "\n",
    "diagnoses_procedures_df.drop(labels=['0_procedures', '1_procedures', '2_procedures', '3_procedures',\n",
    "       '4_procedures', '5_procedures', '6_procedures', '7_procedures',\n",
    "       '8_procedures', '9_procedures', '10_procedures', '11_procedures',\n",
    "       '12_procedures', '13_procedures', '14_procedures', '15_procedures',\n",
    "       '16_procedures', '17_procedures', '18_procedures', '19_procedures',\n",
    "       '20_procedures', '21_procedures'], axis=1, inplace=True)\n",
    "\n",
    "diagnoses_procedures_df.to_csv(\"data/MIMIC3database/processed/ICD9_diagnoses_procedures_mimic_idx_sentences_top_100_sorted_concat.csv\")"
   ]
  },
  {
   "cell_type": "code",
   "execution_count": 4,
   "metadata": {},
   "outputs": [],
   "source": [
    "diagnoses_counts = diagnoses_procedures_df['ICD9_CODE_diagnoses'].value_counts()\n",
    "procedures_counts = diagnoses_procedures_df['ICD9_CODE_procedures'].value_counts()\n",
    "\n",
    "diagnoses_set = set(diagnoses_counts.keys()[:top_n])\n",
    "procedures_set = set(procedures_counts.keys()[:top_n])\n",
    "\n",
    "diagnoses_idx_map = {}\n",
    "for i, code in enumerate(diagnoses_counts.keys()[:top_n]):\n",
    "    diagnoses_idx_map[code] = i\n",
    "\n",
    "data = list(diagnoses_procedures_df.groupby(['SUBJECT_ID']))\n",
    "data = [(subject_id, list(subject_data.groupby(['HADM_ID', 'ADMITTIME']))) for subject_id, subject_data in data]\n",
    "\n",
    "\n",
    "def get_onehot_vector(indices, top_n):\n",
    "    prediction = np.zeros(top_n, dtype='float32')\n",
    "    prediction[indices] = 1\n",
    "    return prediction\n",
    "\n",
    "all_inputs = []\n",
    "all_outputs = []\n",
    "for _, subject in data:\n",
    "    input_series = []\n",
    "    output_series = []\n",
    "    for _, timestep in subject:\n",
    "        timestep = timestep[timestep['ICD9_CODE_diagnoses'].isin(diagnoses_set)\n",
    "                           | timestep['ICD9_CODE_procedures'].isin(procedures_set)]\n",
    "        indices = [diagnoses_idx_map[key] for key in timestep['ICD9_CODE_diagnoses'] if key in diagnoses_set]\n",
    "        if len(timestep) > 0:\n",
    "            input_series.append((np.stack(timestep['DIAGNOSES_SENTENCES'],axis=0), np.stack(timestep['PROCEDURES_SENTENCES'],axis=0)))\n",
    "            output_series.append(get_onehot_vector(indices, top_n))\n",
    "    if len(input_series) > 0 and len(output_series):\n",
    "        all_inputs.append(input_series)\n",
    "        all_outputs.append(np.array(output_series))\n",
    "\n",
    "\n",
    "# all_outputs = []\n",
    "\n",
    "# def get_onehot_vector(indices, top_n):\n",
    "#     prediction = np.zeros(top_n, dtype='float32')\n",
    "#     prediction[indices] = 1\n",
    "#     return prediction\n",
    "\n",
    "# for _, subject in data:\n",
    "#     series = []\n",
    "#     for _, timestep in subject:\n",
    "#         indices = [diagnoses_idx_map[key] for key in timestep['ICD9_CODE_diagnoses'] \\\n",
    "#                   if key in diagnoses_set]\n",
    "#         if len(timestep) > 0:\n",
    "#             series.append(get_onehot_vector(indices, top_n))\n",
    "#     if len(series) > 0:\n",
    "#         all_outputs.append(np.array(series))"
   ]
  },
  {
   "cell_type": "code",
   "execution_count": 6,
   "metadata": {},
   "outputs": [],
   "source": [
    "min_len = 3\n",
    "\n",
    "inputs = list(filter(lambda x : len(x) >= min_len, all_inputs))\n",
    "outputs = list(filter(lambda x: len(x) >= min_len, all_outputs))\n",
    "\n",
    "n_seq = len(inputs)\n",
    "\n",
    "split = int(n_seq*0.8)\n",
    "train_inputs = inputs[:split]\n",
    "train_outputs =  outputs[:split]\n",
    "\n",
    "test_inputs = inputs[split:n_seq]\n",
    "test_outputs = outputs[split:n_seq]"
   ]
  },
  {
   "cell_type": "code",
   "execution_count": 7,
   "metadata": {},
   "outputs": [],
   "source": [
    "word_embedding = pd.read_csv('data/embeddings/w2vModel1Gram9Jan2019_mimic_only.txt', index_col=0)\n",
    "word_embedding.drop('0',axis=1,inplace=True)\n",
    "word_embedding = torch.tensor(word_embedding.astype('float32').values)"
   ]
  },
  {
   "cell_type": "markdown",
   "metadata": {},
   "source": [
    "# Training Models"
   ]
  },
  {
   "cell_type": "code",
   "execution_count": 18,
   "metadata": {},
   "outputs": [],
   "source": [
    ",#global objects\n",
    "training_loss_map = {}\n",
    "model_map = {}"
   ]
  },
  {
   "cell_type": "code",
   "execution_count": 19,
   "metadata": {},
   "outputs": [],
   "source": [
    "_MODEL_LOG_ROOT_PATH = 'logs/MIMIC3/embedded'\n",
    "_MODEL_ROOT_PATH = 'models/MIMIC3/embedded'"
   ]
  },
  {
   "cell_type": "code",
   "execution_count": 44,
   "metadata": {},
   "outputs": [],
   "source": [
    "def run_train_and_log_experiments(model_name, model, loss_fn, optimizer):\n",
    "    experiment_utils.setup_model_logger(_LOGGER, model_name, _MODEL_LOG_ROOT_PATH)\n",
    "    _LOGGER.info(model_name)\n",
    "\n",
    "    #initial test loss\n",
    "    test_losses = experiment_utils.evaluate_validation_loss(model, loss_fn, test_inputs, test_outputs)\n",
    "    _LOGGER.info(\"Initial Validation Loss: {}\".format(np.mean(test_losses)))\n",
    "\n",
    "    #training model\n",
    "    training_losses = experiment_utils.train_model(model, loss_fn, optimizer,\n",
    "                                                  args.n_epoch, train_inputs, \n",
    "                                                   train_outputs, _LOGGER)\n",
    "\n",
    "    #saving model\n",
    "    torch.save(model, '{}/{}.pt'.format(_MODEL_ROOT_PATH, model_name))\n",
    "\n",
    "    #final validation loss\n",
    "    test_losses = experiment_utils.evaluate_validation_loss(model, loss_fn, test_inputs, test_outputs)\n",
    "    _LOGGER.info(\"final validation Loss: {}\".format(np.mean(test_losses)))\n",
    "\n",
    "    #saving model in global map\n",
    "    model_map[model_name] = model\n",
    "    training_loss_map[model_name] = training_losses\n"
   ]
  },
  {
   "cell_type": "code",
   "execution_count": 135,
   "metadata": {},
   "outputs": [
    {
     "name": "stderr",
     "output_type": "stream",
     "text": [
      "/home/minh/.conda/envs/deepset/lib/python3.6/site-packages/torch/nn/modules/rnn.py:46: UserWarning: dropout option adds dropout after all but last recurrent layer, so non-zero dropout expects num_layers greater than 1, but got dropout=0.2 and num_layers=1\n",
      "  \"num_layers={}\".format(dropout, num_layers))\n",
      "INFO:MIMIC_seq_model:EmbeddedLSTM(hidden_dim=[1000, 100], n_epoch=10, lr=0.1, momentum=0.9, n_layers=1, dropout=0.2, freeze_embedding=True)\n",
      "INFO:MIMIC_seq_model:Initial Validation Loss: 0.6926378607749939\n",
      "DEBUG:MIMIC_seq_model:training model\n",
      "INFO:MIMIC_seq_model:epoch: 0, loss: 0.22006887197494507\n",
      "INFO:MIMIC_seq_model:epoch: 1, loss: 0.18248900771141052\n",
      "INFO:MIMIC_seq_model:epoch: 2, loss: 0.161867156624794\n",
      "INFO:MIMIC_seq_model:epoch: 3, loss: 0.14848822355270386\n",
      "INFO:MIMIC_seq_model:epoch: 4, loss: 0.13841883838176727\n",
      "INFO:MIMIC_seq_model:epoch: 5, loss: 0.12948691844940186\n",
      "INFO:MIMIC_seq_model:epoch: 6, loss: 0.1212199479341507\n",
      "INFO:MIMIC_seq_model:epoch: 7, loss: 0.11403857171535492\n",
      "INFO:MIMIC_seq_model:epoch: 8, loss: 0.10834257304668427\n",
      "INFO:MIMIC_seq_model:epoch: 9, loss: 0.10327916592359543\n",
      "INFO:MIMIC_seq_model:final validation Loss: 0.31803250312805176\n"
     ]
    }
   ],
   "source": [
    "######LSTM MODEL#####\n",
    "from src.model.mimic_deepset import EmbeddedSetLSTMClassifier\n",
    "\n",
    "ModelArgs = namedtuple('EmbeddedLSTM', \n",
    "                      ['hidden_dim',\n",
    "                       'n_epoch',\n",
    "                       'lr',\n",
    "                       'momentum',\n",
    "                      'n_layers',\n",
    "                      'dropout',\n",
    "                      'freeze_embedding'])\n",
    "args = ModelArgs(\n",
    "    hidden_dim=[1000,100],\n",
    "    n_epoch = 10,\n",
    "    lr = 0.1,\n",
    "    n_layers=1,\n",
    "    momentum = 0.9,\n",
    "    dropout=0.2,\n",
    "    freeze_embedding=True\n",
    ")\n",
    "\n",
    "model_name = str(args)\n",
    "\n",
    "model = EmbeddedSetLSTMClassifier(hidden_dim=args.hidden_dim, \n",
    "                                  n_class=top_n,\n",
    "                                  embedding=word_embedding,\n",
    "                                  freeze_embedding=args.freeze_embedding,\n",
    "                                 dropout=args.dropout)\n",
    "loss_fn = nn.BCEWithLogitsLoss()\n",
    "optimizer = optim.SGD(model.parameters(), lr=args.lr, momentum=args.momentum)\n",
    "run_train_and_log_experiments(model_name, model, loss_fn, optimizer)\n",
    "\n"
   ]
  },
  {
   "cell_type": "code",
   "execution_count": 55,
   "metadata": {},
   "outputs": [
    {
     "name": "stderr",
     "output_type": "stream",
     "text": [
      "INFO:MIMIC_seq_model:EmbeddedFCN(hidden_dim=[1000, 100], n_epoch=10, lr=0.1, momentum=0.9, freeze_embedding=True)\n",
      "INFO:MIMIC_seq_model:Initial Validation Loss: 0.6980988383293152\n",
      "DEBUG:MIMIC_seq_model:training model\n",
      "INFO:MIMIC_seq_model:epoch: 0, loss: 0.21474993228912354\n",
      "INFO:MIMIC_seq_model:epoch: 1, loss: 0.16153521835803986\n",
      "INFO:MIMIC_seq_model:epoch: 2, loss: 0.14259444177150726\n",
      "INFO:MIMIC_seq_model:epoch: 3, loss: 0.12826266884803772\n",
      "INFO:MIMIC_seq_model:epoch: 4, loss: 0.1158418208360672\n",
      "INFO:MIMIC_seq_model:epoch: 5, loss: 0.10824453830718994\n",
      "INFO:MIMIC_seq_model:epoch: 6, loss: 0.10117420554161072\n",
      "INFO:MIMIC_seq_model:epoch: 7, loss: 0.09594278037548065\n",
      "INFO:MIMIC_seq_model:epoch: 8, loss: 0.09080421179533005\n",
      "INFO:MIMIC_seq_model:epoch: 9, loss: 0.08763530850410461\n",
      "INFO:MIMIC_seq_model:final validation Loss: 0.412952184677124\n"
     ]
    }
   ],
   "source": [
    "###FULLY CONNECTED MODEL#####\n",
    "from src.model.mimic_deepset import FullyConnectedNetworkClassifier\n",
    "\n",
    "ModelArgs = namedtuple('EmbeddedFCN', \n",
    "                      ['hidden_dim',\n",
    "                       'n_epoch',\n",
    "                       'lr',\n",
    "                       'momentum',\n",
    "                      'freeze_embedding'])\n",
    "args = ModelArgs(\n",
    "    hidden_dim=[1000,100],\n",
    "    n_epoch = 10,\n",
    "    lr = 0.1,\n",
    "    momentum = 0.9,\n",
    "    freeze_embedding=True\n",
    ")\n",
    "\n",
    "model_name = str(args)\n",
    "\n",
    "model = FullyConnectedNetworkClassifier(hidden_dims=args.hidden_dim, \n",
    "                                  n_class=top_n,\n",
    "                                  embedding=word_embedding,\n",
    "                                  freeze_embedding=args.freeze_embedding)\n",
    "loss_fn = nn.BCEWithLogitsLoss()\n",
    "optimizer = optim.SGD(model.parameters(), lr=args.lr, momentum=args.momentum)\n",
    "\n",
    "\n",
    "run_train_and_log_experiments(model_name, model, loss_fn, optimizer)"
   ]
  },
  {
   "cell_type": "code",
   "execution_count": 54,
   "metadata": {},
   "outputs": [
    {
     "name": "stderr",
     "output_type": "stream",
     "text": [
      "INFO:MIMIC_seq_model:EmbeddedLogReg(n_epoch=10, lr=0.1, momentum=0.9, freeze_embedding=True)\n",
      "INFO:MIMIC_seq_model:Initial Validation Loss: 0.7478676438331604\n",
      "DEBUG:MIMIC_seq_model:training model\n",
      "INFO:MIMIC_seq_model:epoch: 0, loss: 0.3238961398601532\n",
      "INFO:MIMIC_seq_model:epoch: 1, loss: 0.23327021300792694\n",
      "INFO:MIMIC_seq_model:epoch: 2, loss: 0.1901165395975113\n",
      "INFO:MIMIC_seq_model:epoch: 3, loss: 0.17020587623119354\n",
      "INFO:MIMIC_seq_model:epoch: 4, loss: 0.15518753230571747\n",
      "INFO:MIMIC_seq_model:epoch: 5, loss: 0.13837558031082153\n",
      "INFO:MIMIC_seq_model:epoch: 6, loss: 0.12967632710933685\n",
      "INFO:MIMIC_seq_model:epoch: 7, loss: 0.12212254106998444\n",
      "INFO:MIMIC_seq_model:epoch: 8, loss: 0.11140616238117218\n",
      "INFO:MIMIC_seq_model:epoch: 9, loss: 0.10666217654943466\n",
      "INFO:MIMIC_seq_model:final validation Loss: 0.5996338129043579\n"
     ]
    }
   ],
   "source": [
    "####LOG REG CLASSIFIER#####\n",
    "from src.model.mimic_deepset import EmbeddedLogRegClassifier\n",
    "\n",
    "ModelArgs = namedtuple('EmbeddedLogReg', \n",
    "                      ['n_epoch',\n",
    "                       'lr',\n",
    "                       'momentum',\n",
    "                      'freeze_embedding'])\n",
    "args = ModelArgs(\n",
    "    n_epoch = 10,\n",
    "    lr = 0.1,\n",
    "    momentum = 0.9,\n",
    "    freeze_embedding=True\n",
    ")\n",
    "\n",
    "model_name = str(args)\n",
    "\n",
    "model = EmbeddedLogRegClassifier(n_class=top_n,\n",
    "                                  embedding=word_embedding,\n",
    "                                  freeze_embedding=args.freeze_embedding)\n",
    "loss_fn = nn.BCEWithLogitsLoss()\n",
    "optimizer = optim.SGD(model.parameters(), lr=args.lr, momentum=args.momentum)\n",
    "\n",
    "\n",
    "run_train_and_log_experiments(model_name, model, loss_fn, optimizer)"
   ]
  },
  {
   "cell_type": "markdown",
   "metadata": {},
   "source": [
    "# Analysis"
   ]
  },
  {
   "cell_type": "code",
   "execution_count": 136,
   "metadata": {},
   "outputs": [],
   "source": [
    "analysis_log_path = \"{}/{}.log\".format(_MODEL_LOG_ROOT_PATH, \"analysis\")\n",
    "if os.path.exists(analysis_log_path):\n",
    "    os.remove(analysis_log_path)\n",
    "\n",
    "_LOGGER.handlers = [\n",
    "    h for h in _LOGGER.handlers if not isinstance(h, logging.StreamHandler)]\n",
    "fh = logging.FileHandler('logs/MIMIC3/embedded_models_analysis.log')\n",
    "fh.setLevel(logging.DEBUG)\n",
    "_LOGGER.addHandler(fh)"
   ]
  },
  {
   "cell_type": "code",
   "execution_count": 137,
   "metadata": {},
   "outputs": [],
   "source": [
    "test_prediction_map = {}\n",
    "test_logits_map = {}\n",
    "test_output_map = {}\n",
    "#preprocessing test outputs\n",
    "sigmoid = nn.Sigmoid()\n",
    "for model_name, model in model_map.items():\n",
    "    all_logits = []\n",
    "    all_outputs = []\n",
    "    all_predictions = []\n",
    "    for sequence, target in zip(test_inputs, test_outputs):    \n",
    "        logits = model(sequence)\n",
    "\n",
    "        model_outputs = sigmoid(logits).detach().numpy()\n",
    "        predictions = model_outputs > 0.5\n",
    "        predictions = predictions.astype(np.float32)\n",
    "\n",
    "        all_outputs.append(model_outputs)\n",
    "        all_logits.append(logits.detach().numpy())\n",
    "        all_predictions.append(predictions)\n",
    "    test_prediction_map[model_name] = all_predictions\n",
    "    test_logits_map[model_name] = all_logits\n",
    "    test_output_map[model_name] = all_outputs"
   ]
  },
  {
   "cell_type": "code",
   "execution_count": 138,
   "metadata": {},
   "outputs": [
    {
     "name": "stderr",
     "output_type": "stream",
     "text": [
      "INFO:MIMIC_seq_model:K\n",
      "INFO:MIMIC_seq_model:EmbeddedLSTM(hidden_dim=[1000, 100], n_epoch=10, lr=0.1, momentum=0.9, n_layers=1, dropout=0, freeze_embedding=True) 0.5699100572363042\n",
      "INFO:MIMIC_seq_model:EmbeddedFCN(hidden_dim=[1000, 100], n_epoch=10, lr=0.1, momentum=0.9, freeze_embedding=True) 0.5470155355682748\n",
      "INFO:MIMIC_seq_model:EmbeddedLogReg(n_epoch=10, lr=0.1, momentum=0.9, freeze_embedding=True) 0.570727718724448\n",
      "INFO:MIMIC_seq_model:EmbeddedLSTM(hidden_dim=[1000, 100], n_epoch=10, lr=0.1, momentum=0.9, n_layers=1, dropout=0.5, freeze_embedding=True) 0.6271463614063778\n",
      "INFO:MIMIC_seq_model:EmbeddedLSTM(hidden_dim=[1000, 100], n_epoch=20, lr=0.1, momentum=0.9, n_layers=1, dropout=0.5, freeze_embedding=True) 0.634505314799673\n",
      "INFO:MIMIC_seq_model:EmbeddedLSTM(hidden_dim=[1000, 100], n_epoch=10, lr=0.1, momentum=0.9, n_layers=1, dropout=0.2, freeze_embedding=True) 0.5658217497955846\n",
      "INFO:MIMIC_seq_model:K\n",
      "INFO:MIMIC_seq_model:EmbeddedLSTM(hidden_dim=[1000, 100], n_epoch=10, lr=0.1, momentum=0.9, n_layers=1, dropout=0, freeze_embedding=True) 0.5388389206868357\n",
      "INFO:MIMIC_seq_model:EmbeddedFCN(hidden_dim=[1000, 100], n_epoch=10, lr=0.1, momentum=0.9, freeze_embedding=True) 0.5220768601798855\n",
      "INFO:MIMIC_seq_model:EmbeddedLogReg(n_epoch=10, lr=0.1, momentum=0.9, freeze_embedding=True) 0.5453802125919869\n",
      "INFO:MIMIC_seq_model:EmbeddedLSTM(hidden_dim=[1000, 100], n_epoch=10, lr=0.1, momentum=0.9, n_layers=1, dropout=0.5, freeze_embedding=True) 0.5699100572363042\n",
      "INFO:MIMIC_seq_model:EmbeddedLSTM(hidden_dim=[1000, 100], n_epoch=20, lr=0.1, momentum=0.9, n_layers=1, dropout=0.5, freeze_embedding=True) 0.5817661488143908\n",
      "INFO:MIMIC_seq_model:EmbeddedLSTM(hidden_dim=[1000, 100], n_epoch=10, lr=0.1, momentum=0.9, n_layers=1, dropout=0.2, freeze_embedding=True) 0.5515126737530662\n",
      "INFO:MIMIC_seq_model:K\n",
      "INFO:MIMIC_seq_model:EmbeddedLSTM(hidden_dim=[1000, 100], n_epoch=10, lr=0.1, momentum=0.9, n_layers=1, dropout=0, freeze_embedding=True) 0.5134914145543745\n",
      "INFO:MIMIC_seq_model:EmbeddedFCN(hidden_dim=[1000, 100], n_epoch=10, lr=0.1, momentum=0.9, freeze_embedding=True) 0.48868901608067594\n",
      "INFO:MIMIC_seq_model:EmbeddedLogReg(n_epoch=10, lr=0.1, momentum=0.9, freeze_embedding=True) 0.5189424911420005\n",
      "INFO:MIMIC_seq_model:EmbeddedLSTM(hidden_dim=[1000, 100], n_epoch=10, lr=0.1, momentum=0.9, n_layers=1, dropout=0.5, freeze_embedding=True) 0.5134914145543745\n",
      "INFO:MIMIC_seq_model:EmbeddedLSTM(hidden_dim=[1000, 100], n_epoch=20, lr=0.1, momentum=0.9, n_layers=1, dropout=0.5, freeze_embedding=True) 0.5385663668574543\n",
      "INFO:MIMIC_seq_model:EmbeddedLSTM(hidden_dim=[1000, 100], n_epoch=10, lr=0.1, momentum=0.9, n_layers=1, dropout=0.2, freeze_embedding=True) 0.5263014445352957\n"
     ]
    }
   ],
   "source": [
    "#precision@k\n",
    "from src.utils import precision_at_k, bootstrap_CI\n",
    "k_values = [1,2,3]\n",
    "for k in k_values:\n",
    "    _LOGGER.info(\"K\")\n",
    "    for model_name in model_map:\n",
    "            pk = precision_at_k(test_logits_map[model_name], test_outputs, k)\n",
    "            _LOGGER.info(\"{} {}\".format(model_name, pk))"
   ]
  },
  {
   "cell_type": "code",
   "execution_count": 139,
   "metadata": {},
   "outputs": [
    {
     "name": "stderr",
     "output_type": "stream",
     "text": [
      "INFO:MIMIC_seq_model:Computing Precision@1\n",
      "INFO:MIMIC_seq_model:EmbeddedLSTM(hidden_dim=[1000, 100], n_epoch=10, lr=0.1, momentum=0.9, n_layers=1, dropout=0, freeze_embedding=True) (0.5684667979550694, 0.5704472279043583)\n",
      "INFO:MIMIC_seq_model:EmbeddedFCN(hidden_dim=[1000, 100], n_epoch=10, lr=0.1, momentum=0.9, freeze_embedding=True) (0.5467025581116399, 0.5488181401134212)\n",
      "INFO:MIMIC_seq_model:EmbeddedLogReg(n_epoch=10, lr=0.1, momentum=0.9, freeze_embedding=True) (0.5697770702943202, 0.571726236117038)\n",
      "INFO:MIMIC_seq_model:EmbeddedLSTM(hidden_dim=[1000, 100], n_epoch=10, lr=0.1, momentum=0.9, n_layers=1, dropout=0.5, freeze_embedding=True) (0.6265878046380104, 0.6286274453154701)\n",
      "INFO:MIMIC_seq_model:EmbeddedLSTM(hidden_dim=[1000, 100], n_epoch=20, lr=0.1, momentum=0.9, n_layers=1, dropout=0.5, freeze_embedding=True) (0.6329105158449759, 0.6349026620952061)\n",
      "INFO:MIMIC_seq_model:EmbeddedLSTM(hidden_dim=[1000, 100], n_epoch=10, lr=0.1, momentum=0.9, n_layers=1, dropout=0.2, freeze_embedding=True) (0.5645604487220585, 0.5665843475256084)\n",
      "INFO:MIMIC_seq_model:Computing Precision@2\n",
      "INFO:MIMIC_seq_model:EmbeddedLSTM(hidden_dim=[1000, 100], n_epoch=10, lr=0.1, momentum=0.9, n_layers=1, dropout=0, freeze_embedding=True) (0.5380842457020172, 0.5397267314701195)\n",
      "INFO:MIMIC_seq_model:EmbeddedFCN(hidden_dim=[1000, 100], n_epoch=10, lr=0.1, momentum=0.9, freeze_embedding=True) (0.5212088845278517, 0.5228067476244151)\n",
      "INFO:MIMIC_seq_model:EmbeddedLogReg(n_epoch=10, lr=0.1, momentum=0.9, freeze_embedding=True) (0.5444971844291427, 0.5461058890347398)\n",
      "INFO:MIMIC_seq_model:EmbeddedLSTM(hidden_dim=[1000, 100], n_epoch=10, lr=0.1, momentum=0.9, n_layers=1, dropout=0.5, freeze_embedding=True) (0.5694030335800436, 0.5710013622737494)\n",
      "INFO:MIMIC_seq_model:EmbeddedLSTM(hidden_dim=[1000, 100], n_epoch=20, lr=0.1, momentum=0.9, n_layers=1, dropout=0.5, freeze_embedding=True) (0.5816330219623091, 0.583334454420191)\n",
      "INFO:MIMIC_seq_model:EmbeddedLSTM(hidden_dim=[1000, 100], n_epoch=10, lr=0.1, momentum=0.9, n_layers=1, dropout=0.2, freeze_embedding=True) (0.5500359940557786, 0.551603155531674)\n",
      "INFO:MIMIC_seq_model:Computing Precision@3\n",
      "INFO:MIMIC_seq_model:EmbeddedLSTM(hidden_dim=[1000, 100], n_epoch=10, lr=0.1, momentum=0.9, n_layers=1, dropout=0, freeze_embedding=True) (0.513070164606496, 0.5144952430865591)\n",
      "INFO:MIMIC_seq_model:EmbeddedFCN(hidden_dim=[1000, 100], n_epoch=10, lr=0.1, momentum=0.9, freeze_embedding=True) (0.48774534660894947, 0.489141462220507)\n",
      "INFO:MIMIC_seq_model:EmbeddedLogReg(n_epoch=10, lr=0.1, momentum=0.9, freeze_embedding=True) (0.5180216288478702, 0.5195290602582744)\n",
      "INFO:MIMIC_seq_model:EmbeddedLSTM(hidden_dim=[1000, 100], n_epoch=10, lr=0.1, momentum=0.9, n_layers=1, dropout=0.5, freeze_embedding=True) (0.5135584367809873, 0.5150664870585051)\n",
      "INFO:MIMIC_seq_model:EmbeddedLSTM(hidden_dim=[1000, 100], n_epoch=20, lr=0.1, momentum=0.9, n_layers=1, dropout=0.5, freeze_embedding=True) (0.5376696265971781, 0.5391930213131466)\n",
      "INFO:MIMIC_seq_model:EmbeddedLSTM(hidden_dim=[1000, 100], n_epoch=10, lr=0.1, momentum=0.9, n_layers=1, dropout=0.2, freeze_embedding=True) (0.5251678669092747, 0.5266529568459792)\n"
     ]
    }
   ],
   "source": [
    "#precision@k with confidence intervals\n",
    "from src.utils import precision_at_k, bootstrap_CI\n",
    "from sklearn.utils import resample\n",
    "\n",
    "k_values = [1,2,3]\n",
    "n_bootstrap = 1000\n",
    "\n",
    "bootstrap_pk_map = {}\n",
    "pk_CI_map = {}\n",
    "\n",
    "for k in k_values:\n",
    "    _LOGGER.info(\"Computing Precision@{}\".format(k))\n",
    "    for model_name in model_map:\n",
    "        pk, CI = bootstrap_CI(precision_at_k, {'k':k}, \n",
    "                             (test_logits_map[model_name], test_outputs),\n",
    "                              n_bootstrap)\n",
    "        bootstrap_pk_map[model_name] = pk\n",
    "        pk_CI_map[model_name] = CI\n",
    "        _LOGGER.info(\"{} {}\".format(model_name, CI))"
   ]
  },
  {
   "cell_type": "code",
   "execution_count": 140,
   "metadata": {},
   "outputs": [
    {
     "data": {
      "text/plain": [
       "<matplotlib.legend.Legend at 0x7f3d42238dd8>"
      ]
     },
     "execution_count": 140,
     "metadata": {},
     "output_type": "execute_result"
    },
    {
     "data": {
      "image/png": "[encoded data removed]",
      "text/plain": [
       "<Figure size 432x288 with 1 Axes>"
      ]
     },
     "metadata": {
      "needs_background": "light"
     },
     "output_type": "display_data"
    }
   ],
   "source": [
    "k = 1\n",
    "pk_vs_len_map = {}\n",
    "\n",
    "max_len = max(map(len, test_outputs))\n",
    "for model_name in model_map:\n",
    "    pks = []\n",
    "    filtered_logits = test_logits_map[model_name]\n",
    "    filtered_test_outputs = test_outputs\n",
    "    \n",
    "    for filter_len in range(min_len, max_len):\n",
    "        indices = [i for (i,sequence) in enumerate(filtered_test_outputs) if len(sequence) > filter_len]\n",
    "        \n",
    "        filtered_logits = [filtered_logits[i] for i in indices]\n",
    "        filtered_test_outputs = [filtered_test_outputs[i] for i in indices]\n",
    "        #print(len(filtered_test_outputs))\n",
    "        pks.append(precision_at_k(filtered_logits, filtered_test_outputs, k))\n",
    "    pk_vs_len_map[model_name] = pks\n",
    "    \n",
    "max_len = max(map(len, test_outputs))\n",
    "\n",
    "for model_name, pks in pk_vs_len_map.items():\n",
    "    plt.plot(np.arange(3,max_len), pks, label=model_name)\n",
    "plt.legend()"
   ]
  },
  {
   "cell_type": "code",
   "execution_count": 78,
   "metadata": {},
   "outputs": [
    {
     "name": "stderr",
     "output_type": "stream",
     "text": [
      "INFO:MIMIC_seq_model:EmbeddedLSTM(hidden_dim=[1000, 100], n_epoch=10, lr=0.1, momentum=0.9, n_layers=1, dropout=0, freeze_embedding=True)\n",
      "[[108704   3805]\n",
      " [  6502   3289]]\n",
      "INFO:MIMIC_seq_model:EmbeddedFCN(hidden_dim=[1000, 100], n_epoch=10, lr=0.1, momentum=0.9, freeze_embedding=True)\n",
      "[[108602   3907]\n",
      " [  6740   3051]]\n",
      "INFO:MIMIC_seq_model:EmbeddedLogReg(n_epoch=10, lr=0.1, momentum=0.9, freeze_embedding=True)\n",
      "[[108020   4489]\n",
      " [  6176   3615]]\n",
      "INFO:MIMIC_seq_model:EmbeddedLSTM(hidden_dim=[1000, 100], n_epoch=10, lr=0.1, momentum=0.9, n_layers=1, dropout=0.5, freeze_embedding=True)\n",
      "[[110799   1710]\n",
      " [  7624   2167]]\n",
      "INFO:MIMIC_seq_model:EmbeddedLSTM(hidden_dim=[1000, 100], n_epoch=20, lr=0.1, momentum=0.9, n_layers=1, dropout=0.5, freeze_embedding=True)\n",
      "[[110392   2117]\n",
      " [  7198   2593]]\n"
     ]
    }
   ],
   "source": [
    "true_labels_flattened = np.concatenate(list((map(lambda x : x[1:].flatten(), test_outputs))))\n",
    "for model_name in model_map:\n",
    "    predictions = test_prediction_map[model_name]\n",
    "    predictions_flattened = np.concatenate(list(map(lambda x : x[:-1].flatten(), predictions)))\n",
    "    _LOGGER.info(\"{}\\n{}\".format(model_name,metrics.confusion_matrix(true_labels_flattened, predictions_flattened)))\n",
    "    "
   ]
  },
  {
   "cell_type": "code",
   "execution_count": 128,
   "metadata": {},
   "outputs": [
    {
     "name": "stderr",
     "output_type": "stream",
     "text": [
      "/home/minh/.conda/envs/deepset/lib/python3.6/site-packages/matplotlib/legend.py:497: UserWarning: Unrecognized location \"center bottom\". Falling back on \"best\"; valid locations are\n",
      "\tbest\n",
      "\tupper right\n",
      "\tupper left\n",
      "\tlower left\n",
      "\tlower right\n",
      "\tright\n",
      "\tcenter left\n",
      "\tcenter right\n",
      "\tlower center\n",
      "\tupper center\n",
      "\tcenter\n",
      "\n",
      "  % (loc, '\\n\\t'.join(self.codes)))\n"
     ]
    },
    {
     "data": {
      "text/plain": [
       "<Figure size 432x288 with 0 Axes>"
      ]
     },
     "metadata": {},
     "output_type": "display_data"
    },
    {
     "data": {
      "text/plain": [
       "<Figure size 432x288 with 0 Axes>"
      ]
     },
     "metadata": {},
     "output_type": "display_data"
    },
    {
     "data": {
      "text/plain": [
       "<Figure size 432x288 with 0 Axes>"
      ]
     },
     "metadata": {},
     "output_type": "display_data"
    },
    {
     "data": {
      "text/plain": [
       "<Figure size 432x288 with 0 Axes>"
      ]
     },
     "metadata": {},
     "output_type": "display_data"
    },
    {
     "data": {
      "text/plain": [
       "<Figure size 432x288 with 0 Axes>"
      ]
     },
     "metadata": {},
     "output_type": "display_data"
    },
    {
     "data": {
      "text/plain": [
       "<Figure size 432x288 with 0 Axes>"
      ]
     },
     "metadata": {},
     "output_type": "display_data"
    },
    {
     "data": {
      "text/plain": [
       "<Figure size 432x288 with 0 Axes>"
      ]
     },
     "metadata": {},
     "output_type": "display_data"
    },
    {
     "data": {
      "text/plain": [
       "<Figure size 432x288 with 0 Axes>"
      ]
     },
     "metadata": {},
     "output_type": "display_data"
    },
    {
     "data": {
      "text/plain": [
       "<Figure size 432x288 with 0 Axes>"
      ]
     },
     "metadata": {},
     "output_type": "display_data"
    },
    {
     "data": {
      "text/plain": [
       "<Figure size 432x288 with 0 Axes>"
      ]
     },
     "metadata": {},
     "output_type": "display_data"
    },
    {
     "data": {
      "text/plain": [
       "<Figure size 432x288 with 0 Axes>"
      ]
     },
     "metadata": {},
     "output_type": "display_data"
    },
    {
     "data": {
      "text/plain": [
       "<Figure size 432x288 with 0 Axes>"
      ]
     },
     "metadata": {},
     "output_type": "display_data"
    },
    {
     "data": {
      "text/plain": [
       "<Figure size 432x288 with 0 Axes>"
      ]
     },
     "metadata": {},
     "output_type": "display_data"
    },
    {
     "data": {
      "text/plain": [
       "<Figure size 432x288 with 0 Axes>"
      ]
     },
     "metadata": {},
     "output_type": "display_data"
    },
    {
     "data": {
      "text/plain": [
       "<Figure size 432x288 with 0 Axes>"
      ]
     },
     "metadata": {},
     "output_type": "display_data"
    },
    {
     "data": {
      "text/plain": [
       "<Figure size 432x288 with 0 Axes>"
      ]
     },
     "metadata": {},
     "output_type": "display_data"
    },
    {
     "data": {
      "text/plain": [
       "<Figure size 432x288 with 0 Axes>"
      ]
     },
     "metadata": {},
     "output_type": "display_data"
    },
    {
     "data": {
      "text/plain": [
       "<Figure size 432x288 with 0 Axes>"
      ]
     },
     "metadata": {},
     "output_type": "display_data"
    },
    {
     "data": {
      "text/plain": [
       "<Figure size 432x288 with 0 Axes>"
      ]
     },
     "metadata": {},
     "output_type": "display_data"
    },
    {
     "data": {
      "text/plain": [
       "<Figure size 432x288 with 0 Axes>"
      ]
     },
     "metadata": {},
     "output_type": "display_data"
    },
    {
     "data": {
      "text/plain": [
       "<Figure size 432x288 with 0 Axes>"
      ]
     },
     "metadata": {},
     "output_type": "display_data"
    },
    {
     "data": {
      "text/plain": [
       "<Figure size 432x288 with 0 Axes>"
      ]
     },
     "metadata": {},
     "output_type": "display_data"
    },
    {
     "data": {
      "text/plain": [
       "<Figure size 432x288 with 0 Axes>"
      ]
     },
     "metadata": {},
     "output_type": "display_data"
    },
    {
     "data": {
      "text/plain": [
       "<Figure size 432x288 with 0 Axes>"
      ]
     },
     "metadata": {},
     "output_type": "display_data"
    },
    {
     "data": {
      "text/plain": [
       "<Figure size 432x288 with 0 Axes>"
      ]
     },
     "metadata": {},
     "output_type": "display_data"
    },
    {
     "data": {
      "text/plain": [
       "<Figure size 432x288 with 0 Axes>"
      ]
     },
     "metadata": {},
     "output_type": "display_data"
    },
    {
     "data": {
      "text/plain": [
       "<Figure size 432x288 with 0 Axes>"
      ]
     },
     "metadata": {},
     "output_type": "display_data"
    },
    {
     "data": {
      "text/plain": [
       "<Figure size 432x288 with 0 Axes>"
      ]
     },
     "metadata": {},
     "output_type": "display_data"
    },
    {
     "data": {
      "text/plain": [
       "<Figure size 432x288 with 0 Axes>"
      ]
     },
     "metadata": {},
     "output_type": "display_data"
    },
    {
     "data": {
      "text/plain": [
       "<Figure size 432x288 with 0 Axes>"
      ]
     },
     "metadata": {},
     "output_type": "display_data"
    },
    {
     "data": {
      "text/plain": [
       "<Figure size 432x288 with 0 Axes>"
      ]
     },
     "metadata": {},
     "output_type": "display_data"
    },
    {
     "data": {
      "text/plain": [
       "<Figure size 432x288 with 0 Axes>"
      ]
     },
     "metadata": {},
     "output_type": "display_data"
    },
    {
     "data": {
      "text/plain": [
       "<Figure size 432x288 with 0 Axes>"
      ]
     },
     "metadata": {},
     "output_type": "display_data"
    },
    {
     "data": {
      "text/plain": [
       "<Figure size 432x288 with 0 Axes>"
      ]
     },
     "metadata": {},
     "output_type": "display_data"
    },
    {
     "data": {
      "text/plain": [
       "<Figure size 432x288 with 0 Axes>"
      ]
     },
     "metadata": {},
     "output_type": "display_data"
    },
    {
     "data": {
      "text/plain": [
       "<Figure size 432x288 with 0 Axes>"
      ]
     },
     "metadata": {},
     "output_type": "display_data"
    },
    {
     "data": {
      "text/plain": [
       "<Figure size 432x288 with 0 Axes>"
      ]
     },
     "metadata": {},
     "output_type": "display_data"
    },
    {
     "data": {
      "text/plain": [
       "<Figure size 432x288 with 0 Axes>"
      ]
     },
     "metadata": {},
     "output_type": "display_data"
    },
    {
     "data": {
      "text/plain": [
       "<Figure size 432x288 with 0 Axes>"
      ]
     },
     "metadata": {},
     "output_type": "display_data"
    },
    {
     "data": {
      "text/plain": [
       "<Figure size 432x288 with 0 Axes>"
      ]
     },
     "metadata": {},
     "output_type": "display_data"
    },
    {
     "data": {
      "text/plain": [
       "<Figure size 432x288 with 0 Axes>"
      ]
     },
     "metadata": {},
     "output_type": "display_data"
    },
    {
     "data": {
      "text/plain": [
       "<Figure size 432x288 with 0 Axes>"
      ]
     },
     "metadata": {},
     "output_type": "display_data"
    },
    {
     "data": {
      "text/plain": [
       "<Figure size 432x288 with 0 Axes>"
      ]
     },
     "metadata": {},
     "output_type": "display_data"
    },
    {
     "data": {
      "text/plain": [
       "<Figure size 432x288 with 0 Axes>"
      ]
     },
     "metadata": {},
     "output_type": "display_data"
    },
    {
     "data": {
      "text/plain": [
       "<Figure size 432x288 with 0 Axes>"
      ]
     },
     "metadata": {},
     "output_type": "display_data"
    },
    {
     "data": {
      "text/plain": [
       "<Figure size 432x288 with 0 Axes>"
      ]
     },
     "metadata": {},
     "output_type": "display_data"
    },
    {
     "data": {
      "text/plain": [
       "<Figure size 432x288 with 0 Axes>"
      ]
     },
     "metadata": {},
     "output_type": "display_data"
    },
    {
     "data": {
      "text/plain": [
       "<Figure size 432x288 with 0 Axes>"
      ]
     },
     "metadata": {},
     "output_type": "display_data"
    },
    {
     "data": {
      "text/plain": [
       "<Figure size 432x288 with 0 Axes>"
      ]
     },
     "metadata": {},
     "output_type": "display_data"
    },
    {
     "data": {
      "image/png": "[encoded data removed]",
      "text/plain": [
       "<Figure size 432x288 with 1 Axes>"
      ]
     },
     "metadata": {
      "needs_background": "light"
     },
     "output_type": "display_data"
    }
   ],
   "source": [
    "K_disease_map = defaultdict(list)\n",
    "\n",
    "for disease_in_consideration in range(90, top_n):\n",
    "    true_labels_for_disease = np.concatenate(list(map(lambda x : x[:,-disease_in_consideration:], test_outputs))).flatten()\n",
    "    for model_name in model_map:\n",
    "        prediction_at_k = np.concatenate(list(map(lambda x : x[:, -, disease_in_consideration], test_prediction_map[model_name]))).flatten()\n",
    "        pk = metrics.precision_score(true_labels_for_disease, prediction_at_k)\n",
    "        K_disease_map[model_name].append(pk)\n",
    "\n",
    "        fig = plt.figure()\n",
    "ax = plt.subplot(111)\n",
    "for model_name, k_disease in K_disease_map.items():\n",
    "    ax.plot(np.arange(90, top_n), k_disease ,label=model_name)\n",
    "box = ax.get_position()\n",
    "ax.set_position([box.x0, box.y0, box.width * 0.8, box.height])\n",
    "\n",
    "# Put a legend to the right of the current axis\n",
    "ax.legend(loc='center left', bbox_to_anchor=(1, 0.5))plt.show()\n"
   ]
  },
  {
   "cell_type": "code",
   "execution_count": null,
   "metadata": {},
   "outputs": [],
   "source": [
    "fig = plt.figure()\n",
    "ax = plt.subplot(111)\n",
    "\n",
    "for i in xrange(5):\n",
    "    ax.plot(x, i * x, label='$y = %ix$' % i)\n",
    "\n",
    "ax.legend()\n",
    "\n",
    "plt.show()"
   ]
  }
 ],
 "metadata": {
  "kernelspec": {
   "display_name": "Python 3",
   "language": "python",
   "name": "python3"
  },
  "language_info": {
   "codemirror_mode": {
    "name": "ipython",
    "version": 3
   },
   "file_extension": ".py",
   "mimetype": "text/x-python",
   "name": "python",
   "nbconvert_exporter": "python",
   "pygments_lexer": "ipython3",
   "version": "3.6.8"
  }
 },
 "nbformat": 4,
 "nbformat_minor": 2
}
