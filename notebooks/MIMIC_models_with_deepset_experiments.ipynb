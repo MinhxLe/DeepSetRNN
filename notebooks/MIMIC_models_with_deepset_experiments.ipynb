{
 "cells": [
  {
   "cell_type": "code",
   "execution_count": 1,
   "metadata": {},
   "outputs": [
    {
     "name": "stdout",
     "output_type": "stream",
     "text": [
      "/home/minh/Research/Sriram/DeepSetRNN\n"
     ]
    }
   ],
   "source": [
    "%load_ext autoreload\n",
    "%autoreload 2\n",
    "%cd ~/Research/Sriram/DeepSetRNN\n",
    "\n",
    "import pandas as pd\n",
    "from sklearn import metrics\n",
    "import matplotlib.pyplot as plt\n",
    "import numpy as np\n",
    "from collections import defaultdict\n",
    "import os\n",
    "import string\n",
    "import pickle\n",
    "\n",
    "import torch\n",
    "import torch.nn as nn\n",
    "import torch.nn.functional as F\n",
    "import torch.optim as optim\n",
    "import logging\n",
    "import os\n",
    "import importlib\n",
    "\n",
    "from src import convert_dot_format\n",
    "\n",
    "DATA_PATH='data/MIMIC3database'"
   ]
  },
  {
   "cell_type": "code",
   "execution_count": 2,
   "metadata": {},
   "outputs": [],
   "source": [
    "logging.info(\"starting logger\")\n",
    "_LOGGER = logging.getLogger('MIMIC_seq_model')\n",
    "_LOGGER.setLevel(logging.DEBUG)"
   ]
  },
  {
   "cell_type": "markdown",
   "metadata": {},
   "source": [
    "# Preprocessing Data"
   ]
  },
  {
   "cell_type": "code",
   "execution_count": 3,
   "metadata": {},
   "outputs": [],
   "source": [
    "top_n = 100 #should be the same as before\n",
    "diagnoses_procedures_df = pd.read_csv('data/MIMIC3database/processed/ICD9_diagnoses_procedures_mimic_idx_sentences_top_100_sorted.csv', index_col=0)\n",
    "\n",
    "#converting sentences to a single column\n",
    "diagnoses_procedures_df['DIAGNOSES_SENTENCES'] = diagnoses_procedures_df[['0_diagnoses', '1_diagnoses',\n",
    "       '2_diagnoses', '3_diagnoses', '4_diagnoses', '5_diagnoses',\n",
    "       '6_diagnoses', '7_diagnoses', '8_diagnoses', '9_diagnoses',\n",
    "       '10_diagnoses', '11_diagnoses', '12_diagnoses', '13_diagnoses',\n",
    "       '14_diagnoses', '15_diagnoses', '16_diagnoses', '17_diagnoses',\n",
    "       '18_diagnoses', '19_diagnoses', '20_diagnoses', '21_diagnoses', '22',\n",
    "       '23', '24', '25', '26', '27', '28', '29', '30', '31']].values.tolist()\n",
    "\n",
    "diagnoses_procedures_df['PROCEDURES_SENTENCES'] = diagnoses_procedures_df[\n",
    "    ['0_procedures', '1_procedures', '2_procedures', '3_procedures',\n",
    "       '4_procedures', '5_procedures', '6_procedures', '7_procedures',\n",
    "       '8_procedures', '9_procedures', '10_procedures', '11_procedures',\n",
    "       '12_procedures', '13_procedures', '14_procedures', '15_procedures',\n",
    "       '16_procedures', '17_procedures', '18_procedures', '19_procedures',\n",
    "       '20_procedures', '21_procedures']].values.tolist()\n",
    "\n",
    "diagnoses_procedures_df.drop(labels=['0_diagnoses', '1_diagnoses',\n",
    "       '2_diagnoses', '3_diagnoses', '4_diagnoses', '5_diagnoses',\n",
    "       '6_diagnoses', '7_diagnoses', '8_diagnoses', '9_diagnoses',\n",
    "       '10_diagnoses', '11_diagnoses', '12_diagnoses', '13_diagnoses',\n",
    "       '14_diagnoses', '15_diagnoses', '16_diagnoses', '17_diagnoses',\n",
    "       '18_diagnoses', '19_diagnoses', '20_diagnoses', '21_diagnoses', '22',\n",
    "       '23', '24', '25', '26', '27', '28', '29', '30', '31'], axis=1, inplace=True)\n",
    "\n",
    "diagnoses_procedures_df.drop(labels=['0_procedures', '1_procedures', '2_procedures', '3_procedures',\n",
    "       '4_procedures', '5_procedures', '6_procedures', '7_procedures',\n",
    "       '8_procedures', '9_procedures', '10_procedures', '11_procedures',\n",
    "       '12_procedures', '13_procedures', '14_procedures', '15_procedures',\n",
    "       '16_procedures', '17_procedures', '18_procedures', '19_procedures',\n",
    "       '20_procedures', '21_procedures'], axis=1, inplace=True)\n",
    "\n",
    "diagnoses_procedures_df.to_csv(\"data/MIMIC3database/processed/ICD9_diagnoses_procedures_mimic_idx_sentences_top_100_sorted_concat.csv\")"
   ]
  },
  {
   "cell_type": "code",
   "execution_count": 4,
   "metadata": {},
   "outputs": [],
   "source": [
    "diagnoses_counts = diagnoses_procedures_df['ICD9_CODE_diagnoses'].value_counts()\n",
    "procedures_counts = diagnoses_procedures_df['ICD9_CODE_procedures'].value_counts()\n",
    "\n",
    "diagnoses_set = set(diagnoses_counts.keys()[:top_n])\n",
    "procedures_set = set(procedures_counts.keys()[:top_n])\n",
    "\n",
    "diagnoses_idx_map = {}\n",
    "for i, code in enumerate(diagnoses_counts.keys()[:top_n]):\n",
    "    diagnoses_idx_map[code] = i\n",
    "\n",
    "data = list(diagnoses_procedures_df.groupby(['SUBJECT_ID']))\n",
    "data = [(subject_id, list(subject_data.groupby(['HADM_ID', 'ADMITTIME']))) for subject_id, subject_data in data]\n",
    "\n",
    "\n",
    "def get_onehot_vector(indices, top_n):\n",
    "    prediction = np.zeros(top_n, dtype='float32')\n",
    "    prediction[indices] = 1\n",
    "    return prediction\n",
    "\n",
    "all_inputs = []\n",
    "all_outputs = []\n",
    "for _, subject in data:\n",
    "    input_series = []\n",
    "    output_series = []\n",
    "    for _, timestep in subject:\n",
    "        timestep = timestep[timestep['ICD9_CODE_diagnoses'].isin(diagnoses_set)\n",
    "                           | timestep['ICD9_CODE_procedures'].isin(procedures_set)]\n",
    "        indices = [diagnoses_idx_map[key] for key in timestep['ICD9_CODE_diagnoses'] if key in diagnoses_set]\n",
    "        if len(timestep) > 0:\n",
    "            input_series.append((np.stack(timestep['DIAGNOSES_SENTENCES'],axis=0), np.stack(timestep['PROCEDURES_SENTENCES'],axis=0)))\n",
    "            output_series.append(get_onehot_vector(indices, top_n))\n",
    "    if len(input_series) > 0 and len(output_series):\n",
    "        all_inputs.append(input_series)\n",
    "        all_outputs.append(np.array(output_series))\n",
    "\n",
    "\n",
    "# all_outputs = []\n",
    "\n",
    "# def get_onehot_vector(indices, top_n):\n",
    "#     prediction = np.zeros(top_n, dtype='float32')\n",
    "#     prediction[indices] = 1\n",
    "#     return prediction\n",
    "\n",
    "# for _, subject in data:\n",
    "#     series = []\n",
    "#     for _, timestep in subject:\n",
    "#         indices = [diagnoses_idx_map[key] for key in timestep['ICD9_CODE_diagnoses'] \\\n",
    "#                   if key in diagnoses_set]\n",
    "#         if len(timestep) > 0:\n",
    "#             series.append(get_onehot_vector(indices, top_n))\n",
    "#     if len(series) > 0:\n",
    "#         all_outputs.append(np.array(series))"
   ]
  },
  {
   "cell_type": "code",
   "execution_count": 5,
   "metadata": {},
   "outputs": [
    {
     "data": {
      "text/plain": [
       "44788"
      ]
     },
     "execution_count": 5,
     "metadata": {},
     "output_type": "execute_result"
    }
   ],
   "source": [
    "len(all_inputs)"
   ]
  },
  {
   "cell_type": "code",
   "execution_count": 6,
   "metadata": {},
   "outputs": [],
   "source": [
    "min_len = 3\n",
    "\n",
    "inputs = list(filter(lambda x : len(x) >= min_len, all_inputs))\n",
    "outputs = list(filter(lambda x: len(x) >= min_len, all_outputs))\n",
    "\n",
    "n_seq = len(inputs)\n",
    "\n",
    "split = int(n_seq*0.8)\n",
    "train_inputs = inputs[:split]\n",
    "train_outputs =  outputs[:split]\n",
    "\n",
    "test_inputs = inputs[split:n_seq]\n",
    "test_outputs = outputs[split:n_seq]"
   ]
  },
  {
   "cell_type": "code",
   "execution_count": 7,
   "metadata": {},
   "outputs": [],
   "source": [
    "word_embedding = pd.read_csv('data/embeddings/w2vModel1Gram9Jan2019_mimic_only.txt', index_col=0)\n",
    "word_embedding.drop('0',axis=1,inplace=True)\n",
    "word_embedding = torch.tensor(word_embedding.astype('float32').values)"
   ]
  },
  {
   "cell_type": "markdown",
   "metadata": {},
   "source": [
    "# Training Models"
   ]
  },
  {
   "cell_type": "code",
   "execution_count": 8,
   "metadata": {},
   "outputs": [],
   "source": [
    "#global objects\n",
    "training_loss_map = {}\n",
    "model_map = {}"
   ]
  },
  {
   "cell_type": "code",
   "execution_count": 9,
   "metadata": {},
   "outputs": [
    {
     "name": "stderr",
     "output_type": "stream",
     "text": [
      "INFO:MIMIC_seq_model:Initial Validation Loss: 0.6947639584541321\n",
      "INFO:MIMIC_seq_model:epoch 0: 0.21705271303653717\n",
      "INFO:MIMIC_seq_model:epoch 1: 0.176101416349411\n",
      "INFO:MIMIC_seq_model:epoch 2: 0.15209880471229553\n",
      "INFO:MIMIC_seq_model:epoch 3: 0.13539540767669678\n",
      "INFO:MIMIC_seq_model:epoch 4: 0.1219571977853775\n",
      "INFO:MIMIC_seq_model:epoch 5: 0.11010400950908661\n",
      "INFO:MIMIC_seq_model:epoch 6: 0.10062946379184723\n",
      "INFO:MIMIC_seq_model:epoch 7: 0.09195126593112946\n",
      "INFO:MIMIC_seq_model:epoch 8: 0.08548451215028763\n",
      "INFO:MIMIC_seq_model:epoch 9: 0.07950246334075928\n",
      "INFO:MIMIC_seq_model:final validation Loss: 0.3772851824760437\n"
     ]
    }
   ],
   "source": [
    "######LSTM MODEL#####\n",
    "from src.model.mimic_deepset import SetSequenceModel\n",
    "\n",
    "hidden_dim=[1000,100]\n",
    "n_epoch = 10\n",
    "freeze_embedding = True\n",
    "lr = 0.1\n",
    "momentum = 0.9\n",
    "\n",
    "_LOGGER.handlers = [\n",
    "    h for h in _LOGGER.handlers if not isinstance(h, logging.StreamHandler)]\n",
    "model_name = \"DeepSetLSTM_top_{}_{}hd_{}\".format(top_n, hidden_dim, n_epoch)\n",
    "fh = logging.FileHandler('logs/MIMIC3/{}.log'.format(model_name))\n",
    "fh.setLevel(logging.DEBUG)\n",
    "_LOGGER.addHandler(fh)\n",
    "\n",
    "loss_fn = nn.BCEWithLogitsLoss()\n",
    "model = SetSequenceModel(hidden_dim=hidden_dim, n_class=top_n,embedding=word_embedding, freeze_embedding=freeze_embedding)\n",
    "optimizer = optim.SGD(model.parameters(), lr=lr, momentum=momentum)\n",
    "\n",
    "model_map[model_name] = model\n",
    "\n",
    "#initial test loss\n",
    "test_losses = []\n",
    "for sequence, target in zip(test_inputs, test_outputs):\n",
    "    model.hidden = model.init_hidden()\n",
    "    logits = model(sequence)\n",
    "    loss = loss_fn(logits[:-1],torch.tensor(target[1:]))\n",
    "    test_losses.append(loss.data)\n",
    "_LOGGER.info(\"Initial Validation Loss: {}\".format(np.mean(test_losses)))\n",
    "\n",
    "#training model\n",
    "training_losses = []\n",
    "for epoch in range(n_epoch):\n",
    "    curr_losses = []\n",
    "    for sequence, target in zip(train_inputs,\n",
    "                                train_outputs):\n",
    "        model.zero_grad()\n",
    "        model.hidden = model.init_hidden()\n",
    "        \n",
    "        logits = model(sequence)\n",
    "        loss = loss_fn(logits[1:], torch.tensor(target[1:]))\n",
    "        curr_losses.append(loss.data)\n",
    "        loss.backward()\n",
    "        optimizer.step()\n",
    "    mean_loss = np.mean(curr_losses)\n",
    "    training_losses.append(mean_loss)\n",
    "    _LOGGER.info(\"epoch {}: {}\".format(epoch, mean_loss))\n",
    "    \n",
    "#saving model\n",
    "torch.save(model, 'models/MIMIC3/{}.pt'.format(model_name))\n",
    "\n",
    "#final validation loss\n",
    "test_losses = []\n",
    "for sequence, target in zip(test_inputs, test_outputs):\n",
    "    model.hidden = model.init_hidden()\n",
    "    logits = model(sequence)\n",
    "    loss = loss_fn(logits[:-1],torch.tensor(target[1:]))\n",
    "    test_losses.append(loss.data)\n",
    "_LOGGER.info(\"final validation Loss: {}\".format(np.mean(test_losses)))\n",
    "\n",
    "training_loss_map[model_name] = training_losses"
   ]
  },
  {
   "cell_type": "code",
   "execution_count": 10,
   "metadata": {},
   "outputs": [
    {
     "name": "stderr",
     "output_type": "stream",
     "text": [
      "INFO:MIMIC_seq_model:Iniital Validation Loss: 0.6947373151779175\n",
      "INFO:MIMIC_seq_model:epoch 0: 0.21611672639846802\n",
      "INFO:MIMIC_seq_model:epoch 1: 0.16527464985847473\n",
      "INFO:MIMIC_seq_model:epoch 2: 0.14302779734134674\n",
      "INFO:MIMIC_seq_model:epoch 3: 0.12695586681365967\n",
      "INFO:MIMIC_seq_model:epoch 4: 0.11604571342468262\n",
      "INFO:MIMIC_seq_model:epoch 5: 0.10867258906364441\n",
      "INFO:MIMIC_seq_model:epoch 6: 0.10280148684978485\n",
      "INFO:MIMIC_seq_model:epoch 7: 0.0978354662656784\n",
      "INFO:MIMIC_seq_model:epoch 8: 0.0938636064529419\n",
      "INFO:MIMIC_seq_model:epoch 9: 0.09056731313467026\n",
      "INFO:MIMIC_seq_model:Validation Loss: 0.3773224949836731\n"
     ]
    }
   ],
   "source": [
    "###FULLY CONNECTED MODEL#####\n",
    "from src.model.mimic_deepset import FullyConnectedNetworkClassifier\n",
    "hidden_dim=[1000,100]\n",
    "n_epoch = 10\n",
    "freeze_embedding = True\n",
    "lr = 0.1\n",
    "momentum = 0.9\n",
    "\n",
    "_LOGGER.handlers = [\n",
    "    h for h in _LOGGER.handlers if not isinstance(h, logging.StreamHandler)]\n",
    "model_name = \"DeepSetFCN_top_{}_{}hd_{}\".format(top_n, hidden_dim, n_epoch)\n",
    "fh = logging.FileHandler('logs/MIMIC3/{}.log'.format(model_name))\n",
    "fh.setLevel(logging.DEBUG)\n",
    "_LOGGER.addHandler(fh)\n",
    "\n",
    "model = FullyConnectedNetworkClassifier(top_n, word_embedding, [1000, 100], freeze_embedding)\n",
    "loss_fn = nn.BCEWithLogitsLoss()\n",
    "optimizer = optim.SGD(model.parameters(), lr=lr, momentum=momentum)\n",
    "\n",
    "model_map[model_name] = model\n",
    "\n",
    "test_losses = []\n",
    "for sequence, target in zip(test_inputs, test_outputs):\n",
    "    logits = model(sequence)\n",
    "    \n",
    "    loss = loss_fn(logits[:-1],torch.tensor(target[1:]))\n",
    "    test_losses.append(loss.data)\n",
    "_LOGGER.info(\"Iniital Validation Loss: {}\".format(np.mean(test_losses)))\n",
    "\n",
    "optimizer = optim.SGD(model.parameters(), lr=0.1, momentum=.9)\n",
    "training_losses = []\n",
    "\n",
    "for epoch in range(n_epoch):\n",
    "    curr_losses = []\n",
    "    for sequence, target in zip(train_inputs,\n",
    "                                train_outputs):\n",
    "        model.zero_grad()\n",
    "        \n",
    "        logits = model(sequence)\n",
    "        loss = loss_fn(logits[1:], torch.tensor(target[1:]))\n",
    "        curr_losses.append(loss.data)\n",
    "        loss.backward()\n",
    "        optimizer.step()\n",
    "    mean_loss = np.mean(curr_losses)\n",
    "    training_losses.append(mean_loss)\n",
    "    _LOGGER.info(\"epoch {}: {}\".format(epoch, mean_loss))\n",
    "    \n",
    "test_losses = []\n",
    "for sequence, target in zip(test_inputs, test_outputs):\n",
    "    logits = model(sequence)\n",
    "    \n",
    "    loss = loss_fn(logits[:-1],torch.tensor(target[1:]))\n",
    "    test_losses.append(loss.data)\n",
    "_LOGGER.info(\"Validation Loss: {}\".format(np.mean(test_losses)))\n",
    "\n",
    "torch.save(model, 'models/MIMIC3/{}.pt'.format(model_name))\n",
    "training_loss_map[model_name] = training_losses"
   ]
  },
  {
   "cell_type": "code",
   "execution_count": 11,
   "metadata": {},
   "outputs": [
    {
     "name": "stderr",
     "output_type": "stream",
     "text": [
      "INFO:MIMIC_seq_model:Iniital Validation Loss: 0.7326723337173462\n",
      "INFO:MIMIC_seq_model:epoch 0: 0.3223177492618561\n",
      "INFO:MIMIC_seq_model:epoch 1: 0.2328720986843109\n",
      "INFO:MIMIC_seq_model:epoch 2: 0.19394516944885254\n",
      "INFO:MIMIC_seq_model:epoch 3: 0.1704840064048767\n",
      "INFO:MIMIC_seq_model:epoch 4: 0.15402795374393463\n",
      "INFO:MIMIC_seq_model:epoch 5: 0.13763654232025146\n",
      "INFO:MIMIC_seq_model:epoch 6: 0.12685678899288177\n",
      "INFO:MIMIC_seq_model:epoch 7: 0.12328938394784927\n",
      "INFO:MIMIC_seq_model:epoch 8: 0.1134151741862297\n",
      "INFO:MIMIC_seq_model:epoch 9: 0.10385029017925262\n",
      "INFO:MIMIC_seq_model:Validation Loss: 0.6155065298080444\n"
     ]
    }
   ],
   "source": [
    "####LOG REG CLASSIFIER#####\n",
    "from src.model.mimic_deepset import EmbeddedLogRegClassifier\n",
    "\n",
    "n_epoch = 10\n",
    "freeze_embedding = True\n",
    "lr = 0.1\n",
    "momentum = 0.9\n",
    "\n",
    "_LOGGER.handlers = [\n",
    "    h for h in _LOGGER.handlers if not isinstance(h, logging.StreamHandler)]\n",
    "model_name = \"DeepSetLogReg_top_{}_{}hd_{}\".format(top_n, hidden_dim, n_epoch)\n",
    "fh = logging.FileHandler('logs/MIMIC3/{}.log'.format(model_name))\n",
    "fh.setLevel(logging.DEBUG)\n",
    "_LOGGER.addHandler(fh)\n",
    "\n",
    "model = EmbeddedLogRegClassifier(top_n, word_embedding, freeze_embedding)\n",
    "loss_fn = nn.BCEWithLogitsLoss()\n",
    "optimizer = optim.SGD(model.parameters(), lr=lr, momentum=momentum)\n",
    "\n",
    "model_map[model_name] = model\n",
    "\n",
    "test_losses = []\n",
    "for sequence, target in zip(test_inputs, test_outputs):\n",
    "    logits = model(sequence)\n",
    "    \n",
    "    loss = loss_fn(logits[:-1],torch.tensor(target[1:]))\n",
    "    test_losses.append(loss.data)\n",
    "_LOGGER.info(\"Iniital Validation Loss: {}\".format(np.mean(test_losses)))\n",
    "\n",
    "optimizer = optim.SGD(model.parameters(), lr=0.1, momentum=.9)\n",
    "training_losses = []\n",
    "\n",
    "for epoch in range(n_epoch):\n",
    "    curr_losses = []\n",
    "    for sequence, target in zip(train_inputs,\n",
    "                                train_outputs):\n",
    "        model.zero_grad()\n",
    "        \n",
    "        logits = model(sequence)\n",
    "        loss = loss_fn(logits[1:], torch.tensor(target[1:]))\n",
    "        curr_losses.append(loss.data)\n",
    "        loss.backward()\n",
    "        optimizer.step()\n",
    "    mean_loss = np.mean(curr_losses)\n",
    "    training_losses.append(mean_loss)\n",
    "    _LOGGER.info(\"epoch {}: {}\".format(epoch, mean_loss))\n",
    "    \n",
    "test_losses = []\n",
    "for sequence, target in zip(test_inputs, test_outputs):\n",
    "    logits = model(sequence)\n",
    "    \n",
    "    loss = loss_fn(logits[:-1],torch.tensor(target[1:]))\n",
    "    test_losses.append(loss.data)\n",
    "_LOGGER.info(\"Validation Loss: {}\".format(np.mean(test_losses)))\n",
    "\n",
    "torch.save(model, 'models/MIMIC3/{}.pt'.format(model_name))\n",
    "training_loss_map[model_name] = training_losses"
   ]
  },
  {
   "cell_type": "markdown",
   "metadata": {},
   "source": [
    "# Analysis"
   ]
  },
  {
   "cell_type": "code",
   "execution_count": 12,
   "metadata": {},
   "outputs": [],
   "source": [
    "_LOGGER.handlers = [\n",
    "    h for h in _LOGGER.handlers if not isinstance(h, logging.StreamHandler)]\n",
    "fh = logging.FileHandler('logs/MIMIC3/embedded_models_analysis.log')\n",
    "fh.setLevel(logging.DEBUG)\n",
    "_LOGGER.addHandler(fh)"
   ]
  },
  {
   "cell_type": "code",
   "execution_count": 13,
   "metadata": {},
   "outputs": [],
   "source": [
    "test_prediction_map = {}\n",
    "test_logits_map = {}\n",
    "test_output_map = {}\n",
    "#preprocessing test outputs\n",
    "sigmoid = nn.Sigmoid()\n",
    "for model_name, model in model_map.items():\n",
    "    all_logits = []\n",
    "    all_outputs = []\n",
    "    all_predictions = []\n",
    "    for sequence, target in zip(test_inputs, test_outputs):    \n",
    "    \n",
    "        if 'LSTM' in model_name:\n",
    "            model.hidden = model.init_hidden()\n",
    "\n",
    "        logits = model(sequence)\n",
    "\n",
    "        model_outputs = sigmoid(logits).detach().numpy()\n",
    "        predictions = model_outputs > 0.5\n",
    "        predictions = predictions.astype(np.float32)\n",
    "\n",
    "        all_outputs.append(model_outputs)\n",
    "        all_logits.append(logits.detach().numpy())\n",
    "        all_predictions.append(predictions)\n",
    "    test_prediction_map[model_name] = all_predictions\n",
    "    test_logits_map[model_name] = all_logits\n",
    "    test_output_map[model_name] = all_outputs"
   ]
  },
  {
   "cell_type": "code",
   "execution_count": 29,
   "metadata": {},
   "outputs": [
    {
     "name": "stderr",
     "output_type": "stream",
     "text": [
      "INFO:MIMIC_seq_model:DeepSetLSTM_top_100_[1000, 100]hd_10 0.580593466758728\n",
      "INFO:MIMIC_seq_model:DeepSetFCN_top_100_[1000, 100]hd_10 0.5553631782531738\n",
      "INFO:MIMIC_seq_model:DeepSetLogReg_top_100_[1000, 100]hd_10 0.5797337889671326\n",
      "INFO:MIMIC_seq_model:DeepSetLSTM_top_100_[1000, 100]hd_10 0.5457634925842285\n",
      "INFO:MIMIC_seq_model:DeepSetFCN_top_100_[1000, 100]hd_10 0.5164042115211487\n",
      "INFO:MIMIC_seq_model:DeepSetLogReg_top_100_[1000, 100]hd_10 0.5471559762954712\n",
      "INFO:MIMIC_seq_model:DeepSetLSTM_top_100_[1000, 100]hd_10 0.5227649807929993\n",
      "INFO:MIMIC_seq_model:DeepSetFCN_top_100_[1000, 100]hd_10 0.48298922181129456\n",
      "INFO:MIMIC_seq_model:DeepSetLogReg_top_100_[1000, 100]hd_10 0.5214715600013733\n"
     ]
    }
   ],
   "source": [
    "#precision@k\n",
    "from src.utils import precision_at_k, bootstrap_CI\n",
    "k_values = [1,2,3]\n",
    "for k in k_values:\n",
    "    for model_name in model_map:\n",
    "            pk = precision_at_k(test_logits_map[model_name], test_outputs, k)\n",
    "            _LOGGER.info(\"{} {}\".format(model_name, pk))"
   ]
  },
  {
   "cell_type": "code",
   "execution_count": 26,
   "metadata": {},
   "outputs": [
    {
     "name": "stderr",
     "output_type": "stream",
     "text": [
      "INFO:MIMIC_seq_model:Computing Precision@1\n",
      "INFO:MIMIC_seq_model:DeepSetLSTM_top_100_[1000, 100]hd_10 (0.5795644814124115, 0.5816598838219635)\n",
      "INFO:MIMIC_seq_model:DeepSetFCN_top_100_[1000, 100]hd_10 (0.5543641753306767, 0.5565092854389766)\n",
      "INFO:MIMIC_seq_model:DeepSetLogReg_top_100_[1000, 100]hd_10 (0.5786370515689145, 0.5806707859173525)\n",
      "INFO:MIMIC_seq_model:Computing Precision@2\n",
      "INFO:MIMIC_seq_model:DeepSetLSTM_top_100_[1000, 100]hd_10 (0.5457794779418155, 0.5474139338852719)\n",
      "INFO:MIMIC_seq_model:DeepSetFCN_top_100_[1000, 100]hd_10 (0.5152136137234564, 0.5169255683673029)\n",
      "INFO:MIMIC_seq_model:DeepSetLogReg_top_100_[1000, 100]hd_10 (0.5467822810717097, 0.5484250524930486)\n",
      "INFO:MIMIC_seq_model:Computing Precision@3\n",
      "INFO:MIMIC_seq_model:DeepSetLSTM_top_100_[1000, 100]hd_10 (0.5219945219091077, 0.5234754774042468)\n",
      "INFO:MIMIC_seq_model:DeepSetFCN_top_100_[1000, 100]hd_10 (0.4818681577816934, 0.48333977659788424)\n",
      "INFO:MIMIC_seq_model:DeepSetLogReg_top_100_[1000, 100]hd_10 (0.5208305969571811, 0.5223709687853115)\n"
     ]
    }
   ],
   "source": [
    "#precision@k with confidence intervals\n",
    "from src.utils import precision_at_k, bootstrap_CI\n",
    "from sklearn.utils import resample\n",
    "\n",
    "k_values = [1,2,3]\n",
    "n_bootstrap = 1000\n",
    "\n",
    "bootstrap_pk_map = {}\n",
    "pk_CI_map = {}\n",
    "\n",
    "for k in k_values:\n",
    "    _LOGGER.info(\"Computing Precision@{}\".format(k))\n",
    "    for model_name in model_map:\n",
    "        pk, CI = bootstrap_CI(precision_at_k, {'k':k}, \n",
    "                             (test_logits_map[model_name], test_outputs),\n",
    "                              n_bootstrap)\n",
    "        bootstrap_pk_map[model_name] = pk\n",
    "        pk_CI_map[model_name] = CI\n",
    "        _LOGGER.info(\"{} {}\".format(model_name, CI))"
   ]
  },
  {
   "cell_type": "code",
   "execution_count": 25,
   "metadata": {},
   "outputs": [
    {
     "data": {
      "text/plain": [
       "<matplotlib.legend.Legend at 0x7fc1ebad2400>"
      ]
     },
     "execution_count": 25,
     "metadata": {},
     "output_type": "execute_result"
    },
    {
     "data": {
      "image/png": "[encoded data removed]",
      "text/plain": [
       "<Figure size 432x288 with 1 Axes>"
      ]
     },
     "metadata": {
      "needs_background": "light"
     },
     "output_type": "display_data"
    }
   ],
   "source": [
    "k = 1\n",
    "pk_vs_len_map = {}\n",
    "\n",
    "max_len = max(map(len, test_outputs))\n",
    "for model_name in model_map:\n",
    "    pks = []\n",
    "    filtered_logits = test_logits_map[model_name]\n",
    "    filtered_test_outputs = test_outputs\n",
    "    \n",
    "    for filter_len in range(min_len, max_len):\n",
    "        indices = [i for (i,sequence) in enumerate(filtered_test_outputs) if len(sequence) > filter_len]\n",
    "        \n",
    "        filtered_logits = [filtered_logits[i] for i in indices]\n",
    "        filtered_test_outputs = [filtered_test_outputs[i] for i in indices]\n",
    "        #print(len(filtered_test_outputs))\n",
    "        pks.append(precision_at_k(filtered_logits, filtered_test_outputs, k))\n",
    "    pk_vs_len_map[model_name] = pks\n",
    "    \n",
    "max_len = max(map(len, test_outputs))\n",
    "\n",
    "for model_name, pks in pk_vs_len_map.items():\n",
    "    plt.plot(np.arange(3,max_len), pks, label=model_name)\n",
    "plt.legend()"
   ]
  },
  {
   "cell_type": "code",
   "execution_count": 31,
   "metadata": {},
   "outputs": [
    {
     "name": "stderr",
     "output_type": "stream",
     "text": [
      "INFO:MIMIC_seq_model:DeepSetLSTM_top_100_[1000, 100]hd_10\n",
      "[[153408   1540]\n",
      " [  5396   7956]]\n",
      "INFO:MIMIC_seq_model:DeepSetFCN_top_100_[1000, 100]hd_10\n",
      "[[153177   1771]\n",
      " [  5803   7549]]\n",
      "INFO:MIMIC_seq_model:DeepSetLogReg_top_100_[1000, 100]hd_10\n",
      "[[153431   1517]\n",
      " [  3690   9662]]\n"
     ]
    }
   ],
   "source": [
    "true_labels_flattened = np.concatenate(list((map(lambda x : x.flatten(), test_outputs))))\n",
    "for model_name in model_map:\n",
    "    predictions = test_prediction_map[model_name]\n",
    "    predictions_flattened = np.concatenate(list(map(lambda x : x.flatten(), predictions)))\n",
    "    _LOGGER.info(\"{}\\n{}\".format(model_name,metrics.confusion_matrix(true_labels_flattened, predictions_flattened)))"
   ]
  },
  {
   "cell_type": "code",
   "execution_count": null,
   "metadata": {},
   "outputs": [],
   "source": [
    "#AUROC curve\n",
    "\n",
    "\n",
    "for model_name in model_map:\n",
    "\n",
    "    \n",
    "    test_output_map[model_name]"
   ]
  }
 ],
 "metadata": {
  "kernelspec": {
   "display_name": "deepset",
   "language": "python",
   "name": "deepset"
  },
  "language_info": {
   "codemirror_mode": {
    "name": "ipython",
    "version": 3
   },
   "file_extension": ".py",
   "mimetype": "text/x-python",
   "name": "python",
   "nbconvert_exporter": "python",
   "pygments_lexer": "ipython3",
   "version": "3.6.8"
  }
 },
 "nbformat": 4,
 "nbformat_minor": 2
}
