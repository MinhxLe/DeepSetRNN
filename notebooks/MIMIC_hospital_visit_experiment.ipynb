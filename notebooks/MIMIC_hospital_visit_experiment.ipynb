{
 "cells": [
  {
   "cell_type": "code",
   "execution_count": 2,
   "metadata": {},
   "outputs": [
    {
     "name": "stdout",
     "output_type": "stream",
     "text": [
      "The autoreload extension is already loaded. To reload it, use:\n",
      "  %reload_ext autoreload\n",
      "/home/minh/Research/Sriram/DeepSetRNN\n"
     ]
    }
   ],
   "source": [
    "%load_ext autoreload\n",
    "%autoreload 2\n",
    "%cd ~/Research/Sriram/DeepSetRNN"
   ]
  },
  {
   "cell_type": "code",
   "execution_count": 3,
   "metadata": {},
   "outputs": [],
   "source": [
    "from collections import defaultdict, namedtuple\n",
    "import os\n",
    "import string\n",
    "import logging\n",
    "import importlib\n",
    "\n",
    "import pandas as pd\n",
    "from sklearn import metrics\n",
    "import matplotlib.pyplot as plt\n",
    "import numpy as np\n",
    "import torch\n",
    "import torch.nn as nn\n",
    "import torch.nn.functional as F\n",
    "import torch.optim as optim\n",
    "\n",
    "from src import experiment_utils, utils"
   ]
  },
  {
   "cell_type": "code",
   "execution_count": 4,
   "metadata": {},
   "outputs": [],
   "source": [
    "logging.info(\"starting logger\")\n",
    "_LOGGER = logging.getLogger('VisitTimeSeries')\n",
    "_LOGGER.setLevel(logging.DEBUG)"
   ]
  },
  {
   "cell_type": "markdown",
   "metadata": {},
   "source": [
    "# Reading data"
   ]
  },
  {
   "cell_type": "code",
   "execution_count": 5,
   "metadata": {},
   "outputs": [],
   "source": [
    "_ROOT_DATA_PATH = 'data/MIMIC3database/'\n",
    "_PROCESSED_DATA_PATH = os.path.join(_ROOT_DATA_PATH, 'processed/MIMIC3EachPerson')"
   ]
  },
  {
   "cell_type": "code",
   "execution_count": 140,
   "metadata": {},
   "outputs": [
    {
     "name": "stderr",
     "output_type": "stream",
     "text": [
      "/home/minh/.conda/envs/deepset/lib/python3.6/site-packages/numpy/lib/arraysetops.py:522: FutureWarning: elementwise comparison failed; returning scalar instead, but in the future will perform elementwise comparison\n",
      "  mask |= (ar1 == a)\n"
     ]
    }
   ],
   "source": [
    "train_series_df = pd.read_csv(os.path.join(_PROCESSED_DATA_PATH, 'train_timeseries.csv'),\n",
    "                              index_col=0)\n",
    "\n",
    "train_labels_df = pd.read_csv(os.path.join(_PROCESSED_DATA_PATH, 'train_labels.csv'),\n",
    "                              index_col=0)\n",
    "\n",
    "train_labels_df.drop(['Icustay', 'Ethnicity', 'Gender', 'Age', 'Height', 'Weight',\n",
    "       'Length of Stay', 'Mortality'], axis=1, inplace=True)\n",
    "\n",
    "\n",
    "train_series_df = train_series_df.set_index(['SUBJECT_ID', 'ADMISSION_NUM'])\n",
    "train_labels_df = train_labels_df.set_index(['SUBJECT_ID', 'ADMISSION_NUM'])\n",
    "train_indices = train_series_df.index"
   ]
  },
  {
   "cell_type": "code",
   "execution_count": 141,
   "metadata": {},
   "outputs": [],
   "source": [
    "test_series_df = pd.read_csv(os.path.join(_PROCESSED_DATA_PATH, 'test_timeseries.csv'),\n",
    "                              index_col=0)\n",
    "\n",
    "test_labels_df = pd.read_csv(os.path.join(_PROCESSED_DATA_PATH, 'test_labels.csv'),\n",
    "                              index_col=0)\n",
    "\n",
    "test_labels_df.drop(['Icustay', 'Ethnicity', 'Gender', 'Age', 'Height', 'Weight',\n",
    "       'Length of Stay', 'Mortality'], axis=1, inplace=True)\n",
    "\n",
    "test_series_df = test_series_df.set_index(['SUBJECT_ID', 'ADMISSION_NUM'])\n",
    "test_labels_df = test_labels_df.set_index(['SUBJECT_ID', 'ADMISSION_NUM'])\n",
    "test_indices = test_series_df.index"
   ]
  },
  {
   "cell_type": "code",
   "execution_count": 143,
   "metadata": {},
   "outputs": [
    {
     "data": {
      "text/plain": [
       "{(12607, 2), (17269, 2), (17796, 2), (23407, 1), (24975, 2)}"
      ]
     },
     "execution_count": 143,
     "metadata": {},
     "output_type": "execute_result"
    }
   ],
   "source": [
    "set(train_series_df.index).difference(set(train_labels_df.index))"
   ]
  },
  {
   "cell_type": "code",
   "execution_count": 128,
   "metadata": {},
   "outputs": [],
   "source": [
    "n_features = train_series_df.iloc[0].shape[0]\n",
    "n_class = train_labels_df.iloc[0].shape[0]"
   ]
  },
  {
   "cell_type": "markdown",
   "metadata": {},
   "source": [
    "# Training Model"
   ]
  },
  {
   "cell_type": "code",
   "execution_count": 131,
   "metadata": {},
   "outputs": [],
   "source": [
    "_MODEL_LOG_ROOT_PATH = 'logs/MIMIC3/VisitTimeSeries'\n",
    "_MODEL_ROOT_PATH = 'models/MIMIC3/VisitTimeSeries'"
   ]
  },
  {
   "cell_type": "code",
   "execution_count": 132,
   "metadata": {},
   "outputs": [
    {
     "name": "stderr",
     "output_type": "stream",
     "text": [
      "/home/minh/.conda/envs/deepset/lib/python3.6/site-packages/torch/nn/modules/rnn.py:46: UserWarning: dropout option adds dropout after all but last recurrent layer, so non-zero dropout expects num_layers greater than 1, but got dropout=0.5 and num_layers=1\n",
      "  \"num_layers={}\".format(dropout, num_layers))\n"
     ]
    }
   ],
   "source": [
    "from src.model.lstm import LSTMClassifier\n",
    "\n",
    "ModelArgs = namedtuple('HospitalVisitLSTMClassifier', \n",
    "                      ['hidden_dims',\n",
    "                       'n_epoch',\n",
    "                       'lr',\n",
    "                       'momentum',\n",
    "                      'n_layers',\n",
    "                      'dropout']\n",
    "                      )\n",
    "args = ModelArgs(\n",
    "    hidden_dims=[1000,500],\n",
    "    n_epoch = 10,\n",
    "    lr = 0.1,\n",
    "    n_layers=1,\n",
    "    momentum = 0.9,\n",
    "    dropout=0.5,\n",
    ")\n",
    "\n",
    "model_name = str(args)\n",
    "\n",
    "model = LSTMClassifier(hidden_dims=args.hidden_dims,\n",
    "                       input_dim=n_features,\n",
    "                       n_class=n_class,\n",
    "                       dropout=args.dropout)\n",
    "loss_fn = nn.BCEWithLogitsLoss()\n",
    "optimizer = optim.SGD(model.parameters(), lr=args.lr, momentum=args.momentum)"
   ]
  },
  {
   "cell_type": "code",
   "execution_count": null,
   "metadata": {},
   "outputs": [],
   "source": [
    "experiment_utils.setup_model_logger(_LOGGER, model_name, _MODEL_LOG_ROOT_PATH)\n",
    "\n",
    "test_losses = experiment_utils.evaluate_validation_loss_template(model, \n",
    "                                          loss_fn, \n",
    "                                          test_series_df,\n",
    "                                         test_labels_df)\n",
    "_LOGGER.info(\"Initial Validation Loss: {}\".format(np.mean(test_losses)))"
   ]
  },
  {
   "cell_type": "code",
   "execution_count": null,
   "metadata": {},
   "outputs": [],
   "source": [
    "\n",
    "training_losses = experiment_utils.train_model_template(model, loss_fn, optimizer,\n",
    "                                                       args.n_epoch, train_series_df,\n",
    "                                                       train_labels_df, _LOGGER)\n",
    "torch.save(model, \"{}/{}.pt\".format(_MODEL_ROOT_PATH, model_name))"
   ]
  },
  {
   "cell_type": "code",
   "execution_count": null,
   "metadata": {},
   "outputs": [],
   "source": [
    "\n",
    "test_losses = experiment_utils.evaluate_validation_loss_template(model, \n",
    "                                          loss_fn, \n",
    "                                          test_series_df,\n",
    "                                         test_labels_df)\n",
    "\n",
    "_LOGGER.info(\"Final Validation Loss: {}\".format(np.mean(test_losses)))"
   ]
  }
 ],
 "metadata": {
  "kernelspec": {
   "display_name": "Python 3",
   "language": "python",
   "name": "python3"
  },
  "language_info": {
   "codemirror_mode": {
    "name": "ipython",
    "version": 3
   },
   "file_extension": ".py",
   "mimetype": "text/x-python",
   "name": "python",
   "nbconvert_exporter": "python",
   "pygments_lexer": "ipython3",
   "version": "3.6.8"
  }
 },
 "nbformat": 4,
 "nbformat_minor": 2
}
