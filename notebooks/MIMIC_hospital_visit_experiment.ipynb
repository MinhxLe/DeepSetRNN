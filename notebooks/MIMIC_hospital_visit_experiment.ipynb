{
 "cells": [
  {
   "cell_type": "code",
   "execution_count": 1,
   "metadata": {
    "ExecuteTime": {
     "end_time": "2019-03-01T04:09:06.682848Z",
     "start_time": "2019-03-01T04:09:06.666094Z"
    }
   },
   "outputs": [
    {
     "name": "stdout",
     "output_type": "stream",
     "text": [
      "/home/minh/Research/Sriram/DeepSetRNN\n"
     ]
    }
   ],
   "source": [
    "%load_ext autoreload\n",
    "%autoreload 2\n",
    "%cd ~/Research/Sriram/DeepSetRNN"
   ]
  },
  {
   "cell_type": "code",
   "execution_count": 2,
   "metadata": {
    "ExecuteTime": {
     "end_time": "2019-03-01T04:09:07.663323Z",
     "start_time": "2019-03-01T04:09:07.067211Z"
    }
   },
   "outputs": [],
   "source": [
    "from collections import defaultdict, namedtuple\n",
    "import os\n",
    "import string\n",
    "import logging\n",
    "import importlib\n",
    "\n",
    "import pandas as pd\n",
    "from sklearn import metrics\n",
    "import matplotlib.pyplot as plt\n",
    "import numpy as np\n",
    "import torch\n",
    "import torch.nn as nn\n",
    "import torch.nn.functional as F\n",
    "import torch.optim as optim\n",
    "\n",
    "from src import experiment_utils, utils"
   ]
  },
  {
   "cell_type": "code",
   "execution_count": 3,
   "metadata": {
    "ExecuteTime": {
     "end_time": "2019-03-01T04:09:07.676669Z",
     "start_time": "2019-03-01T04:09:07.664666Z"
    }
   },
   "outputs": [],
   "source": [
    "logging.info(\"starting logger\")\n",
    "_LOGGER = logging.getLogger('VisitTimeSeries')\n",
    "_LOGGER.setLevel(logging.DEBUG)"
   ]
  },
  {
   "cell_type": "markdown",
   "metadata": {},
   "source": [
    "# Reading data"
   ]
  },
  {
   "cell_type": "code",
   "execution_count": 4,
   "metadata": {
    "ExecuteTime": {
     "end_time": "2019-03-01T04:09:08.132341Z",
     "start_time": "2019-03-01T04:09:08.119108Z"
    }
   },
   "outputs": [],
   "source": [
    "_ROOT_DATA_PATH = 'data/MIMIC3database/'\n",
    "_PROCESSED_DATA_PATH = os.path.join(_ROOT_DATA_PATH, 'processed/MIMIC3EachPerson')"
   ]
  },
  {
   "cell_type": "code",
   "execution_count": 5,
   "metadata": {
    "ExecuteTime": {
     "end_time": "2019-03-01T04:09:15.953997Z",
     "start_time": "2019-03-01T04:09:08.509351Z"
    }
   },
   "outputs": [
    {
     "name": "stderr",
     "output_type": "stream",
     "text": [
      "/home/minh/.conda/envs/deepset/lib/python3.6/site-packages/numpy/lib/arraysetops.py:522: FutureWarning: elementwise comparison failed; returning scalar instead, but in the future will perform elementwise comparison\n",
      "  mask |= (ar1 == a)\n"
     ]
    }
   ],
   "source": [
    "train_series_df = pd.read_csv(os.path.join(_PROCESSED_DATA_PATH, 'train_timeseries.csv'),\n",
    "                              index_col=0)\n",
    "\n",
    "train_labels_df = pd.read_csv(os.path.join(_PROCESSED_DATA_PATH, 'train_labels.csv'),\n",
    "                              index_col=0)\n",
    "\n",
    "train_labels_df.drop(['Icustay', 'Ethnicity', 'Gender', 'Age', 'Height', 'Weight',\n",
    "       'Length of Stay', 'Mortality'], axis=1, inplace=True)\n",
    "\n",
    "\n",
    "train_series_df = train_series_df.set_index(['SUBJECT_ID', 'ADMISSION_NUM'])\n",
    "train_labels_df = train_labels_df.set_index(['SUBJECT_ID', 'ADMISSION_NUM'])"
   ]
  },
  {
   "cell_type": "code",
   "execution_count": 6,
   "metadata": {
    "ExecuteTime": {
     "end_time": "2019-03-01T04:09:17.297084Z",
     "start_time": "2019-03-01T04:09:15.955585Z"
    }
   },
   "outputs": [],
   "source": [
    "test_series_df = pd.read_csv(os.path.join(_PROCESSED_DATA_PATH, 'test_timeseries.csv'),\n",
    "                              index_col=0)\n",
    "\n",
    "test_labels_df = pd.read_csv(os.path.join(_PROCESSED_DATA_PATH, 'test_labels.csv'),\n",
    "                              index_col=0)\n",
    "\n",
    "test_labels_df.drop(['Icustay', 'Ethnicity', 'Gender', 'Age', 'Height', 'Weight',\n",
    "       'Length of Stay', 'Mortality'], axis=1, inplace=True)\n",
    "\n",
    "test_series_df = test_series_df.set_index(['SUBJECT_ID', 'ADMISSION_NUM'])\n",
    "test_labels_df = test_labels_df.set_index(['SUBJECT_ID', 'ADMISSION_NUM'])"
   ]
  },
  {
   "cell_type": "code",
   "execution_count": 7,
   "metadata": {
    "ExecuteTime": {
     "end_time": "2019-03-01T04:09:17.312092Z",
     "start_time": "2019-03-01T04:09:17.298386Z"
    }
   },
   "outputs": [],
   "source": [
    "n_features = train_series_df.iloc[0].shape[0]\n",
    "n_class = train_labels_df.iloc[0].shape[0]"
   ]
  },
  {
   "cell_type": "code",
   "execution_count": 8,
   "metadata": {
    "ExecuteTime": {
     "end_time": "2019-03-01T04:09:17.327349Z",
     "start_time": "2019-03-01T04:09:17.313749Z"
    }
   },
   "outputs": [],
   "source": [
    "def group_by_individual(series_df):\n",
    "    #TODO THIS MUTATES series_df\n",
    "    series_df['combined'] = series_df.values.tolist()\n",
    "    series_df['combined'] = series_df['combined'].apply(lambda x : np.array(x))\n",
    "    \n",
    "    temp_df = series_df[['combined']]\n",
    "    temp_df = temp_df.groupby(['SUBJECT_ID', 'ADMISSION_NUM'])['combined'].apply(list).to_frame()\n",
    "    \n",
    "    temp_df['combined'] = temp_df['combined'].apply(lambda x : np.array(x))\n",
    "    return temp_df"
   ]
  },
  {
   "cell_type": "code",
   "execution_count": 9,
   "metadata": {
    "ExecuteTime": {
     "end_time": "2019-03-01T04:09:40.308584Z",
     "start_time": "2019-03-01T04:09:17.328843Z"
    }
   },
   "outputs": [],
   "source": [
    "train_series_df = group_by_individual(train_series_df)\n",
    "test_series_df = group_by_individual(test_series_df)"
   ]
  },
  {
   "cell_type": "code",
   "execution_count": 84,
   "metadata": {
    "ExecuteTime": {
     "end_time": "2019-02-28T19:02:13.514269Z",
     "start_time": "2019-02-28T19:02:13.096884Z"
    }
   },
   "outputs": [],
   "source": [
    "train_indices = list(set(train_series_df.index).intersection(set(train_labels_df.index)))\n",
    "test_indices = list(set(test_series_df.index).intersection(set(test_labels_df.index)))\n",
    "\n",
    "train_indices_idx = np.argsort([len(x) for x in train_series_df.loc[train_indices]['combined']])\n",
    "test_indices_idx = np.argsort([len(x) for x in test_series_df.loc[test_indices]['combined']])\n",
    "\n",
    "train_indices_sorted = np.array(train_indices)[train_indices_idx]\n",
    "test_indices_sorted = np.array(test_indices)[test_indices_idx]\n",
    "\n",
    "\n",
    "np.save('{}/train_indices_idx_sorted_by_len.npy'.format(_PROCESSED_DATA_PATH), train_indices_idx)\n",
    "np.save('{}/test_indices_idx_sorted_by_len.npy'.format(_PROCESSED_DATA_PATH), test_indices_idx)\n",
    "\n",
    "np.save('{}/train_indices_sorted_by_len.npy'.format(_PROCESSED_DATA_PATH), train_indices_sorted)\n",
    "np.save('{}/test_indices_sorted_by_len.npy'.format(_PROCESSED_DATA_PATH), test_indices_sorted)"
   ]
  },
  {
   "cell_type": "code",
   "execution_count": 10,
   "metadata": {
    "ExecuteTime": {
     "end_time": "2019-03-01T04:09:40.363326Z",
     "start_time": "2019-03-01T04:09:40.310285Z"
    }
   },
   "outputs": [],
   "source": [
    "test_indices_sorted = np.load(\"{}/test_indices_sorted_by_len.npy\".format(_PROCESSED_DATA_PATH))\n",
    "train_indices_sorted = np.load(\"{}/train_indices_sorted_by_len.npy\".format(_PROCESSED_DATA_PATH))\n",
    "\n",
    "train_indices_sorted = list(map(tuple, train_indices_sorted))\n",
    "test_indices_sorted = list(map(tuple, test_indices_sorted))"
   ]
  },
  {
   "cell_type": "code",
   "execution_count": 11,
   "metadata": {
    "ExecuteTime": {
     "end_time": "2019-03-01T04:09:41.042904Z",
     "start_time": "2019-03-01T04:09:40.364728Z"
    }
   },
   "outputs": [],
   "source": [
    "train_series_df = train_series_df.loc[train_indices_sorted]\n",
    "train_labels_df = train_labels_df.loc[train_indices_sorted]\n",
    "\n",
    "test_series_df = test_series_df.loc[test_indices_sorted]\n",
    "test_labels_df = test_labels_df.loc[test_indices_sorted]"
   ]
  },
  {
   "cell_type": "code",
   "execution_count": 12,
   "metadata": {
    "ExecuteTime": {
     "end_time": "2019-03-01T04:11:19.796615Z",
     "start_time": "2019-03-01T04:09:41.043881Z"
    }
   },
   "outputs": [],
   "source": [
    "train_series_df.to_csv('{}/train_timeseries_sorted_len.csv'.format(_PROCESSED_DATA_PATH))\n",
    "train_labels_df.to_csv('{}/train_timelabels_sorted_len.csv'.format(_PROCESSED_DATA_PATH))\n",
    "\n",
    "test_series_df.to_csv('{}/test_timeseries_sorted_len.csv'.format(_PROCESSED_DATA_PATH))\n",
    "test_labels_df.to_csv('{}/test_timelabels_sorted_len.csv'.format(_PROCESSED_DATA_PATH))"
   ]
  },
  {
   "cell_type": "markdown",
   "metadata": {},
   "source": [
    "# Training Model"
   ]
  },
  {
   "cell_type": "code",
   "execution_count": 13,
   "metadata": {
    "ExecuteTime": {
     "end_time": "2019-03-01T04:15:49.019943Z",
     "start_time": "2019-03-01T04:15:49.006486Z"
    }
   },
   "outputs": [],
   "source": [
    "_MODEL_LOG_ROOT_PATH = 'logs/MIMIC3/VisitTimeSeries'\n",
    "_MODEL_ROOT_PATH = 'models/MIMIC3/VisitTimeSeries'"
   ]
  },
  {
   "cell_type": "code",
   "execution_count": 14,
   "metadata": {
    "ExecuteTime": {
     "end_time": "2019-03-01T04:15:49.352107Z",
     "start_time": "2019-03-01T04:15:49.314905Z"
    }
   },
   "outputs": [
    {
     "name": "stderr",
     "output_type": "stream",
     "text": [
      "/home/minh/.conda/envs/deepset/lib/python3.6/site-packages/torch/nn/modules/rnn.py:46: UserWarning: dropout option adds dropout after all but last recurrent layer, so non-zero dropout expects num_layers greater than 1, but got dropout=0.5 and num_layers=1\n",
      "  \"num_layers={}\".format(dropout, num_layers))\n"
     ]
    }
   ],
   "source": [
    "from src.model.lstm import LSTMClassifier\n",
    "\n",
    "ModelArgs = namedtuple('HospitalVisitLSTMClassifier', \n",
    "                      ['hidden_dims',\n",
    "                       'n_epoch',\n",
    "                       'lr',\n",
    "                       'momentum',\n",
    "                      'n_layers',\n",
    "                      'dropout',\n",
    "                      'batch_size']\n",
    "                      )\n",
    "args = ModelArgs(\n",
    "    hidden_dims=[500,200],\n",
    "    n_epoch = 5,\n",
    "    lr = 0.1,\n",
    "    n_layers=1,\n",
    "    momentum = 0.9,\n",
    "    dropout=0.5,\n",
    "    batch_size=50\n",
    ")\n",
    "\n",
    "model_name = str(args)\n",
    "\n",
    "model = LSTMClassifier(hidden_dims=args.hidden_dims,\n",
    "                       input_dim=n_features,\n",
    "                       n_class=n_class,\n",
    "                       dropout=args.dropout)\n",
    "loss_fn = nn.BCEWithLogitsLoss()\n",
    "optimizer = optim.SGD(model.parameters(), lr=args.lr, momentum=args.momentum)\n",
    "experiment_utils.setup_model_logger(_LOGGER, model_name, _MODEL_LOG_ROOT_PATH)"
   ]
  },
  {
   "cell_type": "code",
   "execution_count": 15,
   "metadata": {
    "ExecuteTime": {
     "end_time": "2019-03-01T04:15:51.692915Z",
     "start_time": "2019-03-01T04:15:51.611925Z"
    }
   },
   "outputs": [],
   "source": [
    "test_series = test_series_df['combined'].values\n",
    "test_labels = test_labels_df.values\n",
    "\n",
    "test_series_batch_padded = []\n",
    "test_labels_batch = []\n",
    "\n",
    "for i in range(0, len(test_series), args.batch_size):\n",
    "    batch_slice = slice(i, min(i+args.batch_size, len(test_series)))\n",
    "    test_series_batch_padded.append(utils.to_tensor(utils.pad_sequences(test_series[batch_slice])))\n",
    "    test_labels_batch.append(utils.to_tensor(test_labels[batch_slice]))"
   ]
  },
  {
   "cell_type": "code",
   "execution_count": 24,
   "metadata": {
    "ExecuteTime": {
     "end_time": "2019-03-01T04:53:31.920433Z",
     "start_time": "2019-03-01T04:53:31.557206Z"
    }
   },
   "outputs": [],
   "source": [
    "train_series = train_series_df['combined'].values\n",
    "train_labels = train_labels_df.values\n",
    "\n",
    "train_series_batch_padded = []\n",
    "train_labels_batch = []\n",
    "\n",
    "for i in range(0, len(train_series), args.batch_size):\n",
    "    batch_slice = slice(i, min(i+args.batch_size, len(train_series)))\n",
    "    train_series_batch_padded.append(utils.to_tensor(utils.pad_sequences(train_series[batch_slice])))\n",
    "    train_labels_batch.append(utils.to_tensor(train_labels[batch_slice]))"
   ]
  },
  {
   "cell_type": "code",
   "execution_count": 20,
   "metadata": {
    "ExecuteTime": {
     "end_time": "2019-03-01T04:32:08.823788Z",
     "start_time": "2019-03-01T04:31:40.447699Z"
    }
   },
   "outputs": [
    {
     "name": "stderr",
     "output_type": "stream",
     "text": [
      "INFO:VisitTimeSeries:Initial Validation Loss: 0.6942269485148173\n"
     ]
    }
   ],
   "source": [
    "model = model.eval()\n",
    "count = 0\n",
    "total_loss = 0\n",
    "\n",
    "\n",
    "for curr_series, outputs in zip(test_series_batch_padded, test_labels_batch):\n",
    "    logit = model(curr_series)\n",
    "    total_loss += loss_fn(logit, outputs).data.numpy()\n",
    "\n",
    "total_loss = total_loss\n",
    "\n",
    "_LOGGER.info(\"Initial Validation Loss: {}\".format(total_loss/len(test_series_batch_padded)))"
   ]
  },
  {
   "cell_type": "code",
   "execution_count": null,
   "metadata": {
    "ExecuteTime": {
     "start_time": "2019-03-01T05:00:22.448Z"
    }
   },
   "outputs": [
    {
     "name": "stderr",
     "output_type": "stream",
     "text": [
      "INFO:VisitTimeSeries:Training model...\n"
     ]
    }
   ],
   "source": [
    "model = model.train()\n",
    "_LOGGER.info(\"Training model...\")\n",
    "training_losses = []\n",
    "for epoch in range(args.n_epoch):\n",
    "    total_loss = 0\n",
    "    for curr_series, outputs in zip(train_series_batch_padded, train_labels_batch):      \n",
    "        logits = model(curr_series)\n",
    "        loss = loss_fn(logits, outputs)\n",
    "        total_loss += loss.data.numpy()\n",
    "        loss.backward()\n",
    "        optimizer.step()\n",
    "    mean_loss = total_loss/len(train_series_batch_padded)\n",
    "    _LOGGER.info(\"Epoch: {}, Loss: {}\".format(epoch, mean_loss))\n",
    "    training_losses.append(mean_loss)"
   ]
  },
  {
   "cell_type": "code",
   "execution_count": 17,
   "metadata": {
    "ExecuteTime": {
     "end_time": "2019-02-27T17:28:02.463853Z",
     "start_time": "2019-02-27T17:28:02.448599Z"
    }
   },
   "outputs": [
    {
     "data": {
      "text/plain": [
       "35725"
      ]
     },
     "execution_count": 17,
     "metadata": {},
     "output_type": "execute_result"
    }
   ],
   "source": [
    "torch.save(model, \"{}/{}.pt\".format(_MODEL_ROOT_PATH, model_name))"
   ]
  },
  {
   "cell_type": "code",
   "execution_count": null,
   "metadata": {},
   "outputs": [],
   "source": [
    "model = model.eval()\n",
    "count = 0\n",
    "total_loss = 0\n",
    "\n",
    "for idx in test_indices:\n",
    "    curr_series = test_series_df.xs(idx, level=[0,1])\n",
    "    output = test_labels_df.xs(idx, level=[0,1])\n",
    "    \n",
    "    logit = model(utils.to_tensor(curr_series))\n",
    "    total_loss += loss_fn(logit, utils.to_tensor(output))\n",
    "total_loss = total_loss.data.numpy()\n",
    "\n",
    "_LOGGER.info(\"Final Validation Loss: {}\".format(total_loss/len(test_indices)))"
   ]
  },
  {
   "cell_type": "code",
   "execution_count": null,
   "metadata": {},
   "outputs": [],
   "source": [
    "experiment_utils.setup_model_logger(_LOGGER, model_name, _MODEL_LOG_ROOT_PATH)\n",
    "\n",
    "test_losses = experiment_utils.evaluate_validation_loss_template(model, loss_fn, test_series, test_labels)\n",
    "\n",
    "_LOGGER.info(\"Initial Validation Loss: {}\".format(np.mean(test_losses)))\n",
    "\n",
    "\n",
    "training_losses = experiment_utils.train_model_template(model, loss_fn, optimizer, args.n_epoch, train_series, train_labels, _LOGGER)\n",
    "torch.save(model, \"{}/{}.pt\".format(_MODEL_ROOT_PATH, model_name))\n",
    "\n",
    "\n",
    "test_losses = experiment_utils.evaluate_validation_loss_template(model, \n",
    "                                          loss_fn, \n",
    "                                          test_series,\n",
    "                                         test_labels)\n",
    "\n",
    "_LOGGER.info(\"Final Validation Loss: {}\".format(np.mean(test_losses)))"
   ]
  }
 ],
 "metadata": {
  "kernelspec": {
   "display_name": "Python 3",
   "language": "python",
   "name": "python3"
  },
  "language_info": {
   "codemirror_mode": {
    "name": "ipython",
    "version": 3
   },
   "file_extension": ".py",
   "mimetype": "text/x-python",
   "name": "python",
   "nbconvert_exporter": "python",
   "pygments_lexer": "ipython3",
   "version": "3.6.8"
  }
 },
 "nbformat": 4,
 "nbformat_minor": 2
}
