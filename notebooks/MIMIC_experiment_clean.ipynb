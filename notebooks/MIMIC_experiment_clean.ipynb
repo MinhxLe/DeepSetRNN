{
 "cells": [
  {
   "cell_type": "code",
   "execution_count": 1,
   "metadata": {},
   "outputs": [
    {
     "name": "stdout",
     "output_type": "stream",
     "text": [
      "/home/minh/Research/Sriram/DeepSetRNN\n"
     ]
    }
   ],
   "source": [
    "%load_ext autoreload\n",
    "%autoreload 2\n",
    "%cd ~/Research/Sriram/DeepSetRNN\n",
    "\n",
    "import pandas as pd\n",
    "from sklearn import metrics\n",
    "import matplotlib.pyplot as plt\n",
    "import numpy as np\n",
    "from collections import defaultdict\n",
    "import os\n",
    "import string\n",
    "import pickle\n",
    "\n",
    "import torch\n",
    "import torch.nn as nn\n",
    "import torch.nn.functional as F\n",
    "import torch.optim as optim\n",
    "import logging\n",
    "import os\n",
    "import importlib\n",
    "\n",
    "from src import convert_dot_format\n",
    "\n",
    "DATA_PATH='data/MIMIC3database'"
   ]
  },
  {
   "cell_type": "code",
   "execution_count": 2,
   "metadata": {},
   "outputs": [],
   "source": [
    "logging.info(\"starting logger\")\n",
    "_LOGGER = logging.getLogger('MIMIC_seq_model')\n",
    "_LOGGER.setLevel(logging.DEBUG)"
   ]
  },
  {
   "cell_type": "code",
   "execution_count": 3,
   "metadata": {},
   "outputs": [],
   "source": [
    "diagnoses_procedures_df = pd.read_csv('data/MIMIC3database/processed/ICD9_diagnoses_procedures_mimic_idx_sentences.csv', index_col=0)"
   ]
  },
  {
   "cell_type": "code",
   "execution_count": 4,
   "metadata": {},
   "outputs": [],
   "source": [
    "#only retaining top 100 diagnoses\n",
    "diagnoses_counts = diagnoses_procedures_df['ICD9_CODE_diagnoses'].value_counts()\n",
    "procedures_counts = diagnoses_procedures_df['ICD9_CODE_procedures'].value_counts()\n",
    "\n",
    "k = 100\n",
    "diagnoses_set = set(diagnoses_counts.keys()[:k])\n",
    "procedures_set = set(procedures_counts.keys()[:k])\n",
    "\n",
    "diagnoses_procedures_df = diagnoses_procedures_df[diagnoses_procedures_df['ICD9_CODE_diagnoses'].isin(diagnoses_set) \n",
    "                                                        | diagnoses_procedures_df['ICD9_CODE_procedures'].isin(procedures_set)]\n",
    "diagnoses_procedures_df.to_csv('data/MIMIC3database/processed/ICD9_diagnoses_procedures_mimic_idx_sentences_top_{}.cs'.format(k))"
   ]
  },
  {
   "cell_type": "code",
   "execution_count": 5,
   "metadata": {},
   "outputs": [],
   "source": [
    "#converting sentences to a single column\n",
    "diagnoses_procedures_df['DIAGNOSES_SENTENCES'] = diagnoses_procedures_df[['0_diagnoses', '1_diagnoses',\n",
    "       '2_diagnoses', '3_diagnoses', '4_diagnoses', '5_diagnoses',\n",
    "       '6_diagnoses', '7_diagnoses', '8_diagnoses', '9_diagnoses',\n",
    "       '10_diagnoses', '11_diagnoses', '12_diagnoses', '13_diagnoses',\n",
    "       '14_diagnoses', '15_diagnoses', '16_diagnoses', '17_diagnoses',\n",
    "       '18_diagnoses', '19_diagnoses', '20_diagnoses', '21_diagnoses', '22',\n",
    "       '23', '24', '25', '26', '27', '28', '29', '30', '31']].values.tolist()\n",
    "\n",
    "diagnoses_procedures_df['PROCEDURES_SENTENCES'] = diagnoses_procedures_df[\n",
    "    ['0_procedures', '1_procedures', '2_procedures', '3_procedures',\n",
    "       '4_procedures', '5_procedures', '6_procedures', '7_procedures',\n",
    "       '8_procedures', '9_procedures', '10_procedures', '11_procedures',\n",
    "       '12_procedures', '13_procedures', '14_procedures', '15_procedures',\n",
    "       '16_procedures', '17_procedures', '18_procedures', '19_procedures',\n",
    "       '20_procedures', '21_procedures']].values.tolist()"
   ]
  },
  {
   "cell_type": "code",
   "execution_count": 6,
   "metadata": {},
   "outputs": [],
   "source": [
    "data = list(diagnoses_procedures_df.groupby(['SUBJECT_ID']))\n",
    "data = [(subject_id, list(subject_data.groupby(['HADM_ID', 'ADMITTIME']))) for subject_id, subject_data in data]"
   ]
  },
  {
   "cell_type": "code",
   "execution_count": 7,
   "metadata": {},
   "outputs": [],
   "source": [
    "inputs = []\n",
    "for _, subject in data:\n",
    "    series = []\n",
    "    for _, timestep in subject:\n",
    "        timestep = timestep[timestep['ICD9_CODE_diagnoses'].isin(diagnoses_set)\n",
    "                           | timestep['ICD9_CODE_procedures'].isin(procedures_set)]\n",
    "        if len(timestep) > 0:\n",
    "            series.append((np.stack(timestep['DIAGNOSES_SENTENCES'],axis=0), np.stack(timestep['PROCEDURES_SENTENCES'],axis=0)))\n",
    "        #for _, timestep in timesteps:\n",
    "        #    print(timestep)\n",
    "    if len(series) > 0:\n",
    "        inputs.append(series)"
   ]
  },
  {
   "cell_type": "code",
   "execution_count": 8,
   "metadata": {},
   "outputs": [],
   "source": [
    "diagnoses_idx_map = {}\n",
    "\n",
    "for i, code in enumerate(diagnoses_counts.keys()[:k]):\n",
    "    diagnoses_idx_map[code] = i"
   ]
  },
  {
   "cell_type": "code",
   "execution_count": 9,
   "metadata": {},
   "outputs": [],
   "source": [
    "diagnoses_counts.keys()[:k]\n",
    "outputs = []\n",
    "\n",
    "def get_onehot_vector(indices, k):\n",
    "    prediction = np.zeros(k, dtype='float32')\n",
    "    prediction[indices] = 1\n",
    "    return prediction\n",
    "\n",
    "for _, subject in data:\n",
    "    series = []\n",
    "    for _, timestep in subject:\n",
    "        indices = [diagnoses_idx_map[key] for key in timestep['ICD9_CODE_diagnoses'] \\\n",
    "                  if key in diagnoses_set]\n",
    "        series.append(get_onehot_vector(indices, k))\n",
    "    outputs.append(np.array(series))\n",
    "#outputs = list(map(get_key, outputs))"
   ]
  },
  {
   "cell_type": "code",
   "execution_count": 10,
   "metadata": {},
   "outputs": [],
   "source": [
    "min_len = 3\n",
    "\n",
    "all_inputs = inputs\n",
    "all_outputs = outputs\n",
    "\n",
    "inputs = list(filter(lambda x : len(x) >= min_len, all_inputs))\n",
    "outputs = list(filter(lambda x: len(x) >= min_len, all_outputs))\n",
    "\n",
    "n_seq = len(inputs)\n",
    "\n",
    "split = int(n_seq*0.8)\n",
    "train_inputs = inputs[:split]\n",
    "train_outputs =  outputs[:split]\n",
    "\n",
    "test_inputs = inputs[split:n_seq]\n",
    "test_outputs = outputs[split:n_seq]"
   ]
  },
  {
   "cell_type": "code",
   "execution_count": null,
   "metadata": {},
   "outputs": [],
   "source": [
    "len(inputs)"
   ]
  },
  {
   "cell_type": "code",
   "execution_count": 11,
   "metadata": {},
   "outputs": [],
   "source": [
    "word_embedding = pd.read_csv('data/embeddings/w2vModel1Gram9Jan2019_mimic_only.txt', index_col=0)\n",
    "word_embedding.drop('0',axis=1,inplace=True)\n",
    "word_embedding = torch.tensor(word_embedding.astype('float32').values)"
   ]
  },
  {
   "cell_type": "code",
   "execution_count": 12,
   "metadata": {},
   "outputs": [],
   "source": [
    "#MODEL DEFINITION\n",
    "from src.model.mimic_deepset import SetSequenceModel\n",
    "\n",
    "n_diagnoses = k\n",
    "hidden_dim=[1000,100]\n",
    "n_epoch = 10\n",
    "freeze_embedding = True\n",
    "\n",
    "_LOGGER.handlers = [\n",
    "    h for h in _LOGGER.handlers if not isinstance(h, logging.StreamHandler)]\n",
    "model_name = \"diagnoses_classifier_top_{}_{}hd_{}\".format(k, hidden_dim, n_epoch)\n",
    "fh = logging.FileHandler('logs/MIMIC3/{}.log'.format(model_name))\n",
    "fh.setLevel(logging.DEBUG)\n",
    "_LOGGER.addHandler(fh)\n",
    "\n",
    "loss_fn = nn.BCEWithLogitsLoss()\n",
    "model = SetSequenceModel(hidden_dim=hidden_dim, n_class=n_diagnoses,embedding=word_embedding, freeze_embedding=freeze_embedding)"
   ]
  },
  {
   "cell_type": "code",
   "execution_count": 15,
   "metadata": {},
   "outputs": [
    {
     "name": "stderr",
     "output_type": "stream",
     "text": [
      "INFO:MIMIC_seq_model:Validation Loss: 0.692812442779541\n"
     ]
    }
   ],
   "source": [
    "test_losses = []\n",
    "for sequence, target in zip(test_inputs, test_outputs):\n",
    "    model.hidden = model.init_hidden()\n",
    "    logits = model(sequence)\n",
    "    \n",
    "    loss = loss_fn(logits[:-1],torch.tensor(target[1:]))\n",
    "    test_losses.append(loss.data)\n",
    "_LOGGER.info(\"Validation Loss: {}\".format(np.mean(test_losses)))"
   ]
  },
  {
   "cell_type": "code",
   "execution_count": 16,
   "metadata": {},
   "outputs": [
    {
     "name": "stderr",
     "output_type": "stream",
     "text": [
      "INFO:MIMIC_seq_model:epoch 0: 0.21778380870819092\n",
      "INFO:MIMIC_seq_model:epoch 1: 0.17794924974441528\n",
      "INFO:MIMIC_seq_model:epoch 2: 0.15421701967716217\n",
      "INFO:MIMIC_seq_model:epoch 3: 0.13635408878326416\n",
      "INFO:MIMIC_seq_model:epoch 4: 0.1224445030093193\n",
      "INFO:MIMIC_seq_model:epoch 5: 0.11081551015377045\n",
      "INFO:MIMIC_seq_model:epoch 6: 0.09973505884408951\n",
      "INFO:MIMIC_seq_model:epoch 7: 0.09157151728868484\n",
      "INFO:MIMIC_seq_model:epoch 8: 0.08456550538539886\n",
      "INFO:MIMIC_seq_model:epoch 9: 0.07857616990804672\n"
     ]
    }
   ],
   "source": [
    "optimizer = optim.SGD(model.parameters(), lr=0.1, momentum=.9)\n",
    "losses = []\n",
    "\n",
    "\n",
    "for epoch in range(n_epoch):\n",
    "    curr_losses = []\n",
    "    for sequence, target in zip(train_inputs,\n",
    "                                train_outputs):\n",
    "        model.zero_grad()\n",
    "        model.hidden = model.init_hidden()\n",
    "        \n",
    "        logits = model(sequence)\n",
    "        loss = loss_fn(logits[1:], torch.tensor(target[1:]))\n",
    "        curr_losses.append(loss.data)\n",
    "        loss.backward()\n",
    "        optimizer.step()\n",
    "    mean_loss = np.mean(curr_losses)\n",
    "    losses.append(mean_loss)\n",
    "    _LOGGER.info(\"epoch {}: {}\".format(epoch, mean_loss))"
   ]
  },
  {
   "cell_type": "code",
   "execution_count": 19,
   "metadata": {},
   "outputs": [
    {
     "name": "stderr",
     "output_type": "stream",
     "text": [
      "INFO:MIMIC_seq_model:final validation Loss: 0.36749565601348877\n"
     ]
    }
   ],
   "source": [
    "test_losses = []\n",
    "for sequence, target in zip(test_inputs, test_outputs):\n",
    "    model.hidden = model.init_hidden()\n",
    "    logits = model(sequence)\n",
    "    loss = loss_fn(logits[:-1],torch.tensor(target[1:]))\n",
    "    test_losses.append(loss.data)\n",
    "_LOGGER.info(\"final validation Loss: {}\".format(np.mean(test_losses)))"
   ]
  },
  {
   "cell_type": "code",
   "execution_count": 20,
   "metadata": {},
   "outputs": [],
   "source": [
    "#saving model\n",
    "torch.save(model, 'models/MIMIC3/{}.pt'.format(model_name))"
   ]
  },
  {
   "cell_type": "code",
   "execution_count": 12,
   "metadata": {},
   "outputs": [],
   "source": [
    "model = torch.load('models/MIMIC3/diagnoses_classifier_top_100_[1000, 100]hd_10.pt')"
   ]
  },
  {
   "cell_type": "code",
   "execution_count": 13,
   "metadata": {},
   "outputs": [],
   "source": [
    "sigmoid = nn.Sigmoid()\n",
    "test_model_outputs = []\n",
    "all_logits = []\n",
    "predictions = []\n",
    "for sequence, target in zip(test_inputs, test_outputs):\n",
    "    model.hidden = model.init_hidden()\n",
    "    logits = model(sequence)\n",
    "    #loss = loss_fn(logits[:-1],torch.tensor(target[1:]))\n",
    "    #test_losses.append(loss.data)\n",
    "    model_output = sigmoid(logits).detach().numpy()\n",
    "    prediction = model_output > 0.5\n",
    "    prediction = prediction.astype(np.float32)\n",
    "    all_logits.append(logits.detach().numpy())\n",
    "    test_model_outputs.append(model_output)\n",
    "    predictions.append(prediction)"
   ]
  },
  {
   "cell_type": "code",
   "execution_count": 18,
   "metadata": {},
   "outputs": [
    {
     "name": "stdout",
     "output_type": "stream",
     "text": [
      "0.58153254\n"
     ]
    }
   ],
   "source": [
    "#k at\n",
    "from src.utils import precision_at_k\n",
    "k = 1\n",
    "precisions_at_k = []\n",
    "for logit, true_output in zip(all_logits, test_outputs):\n",
    "    precisions_at_k.append(precision_at_k(logit[:-1], true_output[1:], k))\n",
    "\n",
    "print(np.mean(precisions_at_k))"
   ]
  },
  {
   "cell_type": "code",
   "execution_count": 19,
   "metadata": {},
   "outputs": [],
   "source": [
    "#confidence interval\n",
    "k = 1\n",
    "n_bootstrap = 1000\n",
    "n_samples = 1000\n",
    "from sklearn.utils import resample\n",
    "from src.utils import precision_at_k\n",
    "\n",
    "bootstrap_ks = []\n",
    "for _ in range(n_bootstrap):\n",
    "    bootstrap_logits, bootstrap_outputs = resample(all_logits, test_outputs, n_samples=n_samples)\n",
    "    precisions_at_k = []\n",
    "    for logit, true_output in zip(bootstrap_logits, bootstrap_outputs):\n",
    "        precisions_at_k.append(precision_at_k(logit[:-1], true_output[1:], k))\n",
    "    bootstrap_ks.append(np.mean(precisions_at_k))\n",
    "bootstrap_ks = bootstrap_ks[1:]"
   ]
  },
  {
   "cell_type": "code",
   "execution_count": 20,
   "metadata": {},
   "outputs": [
    {
     "data": {
      "text/plain": [
       "(0.5810486950624776, 0.5824855885755229)"
      ]
     },
     "execution_count": 20,
     "metadata": {},
     "output_type": "execute_result"
    }
   ],
   "source": [
    "import numpy as np, scipy.stats as st\n",
    "\n",
    "st.t.interval(0.95, len(bootstrap_ks)-1, loc=np.mean(bootstrap_ks), scale=st.sem(bootstrap_ks))"
   ]
  },
  {
   "cell_type": "code",
   "execution_count": 21,
   "metadata": {},
   "outputs": [
    {
     "data": {
      "text/plain": [
       "(array([  5.,  13.,  58., 181., 239., 251., 160.,  67.,  21.,   4.]),\n",
       " array([0.5427359 , 0.55050105, 0.5582662 , 0.5660314 , 0.5737966 ,\n",
       "        0.5815618 , 0.589327  , 0.59709215, 0.6048573 , 0.6126225 ,\n",
       "        0.6203877 ], dtype=float32),\n",
       " <a list of 10 Patch objects>)"
      ]
     },
     "execution_count": 21,
     "metadata": {},
     "output_type": "execute_result"
    },
    {
     "data": {
      "image/png": "[encoded data removed]",
      "text/plain": [
       "<Figure size 432x288 with 1 Axes>"
      ]
     },
     "metadata": {
      "needs_background": "light"
     },
     "output_type": "display_data"
    }
   ],
   "source": [
    "plt.hist(bootstrap_ks,bins=20 )"
   ]
  },
  {
   "cell_type": "code",
   "execution_count": 92,
   "metadata": {},
   "outputs": [],
   "source": [
    "########5 minutes model##########\n",
    "#preprocessing inputs to matrix\n",
    "\n",
    "\n",
    "#logistic regression\n",
    "from src.model.mimic_deepset import FullyConnectedNetworkClassifier\n",
    "\n",
    "model = FullyConnectedNetworkClassifier(100, word_embedding, [1000, 100])\n",
    "loss_fn = nn.BCEWithLogitsLoss()"
   ]
  },
  {
   "cell_type": "code",
   "execution_count": 93,
   "metadata": {},
   "outputs": [
    {
     "name": "stderr",
     "output_type": "stream",
     "text": [
      "INFO:MIMIC_seq_model:Validation Loss: 0.6941178441047668\n"
     ]
    }
   ],
   "source": [
    "test_losses = []\n",
    "for sequence, target in zip(test_inputs, test_outputs):\n",
    "    logits = model(sequence)\n",
    "    \n",
    "    loss = loss_fn(logits[:-1],torch.tensor(target[1:]))\n",
    "    test_losses.append(loss.data)\n",
    "_LOGGER.info(\"Validation Loss: {}\".format(np.mean(test_losses)))"
   ]
  },
  {
   "cell_type": "code",
   "execution_count": 102,
   "metadata": {},
   "outputs": [
    {
     "name": "stderr",
     "output_type": "stream",
     "text": [
      "INFO:MIMIC_seq_model:epoch 0: 0.10724962502717972\n",
      "INFO:MIMIC_seq_model:epoch 1: 0.10362500697374344\n",
      "INFO:MIMIC_seq_model:epoch 2: 0.09642152488231659\n",
      "INFO:MIMIC_seq_model:epoch 3: 0.09299089759588242\n",
      "INFO:MIMIC_seq_model:epoch 4: 0.09194406121969223\n"
     ]
    }
   ],
   "source": [
    "optimizer = optim.SGD(model.parameters(), lr=0.1, momentum=.9)\n",
    "losses = []\n",
    "n_epoch=5\n",
    "\n",
    "for epoch in range(n_epoch):\n",
    "    curr_losses = []\n",
    "    for sequence, target in zip(train_inputs,\n",
    "                                train_outputs):\n",
    "        model.zero_grad()\n",
    "        \n",
    "        logits = model(sequence)\n",
    "        loss = loss_fn(logits[1:], torch.tensor(target[1:]))\n",
    "        curr_losses.append(loss.data)\n",
    "        loss.backward()\n",
    "        optimizer.step()\n",
    "    mean_loss = np.mean(curr_losses)\n",
    "    losses.append(mean_loss)\n",
    "    _LOGGER.info(\"epoch {}: {}\".format(epoch, mean_loss))"
   ]
  },
  {
   "cell_type": "code",
   "execution_count": 103,
   "metadata": {},
   "outputs": [
    {
     "name": "stderr",
     "output_type": "stream",
     "text": [
      "INFO:MIMIC_seq_model:Validation Loss: 0.417359858751297\n"
     ]
    }
   ],
   "source": [
    "test_losses = []\n",
    "for sequence, target in zip(test_inputs, test_outputs):\n",
    "    logits = model(sequence)\n",
    "    \n",
    "    loss = loss_fn(logits[:-1],torch.tensor(target[1:]))\n",
    "    test_losses.append(loss.data)\n",
    "_LOGGER.info(\"Validation Loss: {}\".format(np.mean(test_losses)))"
   ]
  },
  {
   "cell_type": "code",
   "execution_count": 104,
   "metadata": {},
   "outputs": [],
   "source": [
    "sigmoid = nn.Sigmoid()\n",
    "test_model_outputs = []\n",
    "all_logits = []\n",
    "predictions = []\n",
    "for sequence, target in zip(test_inputs, test_outputs):\n",
    "    logits = model(sequence)\n",
    "    #loss = loss_fn(logits[:-1],torch.tensor(target[1:]))\n",
    "    #test_losses.append(loss.data)\n",
    "    model_output = sigmoid(logits).detach().numpy()\n",
    "    prediction = model_output > 0.5\n",
    "    prediction = prediction.astype(np.float32)\n",
    "    all_logits.append(logits.detach().numpy())\n",
    "    test_model_outputs.append(model_output)\n",
    "    predictions.append(prediction)"
   ]
  },
  {
   "cell_type": "code",
   "execution_count": 105,
   "metadata": {},
   "outputs": [],
   "source": [
    "#confidence interval\n",
    "k = 1\n",
    "n_bootstrap = 1000\n",
    "from sklearn.utils import resample\n",
    "from src.utils import precision_at_k\n",
    "\n",
    "precisions_at_k = []\n",
    "for logit, true_output in zip(all_logits, test_outputs):\n",
    "    precisions_at_k.append(precision_at_k(logit[:-1], true_output[1:], k))\n",
    "\n",
    "bootstrapped_paks = [np.mean(resample(precisions_at_k)) for _ in range(n_bootstrap)]"
   ]
  },
  {
   "cell_type": "code",
   "execution_count": 106,
   "metadata": {},
   "outputs": [
    {
     "data": {
      "text/plain": [
       "(0.5844169880107548, 0.5864697669788692)"
      ]
     },
     "execution_count": 106,
     "metadata": {},
     "output_type": "execute_result"
    }
   ],
   "source": [
    "import numpy as np, scipy.stats as st\n",
    "\n",
    "st.t.interval(0.95, len(bootstrapped_paks)-1, loc=np.mean(bootstrapped_paks), scale=st.sem(bootstrap_ks))"
   ]
  },
  {
   "cell_type": "code",
   "execution_count": 107,
   "metadata": {},
   "outputs": [
    {
     "data": {
      "text/plain": [
       "(array([  4.,   3.,  12.,  19.,  34.,  53., 107., 132., 120., 135., 135.,\n",
       "         84.,  79.,  47.,  17.,  11.,   2.,   3.,   2.,   1.]),\n",
       " array([0.5296049 , 0.535742  , 0.541879  , 0.5480161 , 0.55415314,\n",
       "        0.5602902 , 0.56642723, 0.5725643 , 0.5787014 , 0.5848384 ,\n",
       "        0.59097546, 0.59711254, 0.60324955, 0.6093866 , 0.6155237 ,\n",
       "        0.6216607 , 0.6277978 , 0.63393486, 0.6400719 , 0.64620894,\n",
       "        0.652346  ], dtype=float32),\n",
       " <a list of 20 Patch objects>)"
      ]
     },
     "execution_count": 107,
     "metadata": {},
     "output_type": "execute_result"
    },
    {
     "data": {
      "image/png": "[encoded data removed]",
      "text/plain": [
       "<Figure size 432x288 with 1 Axes>"
      ]
     },
     "metadata": {
      "needs_background": "light"
     },
     "output_type": "display_data"
    }
   ],
   "source": [
    "plt.hist(bootstrapped_paks, bins=20)"
   ]
  },
  {
   "cell_type": "code",
   "execution_count": 108,
   "metadata": {},
   "outputs": [],
   "source": [
    "predictions_flattened = np.concatenate([prediction[:-1] for prediction in predictions]).flatten()\n",
    "true_labels_flattened = np.concatenate([test_output[1:] for test_output in test_outputs]).flatten()"
   ]
  },
  {
   "cell_type": "code",
   "execution_count": 109,
   "metadata": {},
   "outputs": [
    {
     "data": {
      "text/plain": [
       "array([[108635,   3874],\n",
       "       [  6650,   3141]])"
      ]
     },
     "execution_count": 109,
     "metadata": {},
     "output_type": "execute_result"
    }
   ],
   "source": [
    "metrics.confusion_matrix(true_labels_flattened, predictions_flattened)"
   ]
  },
  {
   "cell_type": "code",
   "execution_count": null,
   "metadata": {},
   "outputs": [],
   "source": []
  }
 ],
 "metadata": {
  "kernelspec": {
   "display_name": "deepset",
   "language": "python",
   "name": "deepset"
  },
  "language_info": {
   "codemirror_mode": {
    "name": "ipython",
    "version": 3
   },
   "file_extension": ".py",
   "mimetype": "text/x-python",
   "name": "python",
   "nbconvert_exporter": "python",
   "pygments_lexer": "ipython3",
   "version": "3.6.8"
  }
 },
 "nbformat": 4,
 "nbformat_minor": 2
}
